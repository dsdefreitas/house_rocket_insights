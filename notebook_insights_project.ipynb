{
 "cells": [
  {
   "cell_type": "markdown",
   "id": "d5010eb3",
   "metadata": {},
   "source": [
    "# 0.0 IMPORTS "
   ]
  },
  {
   "cell_type": "code",
   "execution_count": 53,
   "id": "e1f4209b",
   "metadata": {
    "ExecuteTime": {
     "end_time": "2023-05-27T18:38:02.633484Z",
     "start_time": "2023-05-27T18:38:02.611499Z"
    }
   },
   "outputs": [],
   "source": [
    "import warnings\n",
    "import numpy as np \n",
    "import pandas as pd  \n",
    "import seaborn as sns\n",
    "\n",
    "import plotly.express as px \n",
    "import matplotlib.dates as mdates\n",
    "from matplotlib import pyplot as plt \n",
    "\n",
    "sns.set()\n",
    "warnings.filterwarnings( 'ignore' )\n",
    "pd.set_option('display.max_columns', None) \n",
    "pd.set_option('display.float_format', lambda x: '%.2f' %x )"
   ]
  },
  {
   "cell_type": "markdown",
   "id": "696f7431",
   "metadata": {},
   "source": [
    "# 0.1 FUNÇÕES AUXILIARES"
   ]
  },
  {
   "cell_type": "code",
   "execution_count": 2,
   "id": "9e375f50",
   "metadata": {
    "ExecuteTime": {
     "end_time": "2023-05-27T17:29:55.357623Z",
     "start_time": "2023-05-27T17:29:55.344630Z"
    }
   },
   "outputs": [],
   "source": [
    "def choose_season(line): \n",
    "    if line.month == 6 or line.month == 7 or line.month == 8: \n",
    "        return 'summer'\n",
    "    elif line.month == 9 or line.month == 10 or line.month == 11: \n",
    "        return 'autumn' \n",
    "    elif line.month == 12 or line.month == 1 or line.month == 2: \n",
    "        return 'winter' \n",
    "    else: \n",
    "        return 'spring'\n",
    "    \n",
    "def outlier(df, column, h=5, asc=False):  \n",
    "    boxplot = sns.boxplot(data = df[[column]]); \n",
    "    sorted_values = df.sort_values(column,ascending=asc).head(h) \n",
    "    return sorted_values\n",
    "\n",
    "def variance_percentage(previous_value, current_value):\n",
    "    variance = current_value - previous_value\n",
    "    variance_percentage = (variance / previous_value) * 100\n",
    "    return round(variance_percentage, 2) "
   ]
  },
  {
   "cell_type": "markdown",
   "id": "f5eed387",
   "metadata": {},
   "source": [
    "# 0.2 CARREGANDO DADOS"
   ]
  },
  {
   "cell_type": "code",
   "execution_count": 3,
   "id": "8613d1ff",
   "metadata": {
    "ExecuteTime": {
     "end_time": "2023-05-27T17:29:57.676760Z",
     "start_time": "2023-05-27T17:29:57.450029Z"
    }
   },
   "outputs": [],
   "source": [
    "data = pd.read_csv('data/kc_house_data.csv')\n",
    "data_address = pd.read_csv('data/address.csv')\n",
    "data = pd.merge(data, data_address, on='id', how='inner').drop(columns=['query'],axis=1)"
   ]
  },
  {
   "cell_type": "markdown",
   "id": "10807aed",
   "metadata": {},
   "source": [
    "Obs: As informações de endereço dessas propriedades foram coletadas usando o módulo criado: address.py É importante citar que todas as propriedades estão localizadas em Seattle, EUA, portanto, apenas o nome da rua e o número da propriedade foram coletados. Alguns imóveis apresentarão valores NaN em seus endereços, pois para essas propriedades essa informação não estava disponível."
   ]
  },
  {
   "cell_type": "markdown",
   "id": "42e785a6",
   "metadata": {},
   "source": [
    "# 1.0. PASSO 1 - DESCRIÇÃO E LIMPEZA DOS DADOS"
   ]
  },
  {
   "cell_type": "markdown",
   "id": "18838d1c",
   "metadata": {},
   "source": [
    "## 1.1 Dimensões da base de dados"
   ]
  },
  {
   "cell_type": "code",
   "execution_count": 4,
   "id": "f9b57e2f",
   "metadata": {
    "ExecuteTime": {
     "end_time": "2023-05-27T17:30:00.284227Z",
     "start_time": "2023-05-27T17:30:00.278230Z"
    }
   },
   "outputs": [
    {
     "name": "stdout",
     "output_type": "stream",
     "text": [
      "Número de Linhas: 21599\n",
      "Número de Colunas: 23\n"
     ]
    }
   ],
   "source": [
    "print('Número de Linhas: {}'.format(data.shape[0]))\n",
    "print('Número de Colunas: {}'.format(data.shape[1]))"
   ]
  },
  {
   "cell_type": "markdown",
   "id": "d32ec759",
   "metadata": {},
   "source": [
    "## 1.2 Tipo de Dados"
   ]
  },
  {
   "cell_type": "code",
   "execution_count": 5,
   "id": "d1b2de22",
   "metadata": {
    "ExecuteTime": {
     "end_time": "2023-05-27T17:30:04.345469Z",
     "start_time": "2023-05-27T17:30:04.324479Z"
    }
   },
   "outputs": [
    {
     "data": {
      "text/plain": [
       "id                 int64\n",
       "date              object\n",
       "price            float64\n",
       "bedrooms           int64\n",
       "bathrooms        float64\n",
       "sqft_living        int64\n",
       "sqft_lot           int64\n",
       "floors           float64\n",
       "waterfront         int64\n",
       "view               int64\n",
       "condition          int64\n",
       "grade              int64\n",
       "sqft_above         int64\n",
       "sqft_basement      int64\n",
       "yr_built           int64\n",
       "yr_renovated       int64\n",
       "zipcode            int64\n",
       "lat              float64\n",
       "long             float64\n",
       "sqft_living15      int64\n",
       "sqft_lot15         int64\n",
       "road              object\n",
       "house_number      object\n",
       "dtype: object"
      ]
     },
     "execution_count": 5,
     "metadata": {},
     "output_type": "execute_result"
    }
   ],
   "source": [
    "data.dtypes"
   ]
  },
  {
   "cell_type": "code",
   "execution_count": 6,
   "id": "13b54943",
   "metadata": {
    "ExecuteTime": {
     "end_time": "2023-05-27T17:30:06.730580Z",
     "start_time": "2023-05-27T17:30:06.703597Z"
    }
   },
   "outputs": [
    {
     "name": "stdout",
     "output_type": "stream",
     "text": [
      "O número de zeros da coluna id é: 0\n",
      "O número de zeros da coluna date é: 0\n",
      "O número de zeros da coluna price é: 0\n",
      "O número de zeros da coluna bedrooms é: 0\n",
      "O número de zeros da coluna bathrooms é: 3\n",
      "O número de zeros da coluna sqft_living é: 0\n",
      "O número de zeros da coluna sqft_lot é: 0\n",
      "O número de zeros da coluna floors é: 0\n",
      "O número de zeros da coluna waterfront é: 21436\n",
      "O número de zeros da coluna view é: 19477\n",
      "O número de zeros da coluna condition é: 0\n",
      "O número de zeros da coluna grade é: 0\n",
      "O número de zeros da coluna sqft_above é: 0\n",
      "O número de zeros da coluna sqft_basement é: 13113\n",
      "O número de zeros da coluna yr_built é: 0\n",
      "O número de zeros da coluna yr_renovated é: 20685\n",
      "O número de zeros da coluna zipcode é: 0\n",
      "O número de zeros da coluna lat é: 0\n",
      "O número de zeros da coluna long é: 0\n",
      "O número de zeros da coluna sqft_living15 é: 0\n",
      "O número de zeros da coluna sqft_lot15 é: 0\n",
      "O número de zeros da coluna road é: 0\n",
      "O número de zeros da coluna house_number é: 0\n"
     ]
    }
   ],
   "source": [
    "#verificando número de zeros por coluna \n",
    "for column_name in data.columns: \n",
    "    column = data[column_name]\n",
    "    count = column[column == 0].count()\n",
    "    print(f'O número de zeros da coluna {column_name} é: {count}')"
   ]
  },
  {
   "cell_type": "markdown",
   "id": "e73ee91b",
   "metadata": {},
   "source": [
    "# 1.3 Alterando Tipos"
   ]
  },
  {
   "cell_type": "code",
   "execution_count": 7,
   "id": "46653884",
   "metadata": {
    "ExecuteTime": {
     "end_time": "2023-05-27T17:30:14.395251Z",
     "start_time": "2023-05-27T17:30:09.243364Z"
    }
   },
   "outputs": [],
   "source": [
    "#data para datetime\n",
    "data['date'] = pd.to_datetime(data['date'])\n",
    "\n",
    "#deixando a coluna yr_renovated toda em datetime \n",
    "data['yr_renovated'] = data['yr_renovated'].apply(lambda x: pd.to_datetime(1900, format = '%Y') if x == 0 else pd.to_datetime(x, format = '%Y'))\n",
    "\n",
    "#yr_built para datetime \n",
    "data['yr_built'] = pd.to_datetime(data['yr_built'], format = '%Y')"
   ]
  },
  {
   "cell_type": "code",
   "execution_count": 8,
   "id": "12349752",
   "metadata": {
    "ExecuteTime": {
     "end_time": "2023-05-27T17:30:19.082095Z",
     "start_time": "2023-05-27T17:30:19.068105Z"
    },
    "scrolled": false
   },
   "outputs": [
    {
     "data": {
      "text/plain": [
       "id                        int64\n",
       "date             datetime64[ns]\n",
       "price                   float64\n",
       "bedrooms                  int64\n",
       "bathrooms               float64\n",
       "sqft_living               int64\n",
       "sqft_lot                  int64\n",
       "floors                  float64\n",
       "waterfront                int64\n",
       "view                      int64\n",
       "condition                 int64\n",
       "grade                     int64\n",
       "sqft_above                int64\n",
       "sqft_basement             int64\n",
       "yr_built         datetime64[ns]\n",
       "yr_renovated     datetime64[ns]\n",
       "zipcode                   int64\n",
       "lat                     float64\n",
       "long                    float64\n",
       "sqft_living15             int64\n",
       "sqft_lot15                int64\n",
       "road                     object\n",
       "house_number             object\n",
       "dtype: object"
      ]
     },
     "execution_count": 8,
     "metadata": {},
     "output_type": "execute_result"
    }
   ],
   "source": [
    "data.dtypes"
   ]
  },
  {
   "cell_type": "markdown",
   "id": "cfa62a82",
   "metadata": {},
   "source": [
    "## 1.3 Verificando valores NA"
   ]
  },
  {
   "cell_type": "code",
   "execution_count": 9,
   "id": "c2afa37d",
   "metadata": {
    "ExecuteTime": {
     "end_time": "2023-05-27T17:30:21.626159Z",
     "start_time": "2023-05-27T17:30:21.611166Z"
    }
   },
   "outputs": [
    {
     "data": {
      "text/plain": [
       "id                  0\n",
       "date                0\n",
       "price               0\n",
       "bedrooms            0\n",
       "bathrooms           0\n",
       "sqft_living         0\n",
       "sqft_lot            0\n",
       "floors              0\n",
       "waterfront          0\n",
       "view                0\n",
       "condition           0\n",
       "grade               0\n",
       "sqft_above          0\n",
       "sqft_basement       0\n",
       "yr_built            0\n",
       "yr_renovated        0\n",
       "zipcode             0\n",
       "lat                 0\n",
       "long                0\n",
       "sqft_living15       0\n",
       "sqft_lot15          0\n",
       "road              201\n",
       "house_number     1083\n",
       "dtype: int64"
      ]
     },
     "execution_count": 9,
     "metadata": {},
     "output_type": "execute_result"
    }
   ],
   "source": [
    "data.isna().sum()"
   ]
  },
  {
   "cell_type": "markdown",
   "id": "83c45bda",
   "metadata": {},
   "source": [
    "os valores nulos acima, correspondem aos endereços não disponíves"
   ]
  },
  {
   "cell_type": "code",
   "execution_count": 10,
   "id": "6f5ca620",
   "metadata": {
    "ExecuteTime": {
     "end_time": "2023-05-27T17:30:24.036056Z",
     "start_time": "2023-05-27T17:30:24.025061Z"
    }
   },
   "outputs": [],
   "source": [
    "#preenchendo valores NA \n",
    "\n",
    "data['road'] = data['road'].fillna('undefined')\n",
    "data['house_number'] = data['house_number'].fillna('undefined')"
   ]
  },
  {
   "cell_type": "markdown",
   "id": "25dbcc8e",
   "metadata": {},
   "source": [
    "# 1.4 checando ID's duplicados"
   ]
  },
  {
   "cell_type": "code",
   "execution_count": 12,
   "id": "6d6a5106",
   "metadata": {
    "ExecuteTime": {
     "end_time": "2023-05-27T17:30:33.109101Z",
     "start_time": "2023-05-27T17:30:33.093110Z"
    }
   },
   "outputs": [
    {
     "data": {
      "text/plain": [
       "795000620     3\n",
       "8651510380    2\n",
       "2568300045    2\n",
       "9353300600    2\n",
       "4139480200    2\n",
       "             ..\n",
       "2767603649    1\n",
       "1446403617    1\n",
       "5602000275    1\n",
       "1786200010    1\n",
       "1523300157    1\n",
       "Name: id, Length: 21422, dtype: int64"
      ]
     },
     "execution_count": 12,
     "metadata": {},
     "output_type": "execute_result"
    }
   ],
   "source": [
    "data['id'].value_counts()"
   ]
  },
  {
   "cell_type": "code",
   "execution_count": 13,
   "id": "e0bb685c",
   "metadata": {
    "ExecuteTime": {
     "end_time": "2023-05-27T17:30:34.949716Z",
     "start_time": "2023-05-27T17:30:34.924731Z"
    }
   },
   "outputs": [],
   "source": [
    "#apagando id's duplicados\n",
    "data.drop_duplicates(subset=['id'], inplace=True, keep='first') "
   ]
  },
  {
   "cell_type": "code",
   "execution_count": 14,
   "id": "439b2432",
   "metadata": {
    "ExecuteTime": {
     "end_time": "2023-05-27T17:30:37.045971Z",
     "start_time": "2023-05-27T17:30:37.024984Z"
    }
   },
   "outputs": [
    {
     "name": "stdout",
     "output_type": "stream",
     "text": [
      "Número de Linhas: 21422\n",
      "Número de Colunas: 23\n"
     ]
    }
   ],
   "source": [
    "print('Número de Linhas: {}'.format(data.shape[0]))\n",
    "print('Número de Colunas: {}'.format(data.shape[1]))"
   ]
  },
  {
   "cell_type": "markdown",
   "id": "edd2ce6a",
   "metadata": {},
   "source": [
    "# 1.5 Estatística Descritiva"
   ]
  },
  {
   "cell_type": "code",
   "execution_count": 15,
   "id": "b583ce02",
   "metadata": {
    "ExecuteTime": {
     "end_time": "2023-05-27T17:30:39.500844Z",
     "start_time": "2023-05-27T17:30:39.379919Z"
    },
    "scrolled": true
   },
   "outputs": [
    {
     "data": {
      "text/html": [
       "<div>\n",
       "<style scoped>\n",
       "    .dataframe tbody tr th:only-of-type {\n",
       "        vertical-align: middle;\n",
       "    }\n",
       "\n",
       "    .dataframe tbody tr th {\n",
       "        vertical-align: top;\n",
       "    }\n",
       "\n",
       "    .dataframe thead th {\n",
       "        text-align: right;\n",
       "    }\n",
       "</style>\n",
       "<table border=\"1\" class=\"dataframe\">\n",
       "  <thead>\n",
       "    <tr style=\"text-align: right;\">\n",
       "      <th></th>\n",
       "      <th>price</th>\n",
       "      <th>bedrooms</th>\n",
       "      <th>bathrooms</th>\n",
       "      <th>sqft_living</th>\n",
       "      <th>sqft_lot</th>\n",
       "      <th>floors</th>\n",
       "      <th>view</th>\n",
       "      <th>condition</th>\n",
       "      <th>grade</th>\n",
       "      <th>sqft_above</th>\n",
       "      <th>sqft_basement</th>\n",
       "      <th>zipcode</th>\n",
       "      <th>lat</th>\n",
       "      <th>long</th>\n",
       "      <th>sqft_living15</th>\n",
       "      <th>sqft_lot15</th>\n",
       "    </tr>\n",
       "  </thead>\n",
       "  <tbody>\n",
       "    <tr>\n",
       "      <th>count</th>\n",
       "      <td>21422.00</td>\n",
       "      <td>21422.00</td>\n",
       "      <td>21422.00</td>\n",
       "      <td>21422.00</td>\n",
       "      <td>21422.00</td>\n",
       "      <td>21422.00</td>\n",
       "      <td>21422.00</td>\n",
       "      <td>21422.00</td>\n",
       "      <td>21422.00</td>\n",
       "      <td>21422.00</td>\n",
       "      <td>21422.00</td>\n",
       "      <td>21422.00</td>\n",
       "      <td>21422.00</td>\n",
       "      <td>21422.00</td>\n",
       "      <td>21422.00</td>\n",
       "      <td>21422.00</td>\n",
       "    </tr>\n",
       "    <tr>\n",
       "      <th>mean</th>\n",
       "      <td>540604.16</td>\n",
       "      <td>3.37</td>\n",
       "      <td>2.12</td>\n",
       "      <td>2082.95</td>\n",
       "      <td>15130.60</td>\n",
       "      <td>1.50</td>\n",
       "      <td>0.24</td>\n",
       "      <td>3.41</td>\n",
       "      <td>7.66</td>\n",
       "      <td>1791.05</td>\n",
       "      <td>291.91</td>\n",
       "      <td>98077.87</td>\n",
       "      <td>47.56</td>\n",
       "      <td>-122.21</td>\n",
       "      <td>1988.32</td>\n",
       "      <td>12778.26</td>\n",
       "    </tr>\n",
       "    <tr>\n",
       "      <th>std</th>\n",
       "      <td>367696.64</td>\n",
       "      <td>0.90</td>\n",
       "      <td>0.77</td>\n",
       "      <td>918.92</td>\n",
       "      <td>41529.35</td>\n",
       "      <td>0.54</td>\n",
       "      <td>0.77</td>\n",
       "      <td>0.65</td>\n",
       "      <td>1.17</td>\n",
       "      <td>828.75</td>\n",
       "      <td>442.86</td>\n",
       "      <td>53.48</td>\n",
       "      <td>0.14</td>\n",
       "      <td>0.14</td>\n",
       "      <td>685.55</td>\n",
       "      <td>27345.18</td>\n",
       "    </tr>\n",
       "    <tr>\n",
       "      <th>min</th>\n",
       "      <td>75000.00</td>\n",
       "      <td>1.00</td>\n",
       "      <td>0.00</td>\n",
       "      <td>370.00</td>\n",
       "      <td>520.00</td>\n",
       "      <td>1.00</td>\n",
       "      <td>0.00</td>\n",
       "      <td>1.00</td>\n",
       "      <td>3.00</td>\n",
       "      <td>370.00</td>\n",
       "      <td>0.00</td>\n",
       "      <td>98001.00</td>\n",
       "      <td>47.16</td>\n",
       "      <td>-122.52</td>\n",
       "      <td>399.00</td>\n",
       "      <td>651.00</td>\n",
       "    </tr>\n",
       "    <tr>\n",
       "      <th>25%</th>\n",
       "      <td>322500.00</td>\n",
       "      <td>3.00</td>\n",
       "      <td>1.75</td>\n",
       "      <td>1430.00</td>\n",
       "      <td>5040.00</td>\n",
       "      <td>1.00</td>\n",
       "      <td>0.00</td>\n",
       "      <td>3.00</td>\n",
       "      <td>7.00</td>\n",
       "      <td>1200.00</td>\n",
       "      <td>0.00</td>\n",
       "      <td>98033.00</td>\n",
       "      <td>47.47</td>\n",
       "      <td>-122.33</td>\n",
       "      <td>1490.00</td>\n",
       "      <td>5100.00</td>\n",
       "    </tr>\n",
       "    <tr>\n",
       "      <th>50%</th>\n",
       "      <td>450000.00</td>\n",
       "      <td>3.00</td>\n",
       "      <td>2.25</td>\n",
       "      <td>1920.00</td>\n",
       "      <td>7615.00</td>\n",
       "      <td>1.50</td>\n",
       "      <td>0.00</td>\n",
       "      <td>3.00</td>\n",
       "      <td>7.00</td>\n",
       "      <td>1560.00</td>\n",
       "      <td>0.00</td>\n",
       "      <td>98065.00</td>\n",
       "      <td>47.57</td>\n",
       "      <td>-122.23</td>\n",
       "      <td>1840.00</td>\n",
       "      <td>7620.00</td>\n",
       "    </tr>\n",
       "    <tr>\n",
       "      <th>75%</th>\n",
       "      <td>645000.00</td>\n",
       "      <td>4.00</td>\n",
       "      <td>2.50</td>\n",
       "      <td>2550.00</td>\n",
       "      <td>10696.75</td>\n",
       "      <td>2.00</td>\n",
       "      <td>0.00</td>\n",
       "      <td>4.00</td>\n",
       "      <td>8.00</td>\n",
       "      <td>2220.00</td>\n",
       "      <td>560.00</td>\n",
       "      <td>98117.00</td>\n",
       "      <td>47.68</td>\n",
       "      <td>-122.12</td>\n",
       "      <td>2370.00</td>\n",
       "      <td>10087.75</td>\n",
       "    </tr>\n",
       "    <tr>\n",
       "      <th>max</th>\n",
       "      <td>7700000.00</td>\n",
       "      <td>11.00</td>\n",
       "      <td>8.00</td>\n",
       "      <td>13540.00</td>\n",
       "      <td>1651359.00</td>\n",
       "      <td>3.50</td>\n",
       "      <td>4.00</td>\n",
       "      <td>5.00</td>\n",
       "      <td>13.00</td>\n",
       "      <td>9410.00</td>\n",
       "      <td>4820.00</td>\n",
       "      <td>98199.00</td>\n",
       "      <td>47.78</td>\n",
       "      <td>-121.31</td>\n",
       "      <td>6210.00</td>\n",
       "      <td>871200.00</td>\n",
       "    </tr>\n",
       "  </tbody>\n",
       "</table>\n",
       "</div>"
      ],
      "text/plain": [
       "           price  bedrooms  bathrooms  sqft_living   sqft_lot   floors  \\\n",
       "count   21422.00  21422.00   21422.00     21422.00   21422.00 21422.00   \n",
       "mean   540604.16      3.37       2.12      2082.95   15130.60     1.50   \n",
       "std    367696.64      0.90       0.77       918.92   41529.35     0.54   \n",
       "min     75000.00      1.00       0.00       370.00     520.00     1.00   \n",
       "25%    322500.00      3.00       1.75      1430.00    5040.00     1.00   \n",
       "50%    450000.00      3.00       2.25      1920.00    7615.00     1.50   \n",
       "75%    645000.00      4.00       2.50      2550.00   10696.75     2.00   \n",
       "max   7700000.00     11.00       8.00     13540.00 1651359.00     3.50   \n",
       "\n",
       "          view  condition    grade  sqft_above  sqft_basement  zipcode  \\\n",
       "count 21422.00   21422.00 21422.00    21422.00       21422.00 21422.00   \n",
       "mean      0.24       3.41     7.66     1791.05         291.91 98077.87   \n",
       "std       0.77       0.65     1.17      828.75         442.86    53.48   \n",
       "min       0.00       1.00     3.00      370.00           0.00 98001.00   \n",
       "25%       0.00       3.00     7.00     1200.00           0.00 98033.00   \n",
       "50%       0.00       3.00     7.00     1560.00           0.00 98065.00   \n",
       "75%       0.00       4.00     8.00     2220.00         560.00 98117.00   \n",
       "max       4.00       5.00    13.00     9410.00        4820.00 98199.00   \n",
       "\n",
       "           lat     long  sqft_living15  sqft_lot15  \n",
       "count 21422.00 21422.00       21422.00    21422.00  \n",
       "mean     47.56  -122.21        1988.32    12778.26  \n",
       "std       0.14     0.14         685.55    27345.18  \n",
       "min      47.16  -122.52         399.00      651.00  \n",
       "25%      47.47  -122.33        1490.00     5100.00  \n",
       "50%      47.57  -122.23        1840.00     7620.00  \n",
       "75%      47.68  -122.12        2370.00    10087.75  \n",
       "max      47.78  -121.31        6210.00   871200.00  "
      ]
     },
     "execution_count": 15,
     "metadata": {},
     "output_type": "execute_result"
    }
   ],
   "source": [
    "data_numeric = data.select_dtypes(include=['float64', 'int64'])\n",
    "data_numeric = data_numeric.drop(['id', 'waterfront'], axis = 1) \n",
    "data_numeric.describe() "
   ]
  },
  {
   "cell_type": "markdown",
   "id": "704a7445",
   "metadata": {},
   "source": [
    "# 1.6 Verificação de Outliers"
   ]
  },
  {
   "cell_type": "markdown",
   "id": "d86225cb",
   "metadata": {},
   "source": [
    "## 1.6.1 Colune Price"
   ]
  },
  {
   "cell_type": "code",
   "execution_count": 16,
   "id": "f30e9bbc",
   "metadata": {
    "ExecuteTime": {
     "end_time": "2023-05-27T17:30:43.703824Z",
     "start_time": "2023-05-27T17:30:43.330055Z"
    }
   },
   "outputs": [
    {
     "data": {
      "text/html": [
       "<div>\n",
       "<style scoped>\n",
       "    .dataframe tbody tr th:only-of-type {\n",
       "        vertical-align: middle;\n",
       "    }\n",
       "\n",
       "    .dataframe tbody tr th {\n",
       "        vertical-align: top;\n",
       "    }\n",
       "\n",
       "    .dataframe thead th {\n",
       "        text-align: right;\n",
       "    }\n",
       "</style>\n",
       "<table border=\"1\" class=\"dataframe\">\n",
       "  <thead>\n",
       "    <tr style=\"text-align: right;\">\n",
       "      <th></th>\n",
       "      <th>id</th>\n",
       "      <th>date</th>\n",
       "      <th>price</th>\n",
       "      <th>bedrooms</th>\n",
       "      <th>bathrooms</th>\n",
       "      <th>sqft_living</th>\n",
       "      <th>sqft_lot</th>\n",
       "      <th>floors</th>\n",
       "      <th>waterfront</th>\n",
       "      <th>view</th>\n",
       "      <th>condition</th>\n",
       "      <th>grade</th>\n",
       "      <th>sqft_above</th>\n",
       "      <th>sqft_basement</th>\n",
       "      <th>yr_built</th>\n",
       "      <th>yr_renovated</th>\n",
       "      <th>zipcode</th>\n",
       "      <th>lat</th>\n",
       "      <th>long</th>\n",
       "      <th>sqft_living15</th>\n",
       "      <th>sqft_lot15</th>\n",
       "      <th>road</th>\n",
       "      <th>house_number</th>\n",
       "    </tr>\n",
       "  </thead>\n",
       "  <tbody>\n",
       "    <tr>\n",
       "      <th>7247</th>\n",
       "      <td>6762700020</td>\n",
       "      <td>2014-10-13</td>\n",
       "      <td>7700000.00</td>\n",
       "      <td>6</td>\n",
       "      <td>8.00</td>\n",
       "      <td>12050</td>\n",
       "      <td>27600</td>\n",
       "      <td>2.50</td>\n",
       "      <td>0</td>\n",
       "      <td>3</td>\n",
       "      <td>4</td>\n",
       "      <td>13</td>\n",
       "      <td>8570</td>\n",
       "      <td>3480</td>\n",
       "      <td>1910-01-01</td>\n",
       "      <td>1987-01-01</td>\n",
       "      <td>98102</td>\n",
       "      <td>47.63</td>\n",
       "      <td>-122.32</td>\n",
       "      <td>3940</td>\n",
       "      <td>8800</td>\n",
       "      <td>Harvard Avenue East</td>\n",
       "      <td>1137</td>\n",
       "    </tr>\n",
       "    <tr>\n",
       "      <th>3911</th>\n",
       "      <td>9808700762</td>\n",
       "      <td>2014-06-11</td>\n",
       "      <td>7062500.00</td>\n",
       "      <td>5</td>\n",
       "      <td>4.50</td>\n",
       "      <td>10040</td>\n",
       "      <td>37325</td>\n",
       "      <td>2.00</td>\n",
       "      <td>1</td>\n",
       "      <td>2</td>\n",
       "      <td>3</td>\n",
       "      <td>11</td>\n",
       "      <td>7680</td>\n",
       "      <td>2360</td>\n",
       "      <td>1940-01-01</td>\n",
       "      <td>2001-01-01</td>\n",
       "      <td>98004</td>\n",
       "      <td>47.65</td>\n",
       "      <td>-122.21</td>\n",
       "      <td>3930</td>\n",
       "      <td>25449</td>\n",
       "      <td>95th Avenue Northeast</td>\n",
       "      <td>undefined</td>\n",
       "    </tr>\n",
       "    <tr>\n",
       "      <th>9247</th>\n",
       "      <td>9208900037</td>\n",
       "      <td>2014-09-19</td>\n",
       "      <td>6885000.00</td>\n",
       "      <td>6</td>\n",
       "      <td>7.75</td>\n",
       "      <td>9890</td>\n",
       "      <td>31374</td>\n",
       "      <td>2.00</td>\n",
       "      <td>0</td>\n",
       "      <td>4</td>\n",
       "      <td>3</td>\n",
       "      <td>13</td>\n",
       "      <td>8860</td>\n",
       "      <td>1030</td>\n",
       "      <td>2001-01-01</td>\n",
       "      <td>1900-01-01</td>\n",
       "      <td>98039</td>\n",
       "      <td>47.63</td>\n",
       "      <td>-122.24</td>\n",
       "      <td>4540</td>\n",
       "      <td>42730</td>\n",
       "      <td>Laurel Lane</td>\n",
       "      <td>undefined</td>\n",
       "    </tr>\n",
       "    <tr>\n",
       "      <th>4408</th>\n",
       "      <td>2470100110</td>\n",
       "      <td>2014-08-04</td>\n",
       "      <td>5570000.00</td>\n",
       "      <td>5</td>\n",
       "      <td>5.75</td>\n",
       "      <td>9200</td>\n",
       "      <td>35069</td>\n",
       "      <td>2.00</td>\n",
       "      <td>0</td>\n",
       "      <td>0</td>\n",
       "      <td>3</td>\n",
       "      <td>13</td>\n",
       "      <td>6200</td>\n",
       "      <td>3000</td>\n",
       "      <td>2001-01-01</td>\n",
       "      <td>1900-01-01</td>\n",
       "      <td>98039</td>\n",
       "      <td>47.63</td>\n",
       "      <td>-122.23</td>\n",
       "      <td>3560</td>\n",
       "      <td>24345</td>\n",
       "      <td>Northeast 12th Street</td>\n",
       "      <td>undefined</td>\n",
       "    </tr>\n",
       "    <tr>\n",
       "      <th>1447</th>\n",
       "      <td>8907500070</td>\n",
       "      <td>2015-04-13</td>\n",
       "      <td>5350000.00</td>\n",
       "      <td>5</td>\n",
       "      <td>5.00</td>\n",
       "      <td>8000</td>\n",
       "      <td>23985</td>\n",
       "      <td>2.00</td>\n",
       "      <td>0</td>\n",
       "      <td>4</td>\n",
       "      <td>3</td>\n",
       "      <td>12</td>\n",
       "      <td>6720</td>\n",
       "      <td>1280</td>\n",
       "      <td>2009-01-01</td>\n",
       "      <td>1900-01-01</td>\n",
       "      <td>98004</td>\n",
       "      <td>47.62</td>\n",
       "      <td>-122.22</td>\n",
       "      <td>4600</td>\n",
       "      <td>21750</td>\n",
       "      <td>Northeast 14th Street</td>\n",
       "      <td>9045</td>\n",
       "    </tr>\n",
       "    <tr>\n",
       "      <th>1314</th>\n",
       "      <td>7558700030</td>\n",
       "      <td>2015-04-13</td>\n",
       "      <td>5300000.00</td>\n",
       "      <td>6</td>\n",
       "      <td>6.00</td>\n",
       "      <td>7390</td>\n",
       "      <td>24829</td>\n",
       "      <td>2.00</td>\n",
       "      <td>1</td>\n",
       "      <td>4</td>\n",
       "      <td>4</td>\n",
       "      <td>12</td>\n",
       "      <td>5000</td>\n",
       "      <td>2390</td>\n",
       "      <td>1991-01-01</td>\n",
       "      <td>1900-01-01</td>\n",
       "      <td>98040</td>\n",
       "      <td>47.56</td>\n",
       "      <td>-122.21</td>\n",
       "      <td>4320</td>\n",
       "      <td>24619</td>\n",
       "      <td>4600 Block</td>\n",
       "      <td>undefined</td>\n",
       "    </tr>\n",
       "    <tr>\n",
       "      <th>1163</th>\n",
       "      <td>1247600105</td>\n",
       "      <td>2014-10-20</td>\n",
       "      <td>5110800.00</td>\n",
       "      <td>5</td>\n",
       "      <td>5.25</td>\n",
       "      <td>8010</td>\n",
       "      <td>45517</td>\n",
       "      <td>2.00</td>\n",
       "      <td>1</td>\n",
       "      <td>4</td>\n",
       "      <td>3</td>\n",
       "      <td>12</td>\n",
       "      <td>5990</td>\n",
       "      <td>2020</td>\n",
       "      <td>1999-01-01</td>\n",
       "      <td>1900-01-01</td>\n",
       "      <td>98033</td>\n",
       "      <td>47.68</td>\n",
       "      <td>-122.21</td>\n",
       "      <td>3430</td>\n",
       "      <td>26788</td>\n",
       "      <td>Lake Avenue West</td>\n",
       "      <td>137</td>\n",
       "    </tr>\n",
       "    <tr>\n",
       "      <th>8087</th>\n",
       "      <td>1924059029</td>\n",
       "      <td>2014-06-17</td>\n",
       "      <td>4668000.00</td>\n",
       "      <td>5</td>\n",
       "      <td>6.75</td>\n",
       "      <td>9640</td>\n",
       "      <td>13068</td>\n",
       "      <td>1.00</td>\n",
       "      <td>1</td>\n",
       "      <td>4</td>\n",
       "      <td>3</td>\n",
       "      <td>12</td>\n",
       "      <td>4820</td>\n",
       "      <td>4820</td>\n",
       "      <td>1983-01-01</td>\n",
       "      <td>2009-01-01</td>\n",
       "      <td>98040</td>\n",
       "      <td>47.56</td>\n",
       "      <td>-122.21</td>\n",
       "      <td>3270</td>\n",
       "      <td>10454</td>\n",
       "      <td>Southeast 52nd Street</td>\n",
       "      <td>undefined</td>\n",
       "    </tr>\n",
       "    <tr>\n",
       "      <th>2625</th>\n",
       "      <td>7738500731</td>\n",
       "      <td>2014-08-15</td>\n",
       "      <td>4500000.00</td>\n",
       "      <td>5</td>\n",
       "      <td>5.50</td>\n",
       "      <td>6640</td>\n",
       "      <td>40014</td>\n",
       "      <td>2.00</td>\n",
       "      <td>1</td>\n",
       "      <td>4</td>\n",
       "      <td>3</td>\n",
       "      <td>12</td>\n",
       "      <td>6350</td>\n",
       "      <td>290</td>\n",
       "      <td>2004-01-01</td>\n",
       "      <td>1900-01-01</td>\n",
       "      <td>98155</td>\n",
       "      <td>47.75</td>\n",
       "      <td>-122.28</td>\n",
       "      <td>3030</td>\n",
       "      <td>23408</td>\n",
       "      <td>Shore Drive Northeast</td>\n",
       "      <td>16714</td>\n",
       "    </tr>\n",
       "    <tr>\n",
       "      <th>8631</th>\n",
       "      <td>3835500195</td>\n",
       "      <td>2014-06-18</td>\n",
       "      <td>4489000.00</td>\n",
       "      <td>4</td>\n",
       "      <td>3.00</td>\n",
       "      <td>6430</td>\n",
       "      <td>27517</td>\n",
       "      <td>2.00</td>\n",
       "      <td>0</td>\n",
       "      <td>0</td>\n",
       "      <td>3</td>\n",
       "      <td>12</td>\n",
       "      <td>6430</td>\n",
       "      <td>0</td>\n",
       "      <td>2001-01-01</td>\n",
       "      <td>1900-01-01</td>\n",
       "      <td>98004</td>\n",
       "      <td>47.62</td>\n",
       "      <td>-122.22</td>\n",
       "      <td>3720</td>\n",
       "      <td>14592</td>\n",
       "      <td>91st Avenue Northeast</td>\n",
       "      <td>1195</td>\n",
       "    </tr>\n",
       "    <tr>\n",
       "      <th>12361</th>\n",
       "      <td>6065300370</td>\n",
       "      <td>2015-05-06</td>\n",
       "      <td>4208000.00</td>\n",
       "      <td>5</td>\n",
       "      <td>6.00</td>\n",
       "      <td>7440</td>\n",
       "      <td>21540</td>\n",
       "      <td>2.00</td>\n",
       "      <td>0</td>\n",
       "      <td>0</td>\n",
       "      <td>3</td>\n",
       "      <td>12</td>\n",
       "      <td>5550</td>\n",
       "      <td>1890</td>\n",
       "      <td>2003-01-01</td>\n",
       "      <td>1900-01-01</td>\n",
       "      <td>98006</td>\n",
       "      <td>47.57</td>\n",
       "      <td>-122.19</td>\n",
       "      <td>4740</td>\n",
       "      <td>19329</td>\n",
       "      <td>Columbia Key</td>\n",
       "      <td>75</td>\n",
       "    </tr>\n",
       "    <tr>\n",
       "      <th>4146</th>\n",
       "      <td>6447300265</td>\n",
       "      <td>2014-10-14</td>\n",
       "      <td>4000000.00</td>\n",
       "      <td>4</td>\n",
       "      <td>5.50</td>\n",
       "      <td>7080</td>\n",
       "      <td>16573</td>\n",
       "      <td>2.00</td>\n",
       "      <td>0</td>\n",
       "      <td>0</td>\n",
       "      <td>3</td>\n",
       "      <td>12</td>\n",
       "      <td>5760</td>\n",
       "      <td>1320</td>\n",
       "      <td>2008-01-01</td>\n",
       "      <td>1900-01-01</td>\n",
       "      <td>98039</td>\n",
       "      <td>47.62</td>\n",
       "      <td>-122.22</td>\n",
       "      <td>3140</td>\n",
       "      <td>15996</td>\n",
       "      <td>87th Avenue Northeast</td>\n",
       "      <td>512</td>\n",
       "    </tr>\n",
       "    <tr>\n",
       "      <th>2084</th>\n",
       "      <td>8106100105</td>\n",
       "      <td>2014-11-14</td>\n",
       "      <td>3850000.00</td>\n",
       "      <td>4</td>\n",
       "      <td>4.25</td>\n",
       "      <td>5770</td>\n",
       "      <td>21300</td>\n",
       "      <td>2.00</td>\n",
       "      <td>1</td>\n",
       "      <td>4</td>\n",
       "      <td>4</td>\n",
       "      <td>11</td>\n",
       "      <td>5770</td>\n",
       "      <td>0</td>\n",
       "      <td>1980-01-01</td>\n",
       "      <td>1900-01-01</td>\n",
       "      <td>98040</td>\n",
       "      <td>47.59</td>\n",
       "      <td>-122.22</td>\n",
       "      <td>4620</td>\n",
       "      <td>22748</td>\n",
       "      <td>North Mercer Way</td>\n",
       "      <td>undefined</td>\n",
       "    </tr>\n",
       "    <tr>\n",
       "      <th>19004</th>\n",
       "      <td>2303900100</td>\n",
       "      <td>2014-09-11</td>\n",
       "      <td>3800000.00</td>\n",
       "      <td>3</td>\n",
       "      <td>4.25</td>\n",
       "      <td>5510</td>\n",
       "      <td>35000</td>\n",
       "      <td>2.00</td>\n",
       "      <td>0</td>\n",
       "      <td>4</td>\n",
       "      <td>3</td>\n",
       "      <td>13</td>\n",
       "      <td>4910</td>\n",
       "      <td>600</td>\n",
       "      <td>1997-01-01</td>\n",
       "      <td>1900-01-01</td>\n",
       "      <td>98177</td>\n",
       "      <td>47.73</td>\n",
       "      <td>-122.37</td>\n",
       "      <td>3430</td>\n",
       "      <td>45302</td>\n",
       "      <td>Northwest Elford Drive</td>\n",
       "      <td>970</td>\n",
       "    </tr>\n",
       "    <tr>\n",
       "      <th>7030</th>\n",
       "      <td>853200010</td>\n",
       "      <td>2014-07-01</td>\n",
       "      <td>3800000.00</td>\n",
       "      <td>5</td>\n",
       "      <td>5.50</td>\n",
       "      <td>7050</td>\n",
       "      <td>42840</td>\n",
       "      <td>1.00</td>\n",
       "      <td>0</td>\n",
       "      <td>2</td>\n",
       "      <td>4</td>\n",
       "      <td>13</td>\n",
       "      <td>4320</td>\n",
       "      <td>2730</td>\n",
       "      <td>1978-01-01</td>\n",
       "      <td>1900-01-01</td>\n",
       "      <td>98004</td>\n",
       "      <td>47.62</td>\n",
       "      <td>-122.22</td>\n",
       "      <td>5070</td>\n",
       "      <td>20570</td>\n",
       "      <td>Northeast 14th Street</td>\n",
       "      <td>9051</td>\n",
       "    </tr>\n",
       "  </tbody>\n",
       "</table>\n",
       "</div>"
      ],
      "text/plain": [
       "               id       date      price  bedrooms  bathrooms  sqft_living  \\\n",
       "7247   6762700020 2014-10-13 7700000.00         6       8.00        12050   \n",
       "3911   9808700762 2014-06-11 7062500.00         5       4.50        10040   \n",
       "9247   9208900037 2014-09-19 6885000.00         6       7.75         9890   \n",
       "4408   2470100110 2014-08-04 5570000.00         5       5.75         9200   \n",
       "1447   8907500070 2015-04-13 5350000.00         5       5.00         8000   \n",
       "1314   7558700030 2015-04-13 5300000.00         6       6.00         7390   \n",
       "1163   1247600105 2014-10-20 5110800.00         5       5.25         8010   \n",
       "8087   1924059029 2014-06-17 4668000.00         5       6.75         9640   \n",
       "2625   7738500731 2014-08-15 4500000.00         5       5.50         6640   \n",
       "8631   3835500195 2014-06-18 4489000.00         4       3.00         6430   \n",
       "12361  6065300370 2015-05-06 4208000.00         5       6.00         7440   \n",
       "4146   6447300265 2014-10-14 4000000.00         4       5.50         7080   \n",
       "2084   8106100105 2014-11-14 3850000.00         4       4.25         5770   \n",
       "19004  2303900100 2014-09-11 3800000.00         3       4.25         5510   \n",
       "7030    853200010 2014-07-01 3800000.00         5       5.50         7050   \n",
       "\n",
       "       sqft_lot  floors  waterfront  view  condition  grade  sqft_above  \\\n",
       "7247      27600    2.50           0     3          4     13        8570   \n",
       "3911      37325    2.00           1     2          3     11        7680   \n",
       "9247      31374    2.00           0     4          3     13        8860   \n",
       "4408      35069    2.00           0     0          3     13        6200   \n",
       "1447      23985    2.00           0     4          3     12        6720   \n",
       "1314      24829    2.00           1     4          4     12        5000   \n",
       "1163      45517    2.00           1     4          3     12        5990   \n",
       "8087      13068    1.00           1     4          3     12        4820   \n",
       "2625      40014    2.00           1     4          3     12        6350   \n",
       "8631      27517    2.00           0     0          3     12        6430   \n",
       "12361     21540    2.00           0     0          3     12        5550   \n",
       "4146      16573    2.00           0     0          3     12        5760   \n",
       "2084      21300    2.00           1     4          4     11        5770   \n",
       "19004     35000    2.00           0     4          3     13        4910   \n",
       "7030      42840    1.00           0     2          4     13        4320   \n",
       "\n",
       "       sqft_basement   yr_built yr_renovated  zipcode   lat    long  \\\n",
       "7247            3480 1910-01-01   1987-01-01    98102 47.63 -122.32   \n",
       "3911            2360 1940-01-01   2001-01-01    98004 47.65 -122.21   \n",
       "9247            1030 2001-01-01   1900-01-01    98039 47.63 -122.24   \n",
       "4408            3000 2001-01-01   1900-01-01    98039 47.63 -122.23   \n",
       "1447            1280 2009-01-01   1900-01-01    98004 47.62 -122.22   \n",
       "1314            2390 1991-01-01   1900-01-01    98040 47.56 -122.21   \n",
       "1163            2020 1999-01-01   1900-01-01    98033 47.68 -122.21   \n",
       "8087            4820 1983-01-01   2009-01-01    98040 47.56 -122.21   \n",
       "2625             290 2004-01-01   1900-01-01    98155 47.75 -122.28   \n",
       "8631               0 2001-01-01   1900-01-01    98004 47.62 -122.22   \n",
       "12361           1890 2003-01-01   1900-01-01    98006 47.57 -122.19   \n",
       "4146            1320 2008-01-01   1900-01-01    98039 47.62 -122.22   \n",
       "2084               0 1980-01-01   1900-01-01    98040 47.59 -122.22   \n",
       "19004            600 1997-01-01   1900-01-01    98177 47.73 -122.37   \n",
       "7030            2730 1978-01-01   1900-01-01    98004 47.62 -122.22   \n",
       "\n",
       "       sqft_living15  sqft_lot15                    road house_number  \n",
       "7247            3940        8800     Harvard Avenue East         1137  \n",
       "3911            3930       25449   95th Avenue Northeast    undefined  \n",
       "9247            4540       42730             Laurel Lane    undefined  \n",
       "4408            3560       24345   Northeast 12th Street    undefined  \n",
       "1447            4600       21750   Northeast 14th Street         9045  \n",
       "1314            4320       24619              4600 Block    undefined  \n",
       "1163            3430       26788        Lake Avenue West          137  \n",
       "8087            3270       10454   Southeast 52nd Street    undefined  \n",
       "2625            3030       23408   Shore Drive Northeast        16714  \n",
       "8631            3720       14592   91st Avenue Northeast         1195  \n",
       "12361           4740       19329            Columbia Key           75  \n",
       "4146            3140       15996   87th Avenue Northeast          512  \n",
       "2084            4620       22748        North Mercer Way    undefined  \n",
       "19004           3430       45302  Northwest Elford Drive          970  \n",
       "7030            5070       20570   Northeast 14th Street         9051  "
      ]
     },
     "execution_count": 16,
     "metadata": {},
     "output_type": "execute_result"
    },
    {
     "data": {
      "image/png": "[encoded data removed]",
      "text/plain": [
       "<Figure size 640x480 with 1 Axes>"
      ]
     },
     "metadata": {},
     "output_type": "display_data"
    }
   ],
   "source": [
    "outlier(data, 'price', h=15)"
   ]
  },
  {
   "cell_type": "markdown",
   "id": "505f737e",
   "metadata": {},
   "source": [
    "No que diz respeito ao preço, nenhum desses registros apresenta valores discrepantes, visto que os preços correspondem às características dos imóveis. "
   ]
  },
  {
   "cell_type": "markdown",
   "id": "69aca51e",
   "metadata": {
    "ExecuteTime": {
     "end_time": "2023-05-25T00:05:11.375838Z",
     "start_time": "2023-05-25T00:05:11.365844Z"
    }
   },
   "source": [
    "## 1.6.2 Coluna bedrooms"
   ]
  },
  {
   "cell_type": "code",
   "execution_count": 40,
   "id": "1ca4d5ea",
   "metadata": {
    "ExecuteTime": {
     "end_time": "2023-05-25T15:52:11.709432Z",
     "start_time": "2023-05-25T15:52:11.383632Z"
    },
    "scrolled": false
   },
   "outputs": [
    {
     "data": {
      "text/html": [
       "<div>\n",
       "<style scoped>\n",
       "    .dataframe tbody tr th:only-of-type {\n",
       "        vertical-align: middle;\n",
       "    }\n",
       "\n",
       "    .dataframe tbody tr th {\n",
       "        vertical-align: top;\n",
       "    }\n",
       "\n",
       "    .dataframe thead th {\n",
       "        text-align: right;\n",
       "    }\n",
       "</style>\n",
       "<table border=\"1\" class=\"dataframe\">\n",
       "  <thead>\n",
       "    <tr style=\"text-align: right;\">\n",
       "      <th></th>\n",
       "      <th>id</th>\n",
       "      <th>date</th>\n",
       "      <th>price</th>\n",
       "      <th>bedrooms</th>\n",
       "      <th>bathrooms</th>\n",
       "      <th>sqft_living</th>\n",
       "      <th>sqft_lot</th>\n",
       "      <th>floors</th>\n",
       "      <th>waterfront</th>\n",
       "      <th>view</th>\n",
       "      <th>condition</th>\n",
       "      <th>grade</th>\n",
       "      <th>sqft_above</th>\n",
       "      <th>sqft_basement</th>\n",
       "      <th>yr_built</th>\n",
       "      <th>yr_renovated</th>\n",
       "      <th>zipcode</th>\n",
       "      <th>lat</th>\n",
       "      <th>long</th>\n",
       "      <th>sqft_living15</th>\n",
       "      <th>sqft_lot15</th>\n",
       "      <th>road</th>\n",
       "      <th>house_number</th>\n",
       "    </tr>\n",
       "  </thead>\n",
       "  <tbody>\n",
       "    <tr>\n",
       "      <th>8750</th>\n",
       "      <td>1773100755</td>\n",
       "      <td>20140821T000000</td>\n",
       "      <td>520000.00</td>\n",
       "      <td>11</td>\n",
       "      <td>3.00</td>\n",
       "      <td>3000</td>\n",
       "      <td>4960</td>\n",
       "      <td>2.00</td>\n",
       "      <td>0</td>\n",
       "      <td>0</td>\n",
       "      <td>3</td>\n",
       "      <td>7</td>\n",
       "      <td>2400</td>\n",
       "      <td>600</td>\n",
       "      <td>1918</td>\n",
       "      <td>1999</td>\n",
       "      <td>98106</td>\n",
       "      <td>47.56</td>\n",
       "      <td>-122.36</td>\n",
       "      <td>1420</td>\n",
       "      <td>4960</td>\n",
       "      <td>Delridge Way Southwest</td>\n",
       "      <td>5055</td>\n",
       "    </tr>\n",
       "    <tr>\n",
       "      <th>15150</th>\n",
       "      <td>5566100170</td>\n",
       "      <td>20141029T000000</td>\n",
       "      <td>650000.00</td>\n",
       "      <td>10</td>\n",
       "      <td>2.00</td>\n",
       "      <td>3610</td>\n",
       "      <td>11914</td>\n",
       "      <td>2.00</td>\n",
       "      <td>0</td>\n",
       "      <td>0</td>\n",
       "      <td>4</td>\n",
       "      <td>7</td>\n",
       "      <td>3010</td>\n",
       "      <td>600</td>\n",
       "      <td>1958</td>\n",
       "      <td>0</td>\n",
       "      <td>98006</td>\n",
       "      <td>47.57</td>\n",
       "      <td>-122.17</td>\n",
       "      <td>2040</td>\n",
       "      <td>11914</td>\n",
       "      <td>Southeast 42nd Street</td>\n",
       "      <td>12353</td>\n",
       "    </tr>\n",
       "    <tr>\n",
       "      <th>19241</th>\n",
       "      <td>8812401450</td>\n",
       "      <td>20141229T000000</td>\n",
       "      <td>660000.00</td>\n",
       "      <td>10</td>\n",
       "      <td>3.00</td>\n",
       "      <td>2920</td>\n",
       "      <td>3745</td>\n",
       "      <td>2.00</td>\n",
       "      <td>0</td>\n",
       "      <td>0</td>\n",
       "      <td>4</td>\n",
       "      <td>7</td>\n",
       "      <td>1860</td>\n",
       "      <td>1060</td>\n",
       "      <td>1913</td>\n",
       "      <td>0</td>\n",
       "      <td>98105</td>\n",
       "      <td>47.66</td>\n",
       "      <td>-122.32</td>\n",
       "      <td>1810</td>\n",
       "      <td>3745</td>\n",
       "      <td>8th Avenue Northeast</td>\n",
       "      <td>4711</td>\n",
       "    </tr>\n",
       "    <tr>\n",
       "      <th>13304</th>\n",
       "      <td>627300145</td>\n",
       "      <td>20140814T000000</td>\n",
       "      <td>1148000.00</td>\n",
       "      <td>10</td>\n",
       "      <td>5.25</td>\n",
       "      <td>4590</td>\n",
       "      <td>10920</td>\n",
       "      <td>1.00</td>\n",
       "      <td>0</td>\n",
       "      <td>2</td>\n",
       "      <td>3</td>\n",
       "      <td>9</td>\n",
       "      <td>2500</td>\n",
       "      <td>2090</td>\n",
       "      <td>2008</td>\n",
       "      <td>0</td>\n",
       "      <td>98004</td>\n",
       "      <td>47.59</td>\n",
       "      <td>-122.11</td>\n",
       "      <td>2730</td>\n",
       "      <td>10400</td>\n",
       "      <td>Southeast 26th Street</td>\n",
       "      <td>17079</td>\n",
       "    </tr>\n",
       "    <tr>\n",
       "      <th>4093</th>\n",
       "      <td>1997200215</td>\n",
       "      <td>20140507T000000</td>\n",
       "      <td>599999.00</td>\n",
       "      <td>9</td>\n",
       "      <td>4.50</td>\n",
       "      <td>3830</td>\n",
       "      <td>6988</td>\n",
       "      <td>2.50</td>\n",
       "      <td>0</td>\n",
       "      <td>0</td>\n",
       "      <td>3</td>\n",
       "      <td>7</td>\n",
       "      <td>2450</td>\n",
       "      <td>1380</td>\n",
       "      <td>1938</td>\n",
       "      <td>0</td>\n",
       "      <td>98103</td>\n",
       "      <td>47.69</td>\n",
       "      <td>-122.34</td>\n",
       "      <td>1460</td>\n",
       "      <td>6291</td>\n",
       "      <td>Densmore Avenue North</td>\n",
       "      <td>8809</td>\n",
       "    </tr>\n",
       "    <tr>\n",
       "      <th>6075</th>\n",
       "      <td>9822700190</td>\n",
       "      <td>20140808T000000</td>\n",
       "      <td>1280000.00</td>\n",
       "      <td>9</td>\n",
       "      <td>4.50</td>\n",
       "      <td>3650</td>\n",
       "      <td>5000</td>\n",
       "      <td>2.00</td>\n",
       "      <td>0</td>\n",
       "      <td>0</td>\n",
       "      <td>3</td>\n",
       "      <td>8</td>\n",
       "      <td>2530</td>\n",
       "      <td>1120</td>\n",
       "      <td>1915</td>\n",
       "      <td>2010</td>\n",
       "      <td>98105</td>\n",
       "      <td>47.66</td>\n",
       "      <td>-122.29</td>\n",
       "      <td>2510</td>\n",
       "      <td>5000</td>\n",
       "      <td>36th Avenue Northeast</td>\n",
       "      <td>4316</td>\n",
       "    </tr>\n",
       "    <tr>\n",
       "      <th>18430</th>\n",
       "      <td>8823901445</td>\n",
       "      <td>20150313T000000</td>\n",
       "      <td>934000.00</td>\n",
       "      <td>9</td>\n",
       "      <td>3.00</td>\n",
       "      <td>2820</td>\n",
       "      <td>4480</td>\n",
       "      <td>2.00</td>\n",
       "      <td>0</td>\n",
       "      <td>0</td>\n",
       "      <td>3</td>\n",
       "      <td>7</td>\n",
       "      <td>1880</td>\n",
       "      <td>940</td>\n",
       "      <td>1918</td>\n",
       "      <td>0</td>\n",
       "      <td>98105</td>\n",
       "      <td>47.67</td>\n",
       "      <td>-122.31</td>\n",
       "      <td>2460</td>\n",
       "      <td>4400</td>\n",
       "      <td>19th Avenue Northeast</td>\n",
       "      <td>5016</td>\n",
       "    </tr>\n",
       "    <tr>\n",
       "      <th>4232</th>\n",
       "      <td>2902200015</td>\n",
       "      <td>20150106T000000</td>\n",
       "      <td>700000.00</td>\n",
       "      <td>9</td>\n",
       "      <td>3.00</td>\n",
       "      <td>3680</td>\n",
       "      <td>4400</td>\n",
       "      <td>2.00</td>\n",
       "      <td>0</td>\n",
       "      <td>0</td>\n",
       "      <td>3</td>\n",
       "      <td>7</td>\n",
       "      <td>2830</td>\n",
       "      <td>850</td>\n",
       "      <td>1908</td>\n",
       "      <td>0</td>\n",
       "      <td>98102</td>\n",
       "      <td>47.64</td>\n",
       "      <td>-122.32</td>\n",
       "      <td>1960</td>\n",
       "      <td>2450</td>\n",
       "      <td>Franklin Avenue East</td>\n",
       "      <td>2014</td>\n",
       "    </tr>\n",
       "    <tr>\n",
       "      <th>8539</th>\n",
       "      <td>424049043</td>\n",
       "      <td>20140811T000000</td>\n",
       "      <td>450000.00</td>\n",
       "      <td>9</td>\n",
       "      <td>7.50</td>\n",
       "      <td>4050</td>\n",
       "      <td>6504</td>\n",
       "      <td>2.00</td>\n",
       "      <td>0</td>\n",
       "      <td>0</td>\n",
       "      <td>3</td>\n",
       "      <td>7</td>\n",
       "      <td>4050</td>\n",
       "      <td>0</td>\n",
       "      <td>1996</td>\n",
       "      <td>0</td>\n",
       "      <td>98144</td>\n",
       "      <td>47.59</td>\n",
       "      <td>-122.30</td>\n",
       "      <td>1448</td>\n",
       "      <td>3866</td>\n",
       "      <td>24th Avenue South</td>\n",
       "      <td>1122</td>\n",
       "    </tr>\n",
       "    <tr>\n",
       "      <th>16832</th>\n",
       "      <td>8823900290</td>\n",
       "      <td>20150317T000000</td>\n",
       "      <td>1400000.00</td>\n",
       "      <td>9</td>\n",
       "      <td>4.00</td>\n",
       "      <td>4620</td>\n",
       "      <td>5508</td>\n",
       "      <td>2.50</td>\n",
       "      <td>0</td>\n",
       "      <td>0</td>\n",
       "      <td>3</td>\n",
       "      <td>11</td>\n",
       "      <td>3870</td>\n",
       "      <td>750</td>\n",
       "      <td>1915</td>\n",
       "      <td>0</td>\n",
       "      <td>98105</td>\n",
       "      <td>47.67</td>\n",
       "      <td>-122.31</td>\n",
       "      <td>2710</td>\n",
       "      <td>4320</td>\n",
       "      <td>17th Avenue Northeast</td>\n",
       "      <td>5270</td>\n",
       "    </tr>\n",
       "    <tr>\n",
       "      <th>12875</th>\n",
       "      <td>8813400155</td>\n",
       "      <td>20141219T000000</td>\n",
       "      <td>808000.00</td>\n",
       "      <td>8</td>\n",
       "      <td>3.75</td>\n",
       "      <td>3460</td>\n",
       "      <td>4600</td>\n",
       "      <td>2.00</td>\n",
       "      <td>0</td>\n",
       "      <td>0</td>\n",
       "      <td>3</td>\n",
       "      <td>7</td>\n",
       "      <td>2860</td>\n",
       "      <td>600</td>\n",
       "      <td>1987</td>\n",
       "      <td>0</td>\n",
       "      <td>98105</td>\n",
       "      <td>47.66</td>\n",
       "      <td>-122.29</td>\n",
       "      <td>2170</td>\n",
       "      <td>3750</td>\n",
       "      <td>36th Avenue Northeast</td>\n",
       "      <td>4500</td>\n",
       "    </tr>\n",
       "    <tr>\n",
       "      <th>15059</th>\n",
       "      <td>7418000130</td>\n",
       "      <td>20141211T000000</td>\n",
       "      <td>430000.00</td>\n",
       "      <td>8</td>\n",
       "      <td>3.25</td>\n",
       "      <td>4300</td>\n",
       "      <td>10441</td>\n",
       "      <td>2.00</td>\n",
       "      <td>0</td>\n",
       "      <td>0</td>\n",
       "      <td>4</td>\n",
       "      <td>8</td>\n",
       "      <td>2800</td>\n",
       "      <td>1500</td>\n",
       "      <td>1979</td>\n",
       "      <td>0</td>\n",
       "      <td>98059</td>\n",
       "      <td>47.48</td>\n",
       "      <td>-122.13</td>\n",
       "      <td>1780</td>\n",
       "      <td>10457</td>\n",
       "      <td>Southeast 4th Place</td>\n",
       "      <td>6523</td>\n",
       "    </tr>\n",
       "    <tr>\n",
       "      <th>9070</th>\n",
       "      <td>6746700615</td>\n",
       "      <td>20150318T000000</td>\n",
       "      <td>700000.00</td>\n",
       "      <td>8</td>\n",
       "      <td>2.50</td>\n",
       "      <td>2280</td>\n",
       "      <td>3000</td>\n",
       "      <td>1.50</td>\n",
       "      <td>0</td>\n",
       "      <td>0</td>\n",
       "      <td>3</td>\n",
       "      <td>7</td>\n",
       "      <td>1210</td>\n",
       "      <td>1070</td>\n",
       "      <td>1911</td>\n",
       "      <td>0</td>\n",
       "      <td>98105</td>\n",
       "      <td>47.67</td>\n",
       "      <td>-122.32</td>\n",
       "      <td>1610</td>\n",
       "      <td>3000</td>\n",
       "      <td>11th Avenue Northeast</td>\n",
       "      <td>5236</td>\n",
       "    </tr>\n",
       "    <tr>\n",
       "      <th>6170</th>\n",
       "      <td>1873400020</td>\n",
       "      <td>20140703T000000</td>\n",
       "      <td>340000.00</td>\n",
       "      <td>8</td>\n",
       "      <td>2.75</td>\n",
       "      <td>2790</td>\n",
       "      <td>6695</td>\n",
       "      <td>1.00</td>\n",
       "      <td>0</td>\n",
       "      <td>0</td>\n",
       "      <td>3</td>\n",
       "      <td>7</td>\n",
       "      <td>1470</td>\n",
       "      <td>1320</td>\n",
       "      <td>1977</td>\n",
       "      <td>0</td>\n",
       "      <td>98133</td>\n",
       "      <td>47.76</td>\n",
       "      <td>-122.33</td>\n",
       "      <td>1760</td>\n",
       "      <td>7624</td>\n",
       "      <td>Corliss Avenue North</td>\n",
       "      <td>17528</td>\n",
       "    </tr>\n",
       "    <tr>\n",
       "      <th>9445</th>\n",
       "      <td>2769600590</td>\n",
       "      <td>20141016T000000</td>\n",
       "      <td>900000.00</td>\n",
       "      <td>8</td>\n",
       "      <td>4.00</td>\n",
       "      <td>4020</td>\n",
       "      <td>7500</td>\n",
       "      <td>1.00</td>\n",
       "      <td>0</td>\n",
       "      <td>0</td>\n",
       "      <td>3</td>\n",
       "      <td>8</td>\n",
       "      <td>2010</td>\n",
       "      <td>2010</td>\n",
       "      <td>1968</td>\n",
       "      <td>0</td>\n",
       "      <td>98107</td>\n",
       "      <td>47.67</td>\n",
       "      <td>-122.36</td>\n",
       "      <td>1560</td>\n",
       "      <td>3737</td>\n",
       "      <td>5th Avenue Northwest</td>\n",
       "      <td>6021</td>\n",
       "    </tr>\n",
       "  </tbody>\n",
       "</table>\n",
       "</div>"
      ],
      "text/plain": [
       "               id             date      price  bedrooms  bathrooms  \\\n",
       "8750   1773100755  20140821T000000  520000.00        11       3.00   \n",
       "15150  5566100170  20141029T000000  650000.00        10       2.00   \n",
       "19241  8812401450  20141229T000000  660000.00        10       3.00   \n",
       "13304   627300145  20140814T000000 1148000.00        10       5.25   \n",
       "4093   1997200215  20140507T000000  599999.00         9       4.50   \n",
       "6075   9822700190  20140808T000000 1280000.00         9       4.50   \n",
       "18430  8823901445  20150313T000000  934000.00         9       3.00   \n",
       "4232   2902200015  20150106T000000  700000.00         9       3.00   \n",
       "8539    424049043  20140811T000000  450000.00         9       7.50   \n",
       "16832  8823900290  20150317T000000 1400000.00         9       4.00   \n",
       "12875  8813400155  20141219T000000  808000.00         8       3.75   \n",
       "15059  7418000130  20141211T000000  430000.00         8       3.25   \n",
       "9070   6746700615  20150318T000000  700000.00         8       2.50   \n",
       "6170   1873400020  20140703T000000  340000.00         8       2.75   \n",
       "9445   2769600590  20141016T000000  900000.00         8       4.00   \n",
       "\n",
       "       sqft_living  sqft_lot  floors  waterfront  view  condition  grade  \\\n",
       "8750          3000      4960    2.00           0     0          3      7   \n",
       "15150         3610     11914    2.00           0     0          4      7   \n",
       "19241         2920      3745    2.00           0     0          4      7   \n",
       "13304         4590     10920    1.00           0     2          3      9   \n",
       "4093          3830      6988    2.50           0     0          3      7   \n",
       "6075          3650      5000    2.00           0     0          3      8   \n",
       "18430         2820      4480    2.00           0     0          3      7   \n",
       "4232          3680      4400    2.00           0     0          3      7   \n",
       "8539          4050      6504    2.00           0     0          3      7   \n",
       "16832         4620      5508    2.50           0     0          3     11   \n",
       "12875         3460      4600    2.00           0     0          3      7   \n",
       "15059         4300     10441    2.00           0     0          4      8   \n",
       "9070          2280      3000    1.50           0     0          3      7   \n",
       "6170          2790      6695    1.00           0     0          3      7   \n",
       "9445          4020      7500    1.00           0     0          3      8   \n",
       "\n",
       "       sqft_above  sqft_basement  yr_built  yr_renovated  zipcode   lat  \\\n",
       "8750         2400            600      1918          1999    98106 47.56   \n",
       "15150        3010            600      1958             0    98006 47.57   \n",
       "19241        1860           1060      1913             0    98105 47.66   \n",
       "13304        2500           2090      2008             0    98004 47.59   \n",
       "4093         2450           1380      1938             0    98103 47.69   \n",
       "6075         2530           1120      1915          2010    98105 47.66   \n",
       "18430        1880            940      1918             0    98105 47.67   \n",
       "4232         2830            850      1908             0    98102 47.64   \n",
       "8539         4050              0      1996             0    98144 47.59   \n",
       "16832        3870            750      1915             0    98105 47.67   \n",
       "12875        2860            600      1987             0    98105 47.66   \n",
       "15059        2800           1500      1979             0    98059 47.48   \n",
       "9070         1210           1070      1911             0    98105 47.67   \n",
       "6170         1470           1320      1977             0    98133 47.76   \n",
       "9445         2010           2010      1968             0    98107 47.67   \n",
       "\n",
       "         long  sqft_living15  sqft_lot15                    road house_number  \n",
       "8750  -122.36           1420        4960  Delridge Way Southwest         5055  \n",
       "15150 -122.17           2040       11914   Southeast 42nd Street        12353  \n",
       "19241 -122.32           1810        3745    8th Avenue Northeast         4711  \n",
       "13304 -122.11           2730       10400   Southeast 26th Street        17079  \n",
       "4093  -122.34           1460        6291   Densmore Avenue North         8809  \n",
       "6075  -122.29           2510        5000   36th Avenue Northeast         4316  \n",
       "18430 -122.31           2460        4400   19th Avenue Northeast         5016  \n",
       "4232  -122.32           1960        2450    Franklin Avenue East         2014  \n",
       "8539  -122.30           1448        3866       24th Avenue South         1122  \n",
       "16832 -122.31           2710        4320   17th Avenue Northeast         5270  \n",
       "12875 -122.29           2170        3750   36th Avenue Northeast         4500  \n",
       "15059 -122.13           1780       10457     Southeast 4th Place         6523  \n",
       "9070  -122.32           1610        3000   11th Avenue Northeast         5236  \n",
       "6170  -122.33           1760        7624    Corliss Avenue North        17528  \n",
       "9445  -122.36           1560        3737    5th Avenue Northwest         6021  "
      ]
     },
     "execution_count": 40,
     "metadata": {},
     "output_type": "execute_result"
    },
    {
     "data": {
      "image/png": "[encoded data removed]",
      "text/plain": [
       "<Figure size 640x480 with 1 Axes>"
      ]
     },
     "metadata": {},
     "output_type": "display_data"
    }
   ],
   "source": [
    "outlier(data, 'bedrooms', h=15)"
   ]
  },
  {
   "cell_type": "markdown",
   "id": "84e8a208",
   "metadata": {},
   "source": [
    "O registro de um imóvel com 33 quartos foi considerado um erro de digitação, pois espera-se um imóvel nessas condições certamente seria mais caro do que U$ 640000.00 e ter mais que 1620 m² de área."
   ]
  },
  {
   "cell_type": "code",
   "execution_count": 17,
   "id": "4b04750c",
   "metadata": {
    "ExecuteTime": {
     "end_time": "2023-05-27T17:30:48.743990Z",
     "start_time": "2023-05-27T17:30:48.724002Z"
    }
   },
   "outputs": [],
   "source": [
    "data = data.loc[(data['bedrooms']!= 33)]"
   ]
  },
  {
   "cell_type": "markdown",
   "id": "97f3d5d4",
   "metadata": {},
   "source": [
    "## 1.6.3 Coluna bathrooms"
   ]
  },
  {
   "cell_type": "code",
   "execution_count": 41,
   "id": "5831bae2",
   "metadata": {
    "ExecuteTime": {
     "end_time": "2023-05-25T15:52:20.390202Z",
     "start_time": "2023-05-25T15:52:20.066399Z"
    }
   },
   "outputs": [
    {
     "data": {
      "text/html": [
       "<div>\n",
       "<style scoped>\n",
       "    .dataframe tbody tr th:only-of-type {\n",
       "        vertical-align: middle;\n",
       "    }\n",
       "\n",
       "    .dataframe tbody tr th {\n",
       "        vertical-align: top;\n",
       "    }\n",
       "\n",
       "    .dataframe thead th {\n",
       "        text-align: right;\n",
       "    }\n",
       "</style>\n",
       "<table border=\"1\" class=\"dataframe\">\n",
       "  <thead>\n",
       "    <tr style=\"text-align: right;\">\n",
       "      <th></th>\n",
       "      <th>id</th>\n",
       "      <th>date</th>\n",
       "      <th>price</th>\n",
       "      <th>bedrooms</th>\n",
       "      <th>bathrooms</th>\n",
       "      <th>sqft_living</th>\n",
       "      <th>sqft_lot</th>\n",
       "      <th>floors</th>\n",
       "      <th>waterfront</th>\n",
       "      <th>view</th>\n",
       "      <th>condition</th>\n",
       "      <th>grade</th>\n",
       "      <th>sqft_above</th>\n",
       "      <th>sqft_basement</th>\n",
       "      <th>yr_built</th>\n",
       "      <th>yr_renovated</th>\n",
       "      <th>zipcode</th>\n",
       "      <th>lat</th>\n",
       "      <th>long</th>\n",
       "      <th>sqft_living15</th>\n",
       "      <th>sqft_lot15</th>\n",
       "      <th>road</th>\n",
       "      <th>house_number</th>\n",
       "    </tr>\n",
       "  </thead>\n",
       "  <tbody>\n",
       "    <tr>\n",
       "      <th>12767</th>\n",
       "      <td>1225069038</td>\n",
       "      <td>20140505T000000</td>\n",
       "      <td>2280000.00</td>\n",
       "      <td>7</td>\n",
       "      <td>8.00</td>\n",
       "      <td>13540</td>\n",
       "      <td>307752</td>\n",
       "      <td>3.00</td>\n",
       "      <td>0</td>\n",
       "      <td>4</td>\n",
       "      <td>3</td>\n",
       "      <td>12</td>\n",
       "      <td>9410</td>\n",
       "      <td>4130</td>\n",
       "      <td>1999</td>\n",
       "      <td>0</td>\n",
       "      <td>98053</td>\n",
       "      <td>47.67</td>\n",
       "      <td>-121.99</td>\n",
       "      <td>4850</td>\n",
       "      <td>217800</td>\n",
       "      <td>Northeast 70th Street</td>\n",
       "      <td>26408</td>\n",
       "    </tr>\n",
       "    <tr>\n",
       "      <th>7247</th>\n",
       "      <td>6762700020</td>\n",
       "      <td>20141013T000000</td>\n",
       "      <td>7700000.00</td>\n",
       "      <td>6</td>\n",
       "      <td>8.00</td>\n",
       "      <td>12050</td>\n",
       "      <td>27600</td>\n",
       "      <td>2.50</td>\n",
       "      <td>0</td>\n",
       "      <td>3</td>\n",
       "      <td>4</td>\n",
       "      <td>13</td>\n",
       "      <td>8570</td>\n",
       "      <td>3480</td>\n",
       "      <td>1910</td>\n",
       "      <td>1987</td>\n",
       "      <td>98102</td>\n",
       "      <td>47.63</td>\n",
       "      <td>-122.32</td>\n",
       "      <td>3940</td>\n",
       "      <td>8800</td>\n",
       "      <td>Harvard Avenue East</td>\n",
       "      <td>1137</td>\n",
       "    </tr>\n",
       "    <tr>\n",
       "      <th>9247</th>\n",
       "      <td>9208900037</td>\n",
       "      <td>20140919T000000</td>\n",
       "      <td>6885000.00</td>\n",
       "      <td>6</td>\n",
       "      <td>7.75</td>\n",
       "      <td>9890</td>\n",
       "      <td>31374</td>\n",
       "      <td>2.00</td>\n",
       "      <td>0</td>\n",
       "      <td>4</td>\n",
       "      <td>3</td>\n",
       "      <td>13</td>\n",
       "      <td>8860</td>\n",
       "      <td>1030</td>\n",
       "      <td>2001</td>\n",
       "      <td>0</td>\n",
       "      <td>98039</td>\n",
       "      <td>47.63</td>\n",
       "      <td>-122.24</td>\n",
       "      <td>4540</td>\n",
       "      <td>42730</td>\n",
       "      <td>Laurel Lane</td>\n",
       "      <td>NaN</td>\n",
       "    </tr>\n",
       "    <tr>\n",
       "      <th>8539</th>\n",
       "      <td>424049043</td>\n",
       "      <td>20140811T000000</td>\n",
       "      <td>450000.00</td>\n",
       "      <td>9</td>\n",
       "      <td>7.50</td>\n",
       "      <td>4050</td>\n",
       "      <td>6504</td>\n",
       "      <td>2.00</td>\n",
       "      <td>0</td>\n",
       "      <td>0</td>\n",
       "      <td>3</td>\n",
       "      <td>7</td>\n",
       "      <td>4050</td>\n",
       "      <td>0</td>\n",
       "      <td>1996</td>\n",
       "      <td>0</td>\n",
       "      <td>98144</td>\n",
       "      <td>47.59</td>\n",
       "      <td>-122.30</td>\n",
       "      <td>1448</td>\n",
       "      <td>3866</td>\n",
       "      <td>24th Avenue South</td>\n",
       "      <td>1122</td>\n",
       "    </tr>\n",
       "    <tr>\n",
       "      <th>4021</th>\n",
       "      <td>9175600025</td>\n",
       "      <td>20141007T000000</td>\n",
       "      <td>800000.00</td>\n",
       "      <td>7</td>\n",
       "      <td>6.75</td>\n",
       "      <td>7480</td>\n",
       "      <td>41664</td>\n",
       "      <td>2.00</td>\n",
       "      <td>0</td>\n",
       "      <td>2</td>\n",
       "      <td>3</td>\n",
       "      <td>11</td>\n",
       "      <td>5080</td>\n",
       "      <td>2400</td>\n",
       "      <td>1953</td>\n",
       "      <td>0</td>\n",
       "      <td>98166</td>\n",
       "      <td>47.46</td>\n",
       "      <td>-122.37</td>\n",
       "      <td>2810</td>\n",
       "      <td>33190</td>\n",
       "      <td>Southwest 156th Street</td>\n",
       "      <td>2700</td>\n",
       "    </tr>\n",
       "    <tr>\n",
       "      <th>8087</th>\n",
       "      <td>1924059029</td>\n",
       "      <td>20140617T000000</td>\n",
       "      <td>4668000.00</td>\n",
       "      <td>5</td>\n",
       "      <td>6.75</td>\n",
       "      <td>9640</td>\n",
       "      <td>13068</td>\n",
       "      <td>1.00</td>\n",
       "      <td>1</td>\n",
       "      <td>4</td>\n",
       "      <td>3</td>\n",
       "      <td>12</td>\n",
       "      <td>4820</td>\n",
       "      <td>4820</td>\n",
       "      <td>1983</td>\n",
       "      <td>2009</td>\n",
       "      <td>98040</td>\n",
       "      <td>47.56</td>\n",
       "      <td>-122.21</td>\n",
       "      <td>3270</td>\n",
       "      <td>10454</td>\n",
       "      <td>Southeast 52nd Street</td>\n",
       "      <td>NaN</td>\n",
       "    </tr>\n",
       "    <tr>\n",
       "      <th>20564</th>\n",
       "      <td>424069279</td>\n",
       "      <td>20150328T000000</td>\n",
       "      <td>1180000.00</td>\n",
       "      <td>6</td>\n",
       "      <td>6.50</td>\n",
       "      <td>6260</td>\n",
       "      <td>10955</td>\n",
       "      <td>2.00</td>\n",
       "      <td>0</td>\n",
       "      <td>0</td>\n",
       "      <td>3</td>\n",
       "      <td>11</td>\n",
       "      <td>4840</td>\n",
       "      <td>1420</td>\n",
       "      <td>2007</td>\n",
       "      <td>0</td>\n",
       "      <td>98075</td>\n",
       "      <td>47.59</td>\n",
       "      <td>-122.04</td>\n",
       "      <td>2710</td>\n",
       "      <td>12550</td>\n",
       "      <td>Southeast 16th Place</td>\n",
       "      <td>22541</td>\n",
       "    </tr>\n",
       "    <tr>\n",
       "      <th>21492</th>\n",
       "      <td>2524069097</td>\n",
       "      <td>20140509T000000</td>\n",
       "      <td>2238890.00</td>\n",
       "      <td>5</td>\n",
       "      <td>6.50</td>\n",
       "      <td>7270</td>\n",
       "      <td>130017</td>\n",
       "      <td>2.00</td>\n",
       "      <td>0</td>\n",
       "      <td>0</td>\n",
       "      <td>3</td>\n",
       "      <td>12</td>\n",
       "      <td>6420</td>\n",
       "      <td>850</td>\n",
       "      <td>2010</td>\n",
       "      <td>0</td>\n",
       "      <td>98027</td>\n",
       "      <td>47.54</td>\n",
       "      <td>-121.98</td>\n",
       "      <td>1800</td>\n",
       "      <td>44890</td>\n",
       "      <td>270th Place Southeast</td>\n",
       "      <td>7099</td>\n",
       "    </tr>\n",
       "    <tr>\n",
       "      <th>14545</th>\n",
       "      <td>2303900035</td>\n",
       "      <td>20140611T000000</td>\n",
       "      <td>2888000.00</td>\n",
       "      <td>5</td>\n",
       "      <td>6.25</td>\n",
       "      <td>8670</td>\n",
       "      <td>64033</td>\n",
       "      <td>2.00</td>\n",
       "      <td>0</td>\n",
       "      <td>4</td>\n",
       "      <td>3</td>\n",
       "      <td>13</td>\n",
       "      <td>6120</td>\n",
       "      <td>2550</td>\n",
       "      <td>1965</td>\n",
       "      <td>2003</td>\n",
       "      <td>98177</td>\n",
       "      <td>47.73</td>\n",
       "      <td>-122.37</td>\n",
       "      <td>4140</td>\n",
       "      <td>81021</td>\n",
       "      <td>Northwest Elford Drive</td>\n",
       "      <td>1291</td>\n",
       "    </tr>\n",
       "    <tr>\n",
       "      <th>18290</th>\n",
       "      <td>6072800246</td>\n",
       "      <td>20140702T000000</td>\n",
       "      <td>3300000.00</td>\n",
       "      <td>5</td>\n",
       "      <td>6.25</td>\n",
       "      <td>8020</td>\n",
       "      <td>21738</td>\n",
       "      <td>2.00</td>\n",
       "      <td>0</td>\n",
       "      <td>0</td>\n",
       "      <td>3</td>\n",
       "      <td>11</td>\n",
       "      <td>8020</td>\n",
       "      <td>0</td>\n",
       "      <td>2001</td>\n",
       "      <td>0</td>\n",
       "      <td>98006</td>\n",
       "      <td>47.57</td>\n",
       "      <td>-122.19</td>\n",
       "      <td>4160</td>\n",
       "      <td>18969</td>\n",
       "      <td>Crescent Key</td>\n",
       "      <td>6</td>\n",
       "    </tr>\n",
       "    <tr>\n",
       "      <th>21330</th>\n",
       "      <td>8835770170</td>\n",
       "      <td>20140822T000000</td>\n",
       "      <td>1488000.00</td>\n",
       "      <td>5</td>\n",
       "      <td>6.00</td>\n",
       "      <td>6880</td>\n",
       "      <td>279968</td>\n",
       "      <td>2.00</td>\n",
       "      <td>0</td>\n",
       "      <td>3</td>\n",
       "      <td>3</td>\n",
       "      <td>12</td>\n",
       "      <td>4070</td>\n",
       "      <td>2810</td>\n",
       "      <td>2007</td>\n",
       "      <td>0</td>\n",
       "      <td>98045</td>\n",
       "      <td>47.46</td>\n",
       "      <td>-121.78</td>\n",
       "      <td>4690</td>\n",
       "      <td>256803</td>\n",
       "      <td>Uplands Way Southeast</td>\n",
       "      <td>15277</td>\n",
       "    </tr>\n",
       "    <tr>\n",
       "      <th>19135</th>\n",
       "      <td>3625049042</td>\n",
       "      <td>20141011T000000</td>\n",
       "      <td>3635000.00</td>\n",
       "      <td>5</td>\n",
       "      <td>6.00</td>\n",
       "      <td>5490</td>\n",
       "      <td>19897</td>\n",
       "      <td>2.00</td>\n",
       "      <td>0</td>\n",
       "      <td>0</td>\n",
       "      <td>3</td>\n",
       "      <td>12</td>\n",
       "      <td>5490</td>\n",
       "      <td>0</td>\n",
       "      <td>2005</td>\n",
       "      <td>0</td>\n",
       "      <td>98039</td>\n",
       "      <td>47.62</td>\n",
       "      <td>-122.24</td>\n",
       "      <td>2910</td>\n",
       "      <td>17600</td>\n",
       "      <td>Overlake Drive West</td>\n",
       "      <td>7726</td>\n",
       "    </tr>\n",
       "    <tr>\n",
       "      <th>21036</th>\n",
       "      <td>2424059170</td>\n",
       "      <td>20150219T000000</td>\n",
       "      <td>900000.00</td>\n",
       "      <td>5</td>\n",
       "      <td>6.00</td>\n",
       "      <td>7120</td>\n",
       "      <td>40806</td>\n",
       "      <td>2.00</td>\n",
       "      <td>0</td>\n",
       "      <td>4</td>\n",
       "      <td>3</td>\n",
       "      <td>12</td>\n",
       "      <td>5480</td>\n",
       "      <td>1640</td>\n",
       "      <td>2007</td>\n",
       "      <td>0</td>\n",
       "      <td>98006</td>\n",
       "      <td>47.55</td>\n",
       "      <td>-122.11</td>\n",
       "      <td>3440</td>\n",
       "      <td>36859</td>\n",
       "      <td>169th Place Southeast</td>\n",
       "      <td>NaN</td>\n",
       "    </tr>\n",
       "    <tr>\n",
       "      <th>12361</th>\n",
       "      <td>6065300370</td>\n",
       "      <td>20150506T000000</td>\n",
       "      <td>4208000.00</td>\n",
       "      <td>5</td>\n",
       "      <td>6.00</td>\n",
       "      <td>7440</td>\n",
       "      <td>21540</td>\n",
       "      <td>2.00</td>\n",
       "      <td>0</td>\n",
       "      <td>0</td>\n",
       "      <td>3</td>\n",
       "      <td>12</td>\n",
       "      <td>5550</td>\n",
       "      <td>1890</td>\n",
       "      <td>2003</td>\n",
       "      <td>0</td>\n",
       "      <td>98006</td>\n",
       "      <td>47.57</td>\n",
       "      <td>-122.19</td>\n",
       "      <td>4740</td>\n",
       "      <td>19329</td>\n",
       "      <td>Columbia Key</td>\n",
       "      <td>75</td>\n",
       "    </tr>\n",
       "    <tr>\n",
       "      <th>4032</th>\n",
       "      <td>685000115</td>\n",
       "      <td>20141007T000000</td>\n",
       "      <td>2150000.00</td>\n",
       "      <td>8</td>\n",
       "      <td>6.00</td>\n",
       "      <td>4340</td>\n",
       "      <td>9415</td>\n",
       "      <td>2.00</td>\n",
       "      <td>0</td>\n",
       "      <td>0</td>\n",
       "      <td>3</td>\n",
       "      <td>8</td>\n",
       "      <td>4340</td>\n",
       "      <td>0</td>\n",
       "      <td>1967</td>\n",
       "      <td>0</td>\n",
       "      <td>98004</td>\n",
       "      <td>47.63</td>\n",
       "      <td>-122.20</td>\n",
       "      <td>2050</td>\n",
       "      <td>9100</td>\n",
       "      <td>Bellevue Way Northeast</td>\n",
       "      <td>NaN</td>\n",
       "    </tr>\n",
       "  </tbody>\n",
       "</table>\n",
       "</div>"
      ],
      "text/plain": [
       "               id             date      price  bedrooms  bathrooms  \\\n",
       "12767  1225069038  20140505T000000 2280000.00         7       8.00   \n",
       "7247   6762700020  20141013T000000 7700000.00         6       8.00   \n",
       "9247   9208900037  20140919T000000 6885000.00         6       7.75   \n",
       "8539    424049043  20140811T000000  450000.00         9       7.50   \n",
       "4021   9175600025  20141007T000000  800000.00         7       6.75   \n",
       "8087   1924059029  20140617T000000 4668000.00         5       6.75   \n",
       "20564   424069279  20150328T000000 1180000.00         6       6.50   \n",
       "21492  2524069097  20140509T000000 2238890.00         5       6.50   \n",
       "14545  2303900035  20140611T000000 2888000.00         5       6.25   \n",
       "18290  6072800246  20140702T000000 3300000.00         5       6.25   \n",
       "21330  8835770170  20140822T000000 1488000.00         5       6.00   \n",
       "19135  3625049042  20141011T000000 3635000.00         5       6.00   \n",
       "21036  2424059170  20150219T000000  900000.00         5       6.00   \n",
       "12361  6065300370  20150506T000000 4208000.00         5       6.00   \n",
       "4032    685000115  20141007T000000 2150000.00         8       6.00   \n",
       "\n",
       "       sqft_living  sqft_lot  floors  waterfront  view  condition  grade  \\\n",
       "12767        13540    307752    3.00           0     4          3     12   \n",
       "7247         12050     27600    2.50           0     3          4     13   \n",
       "9247          9890     31374    2.00           0     4          3     13   \n",
       "8539          4050      6504    2.00           0     0          3      7   \n",
       "4021          7480     41664    2.00           0     2          3     11   \n",
       "8087          9640     13068    1.00           1     4          3     12   \n",
       "20564         6260     10955    2.00           0     0          3     11   \n",
       "21492         7270    130017    2.00           0     0          3     12   \n",
       "14545         8670     64033    2.00           0     4          3     13   \n",
       "18290         8020     21738    2.00           0     0          3     11   \n",
       "21330         6880    279968    2.00           0     3          3     12   \n",
       "19135         5490     19897    2.00           0     0          3     12   \n",
       "21036         7120     40806    2.00           0     4          3     12   \n",
       "12361         7440     21540    2.00           0     0          3     12   \n",
       "4032          4340      9415    2.00           0     0          3      8   \n",
       "\n",
       "       sqft_above  sqft_basement  yr_built  yr_renovated  zipcode   lat  \\\n",
       "12767        9410           4130      1999             0    98053 47.67   \n",
       "7247         8570           3480      1910          1987    98102 47.63   \n",
       "9247         8860           1030      2001             0    98039 47.63   \n",
       "8539         4050              0      1996             0    98144 47.59   \n",
       "4021         5080           2400      1953             0    98166 47.46   \n",
       "8087         4820           4820      1983          2009    98040 47.56   \n",
       "20564        4840           1420      2007             0    98075 47.59   \n",
       "21492        6420            850      2010             0    98027 47.54   \n",
       "14545        6120           2550      1965          2003    98177 47.73   \n",
       "18290        8020              0      2001             0    98006 47.57   \n",
       "21330        4070           2810      2007             0    98045 47.46   \n",
       "19135        5490              0      2005             0    98039 47.62   \n",
       "21036        5480           1640      2007             0    98006 47.55   \n",
       "12361        5550           1890      2003             0    98006 47.57   \n",
       "4032         4340              0      1967             0    98004 47.63   \n",
       "\n",
       "         long  sqft_living15  sqft_lot15                    road house_number  \n",
       "12767 -121.99           4850      217800   Northeast 70th Street        26408  \n",
       "7247  -122.32           3940        8800     Harvard Avenue East         1137  \n",
       "9247  -122.24           4540       42730             Laurel Lane          NaN  \n",
       "8539  -122.30           1448        3866       24th Avenue South         1122  \n",
       "4021  -122.37           2810       33190  Southwest 156th Street         2700  \n",
       "8087  -122.21           3270       10454   Southeast 52nd Street          NaN  \n",
       "20564 -122.04           2710       12550    Southeast 16th Place        22541  \n",
       "21492 -121.98           1800       44890   270th Place Southeast         7099  \n",
       "14545 -122.37           4140       81021  Northwest Elford Drive         1291  \n",
       "18290 -122.19           4160       18969            Crescent Key            6  \n",
       "21330 -121.78           4690      256803   Uplands Way Southeast        15277  \n",
       "19135 -122.24           2910       17600     Overlake Drive West         7726  \n",
       "21036 -122.11           3440       36859   169th Place Southeast          NaN  \n",
       "12361 -122.19           4740       19329            Columbia Key           75  \n",
       "4032  -122.20           2050        9100  Bellevue Way Northeast          NaN  "
      ]
     },
     "execution_count": 41,
     "metadata": {},
     "output_type": "execute_result"
    },
    {
     "data": {
      "image/png": "[encoded data removed]",
      "text/plain": [
       "<Figure size 640x480 with 1 Axes>"
      ]
     },
     "metadata": {},
     "output_type": "display_data"
    }
   ],
   "source": [
    "outlier(data, 'bathrooms', h=15)"
   ]
  },
  {
   "cell_type": "markdown",
   "id": "d8bfaca3",
   "metadata": {},
   "source": [
    "nenhum desses registros apresenta valores discrepantes, visto que correspondem às características dos imóveis."
   ]
  },
  {
   "cell_type": "markdown",
   "id": "d73273ae",
   "metadata": {},
   "source": [
    "## 1.6.4 Coluna sqft_living"
   ]
  },
  {
   "cell_type": "code",
   "execution_count": 42,
   "id": "68db77a6",
   "metadata": {
    "ExecuteTime": {
     "end_time": "2023-05-25T15:52:24.202397Z",
     "start_time": "2023-05-25T15:52:23.803641Z"
    },
    "scrolled": true
   },
   "outputs": [
    {
     "data": {
      "text/html": [
       "<div>\n",
       "<style scoped>\n",
       "    .dataframe tbody tr th:only-of-type {\n",
       "        vertical-align: middle;\n",
       "    }\n",
       "\n",
       "    .dataframe tbody tr th {\n",
       "        vertical-align: top;\n",
       "    }\n",
       "\n",
       "    .dataframe thead th {\n",
       "        text-align: right;\n",
       "    }\n",
       "</style>\n",
       "<table border=\"1\" class=\"dataframe\">\n",
       "  <thead>\n",
       "    <tr style=\"text-align: right;\">\n",
       "      <th></th>\n",
       "      <th>id</th>\n",
       "      <th>date</th>\n",
       "      <th>price</th>\n",
       "      <th>bedrooms</th>\n",
       "      <th>bathrooms</th>\n",
       "      <th>sqft_living</th>\n",
       "      <th>sqft_lot</th>\n",
       "      <th>floors</th>\n",
       "      <th>waterfront</th>\n",
       "      <th>view</th>\n",
       "      <th>condition</th>\n",
       "      <th>grade</th>\n",
       "      <th>sqft_above</th>\n",
       "      <th>sqft_basement</th>\n",
       "      <th>yr_built</th>\n",
       "      <th>yr_renovated</th>\n",
       "      <th>zipcode</th>\n",
       "      <th>lat</th>\n",
       "      <th>long</th>\n",
       "      <th>sqft_living15</th>\n",
       "      <th>sqft_lot15</th>\n",
       "      <th>road</th>\n",
       "      <th>house_number</th>\n",
       "    </tr>\n",
       "  </thead>\n",
       "  <tbody>\n",
       "    <tr>\n",
       "      <th>12767</th>\n",
       "      <td>1225069038</td>\n",
       "      <td>20140505T000000</td>\n",
       "      <td>2280000.00</td>\n",
       "      <td>7</td>\n",
       "      <td>8.00</td>\n",
       "      <td>13540</td>\n",
       "      <td>307752</td>\n",
       "      <td>3.00</td>\n",
       "      <td>0</td>\n",
       "      <td>4</td>\n",
       "      <td>3</td>\n",
       "      <td>12</td>\n",
       "      <td>9410</td>\n",
       "      <td>4130</td>\n",
       "      <td>1999</td>\n",
       "      <td>0</td>\n",
       "      <td>98053</td>\n",
       "      <td>47.67</td>\n",
       "      <td>-121.99</td>\n",
       "      <td>4850</td>\n",
       "      <td>217800</td>\n",
       "      <td>Northeast 70th Street</td>\n",
       "      <td>26408</td>\n",
       "    </tr>\n",
       "    <tr>\n",
       "      <th>7247</th>\n",
       "      <td>6762700020</td>\n",
       "      <td>20141013T000000</td>\n",
       "      <td>7700000.00</td>\n",
       "      <td>6</td>\n",
       "      <td>8.00</td>\n",
       "      <td>12050</td>\n",
       "      <td>27600</td>\n",
       "      <td>2.50</td>\n",
       "      <td>0</td>\n",
       "      <td>3</td>\n",
       "      <td>4</td>\n",
       "      <td>13</td>\n",
       "      <td>8570</td>\n",
       "      <td>3480</td>\n",
       "      <td>1910</td>\n",
       "      <td>1987</td>\n",
       "      <td>98102</td>\n",
       "      <td>47.63</td>\n",
       "      <td>-122.32</td>\n",
       "      <td>3940</td>\n",
       "      <td>8800</td>\n",
       "      <td>Harvard Avenue East</td>\n",
       "      <td>1137</td>\n",
       "    </tr>\n",
       "    <tr>\n",
       "      <th>3911</th>\n",
       "      <td>9808700762</td>\n",
       "      <td>20140611T000000</td>\n",
       "      <td>7062500.00</td>\n",
       "      <td>5</td>\n",
       "      <td>4.50</td>\n",
       "      <td>10040</td>\n",
       "      <td>37325</td>\n",
       "      <td>2.00</td>\n",
       "      <td>1</td>\n",
       "      <td>2</td>\n",
       "      <td>3</td>\n",
       "      <td>11</td>\n",
       "      <td>7680</td>\n",
       "      <td>2360</td>\n",
       "      <td>1940</td>\n",
       "      <td>2001</td>\n",
       "      <td>98004</td>\n",
       "      <td>47.65</td>\n",
       "      <td>-122.21</td>\n",
       "      <td>3930</td>\n",
       "      <td>25449</td>\n",
       "      <td>95th Avenue Northeast</td>\n",
       "      <td>NaN</td>\n",
       "    </tr>\n",
       "    <tr>\n",
       "      <th>9247</th>\n",
       "      <td>9208900037</td>\n",
       "      <td>20140919T000000</td>\n",
       "      <td>6885000.00</td>\n",
       "      <td>6</td>\n",
       "      <td>7.75</td>\n",
       "      <td>9890</td>\n",
       "      <td>31374</td>\n",
       "      <td>2.00</td>\n",
       "      <td>0</td>\n",
       "      <td>4</td>\n",
       "      <td>3</td>\n",
       "      <td>13</td>\n",
       "      <td>8860</td>\n",
       "      <td>1030</td>\n",
       "      <td>2001</td>\n",
       "      <td>0</td>\n",
       "      <td>98039</td>\n",
       "      <td>47.63</td>\n",
       "      <td>-122.24</td>\n",
       "      <td>4540</td>\n",
       "      <td>42730</td>\n",
       "      <td>Laurel Lane</td>\n",
       "      <td>NaN</td>\n",
       "    </tr>\n",
       "    <tr>\n",
       "      <th>8087</th>\n",
       "      <td>1924059029</td>\n",
       "      <td>20140617T000000</td>\n",
       "      <td>4668000.00</td>\n",
       "      <td>5</td>\n",
       "      <td>6.75</td>\n",
       "      <td>9640</td>\n",
       "      <td>13068</td>\n",
       "      <td>1.00</td>\n",
       "      <td>1</td>\n",
       "      <td>4</td>\n",
       "      <td>3</td>\n",
       "      <td>12</td>\n",
       "      <td>4820</td>\n",
       "      <td>4820</td>\n",
       "      <td>1983</td>\n",
       "      <td>2009</td>\n",
       "      <td>98040</td>\n",
       "      <td>47.56</td>\n",
       "      <td>-122.21</td>\n",
       "      <td>3270</td>\n",
       "      <td>10454</td>\n",
       "      <td>Southeast 52nd Street</td>\n",
       "      <td>NaN</td>\n",
       "    </tr>\n",
       "    <tr>\n",
       "      <th>4408</th>\n",
       "      <td>2470100110</td>\n",
       "      <td>20140804T000000</td>\n",
       "      <td>5570000.00</td>\n",
       "      <td>5</td>\n",
       "      <td>5.75</td>\n",
       "      <td>9200</td>\n",
       "      <td>35069</td>\n",
       "      <td>2.00</td>\n",
       "      <td>0</td>\n",
       "      <td>0</td>\n",
       "      <td>3</td>\n",
       "      <td>13</td>\n",
       "      <td>6200</td>\n",
       "      <td>3000</td>\n",
       "      <td>2001</td>\n",
       "      <td>0</td>\n",
       "      <td>98039</td>\n",
       "      <td>47.63</td>\n",
       "      <td>-122.23</td>\n",
       "      <td>3560</td>\n",
       "      <td>24345</td>\n",
       "      <td>Northeast 12th Street</td>\n",
       "      <td>NaN</td>\n",
       "    </tr>\n",
       "    <tr>\n",
       "      <th>14545</th>\n",
       "      <td>2303900035</td>\n",
       "      <td>20140611T000000</td>\n",
       "      <td>2888000.00</td>\n",
       "      <td>5</td>\n",
       "      <td>6.25</td>\n",
       "      <td>8670</td>\n",
       "      <td>64033</td>\n",
       "      <td>2.00</td>\n",
       "      <td>0</td>\n",
       "      <td>4</td>\n",
       "      <td>3</td>\n",
       "      <td>13</td>\n",
       "      <td>6120</td>\n",
       "      <td>2550</td>\n",
       "      <td>1965</td>\n",
       "      <td>2003</td>\n",
       "      <td>98177</td>\n",
       "      <td>47.73</td>\n",
       "      <td>-122.37</td>\n",
       "      <td>4140</td>\n",
       "      <td>81021</td>\n",
       "      <td>Northwest Elford Drive</td>\n",
       "      <td>1291</td>\n",
       "    </tr>\n",
       "    <tr>\n",
       "      <th>18290</th>\n",
       "      <td>6072800246</td>\n",
       "      <td>20140702T000000</td>\n",
       "      <td>3300000.00</td>\n",
       "      <td>5</td>\n",
       "      <td>6.25</td>\n",
       "      <td>8020</td>\n",
       "      <td>21738</td>\n",
       "      <td>2.00</td>\n",
       "      <td>0</td>\n",
       "      <td>0</td>\n",
       "      <td>3</td>\n",
       "      <td>11</td>\n",
       "      <td>8020</td>\n",
       "      <td>0</td>\n",
       "      <td>2001</td>\n",
       "      <td>0</td>\n",
       "      <td>98006</td>\n",
       "      <td>47.57</td>\n",
       "      <td>-122.19</td>\n",
       "      <td>4160</td>\n",
       "      <td>18969</td>\n",
       "      <td>Crescent Key</td>\n",
       "      <td>6</td>\n",
       "    </tr>\n",
       "    <tr>\n",
       "      <th>1163</th>\n",
       "      <td>1247600105</td>\n",
       "      <td>20141020T000000</td>\n",
       "      <td>5110800.00</td>\n",
       "      <td>5</td>\n",
       "      <td>5.25</td>\n",
       "      <td>8010</td>\n",
       "      <td>45517</td>\n",
       "      <td>2.00</td>\n",
       "      <td>1</td>\n",
       "      <td>4</td>\n",
       "      <td>3</td>\n",
       "      <td>12</td>\n",
       "      <td>5990</td>\n",
       "      <td>2020</td>\n",
       "      <td>1999</td>\n",
       "      <td>0</td>\n",
       "      <td>98033</td>\n",
       "      <td>47.68</td>\n",
       "      <td>-122.21</td>\n",
       "      <td>3430</td>\n",
       "      <td>26788</td>\n",
       "      <td>Lake Avenue West</td>\n",
       "      <td>137</td>\n",
       "    </tr>\n",
       "    <tr>\n",
       "      <th>1447</th>\n",
       "      <td>8907500070</td>\n",
       "      <td>20150413T000000</td>\n",
       "      <td>5350000.00</td>\n",
       "      <td>5</td>\n",
       "      <td>5.00</td>\n",
       "      <td>8000</td>\n",
       "      <td>23985</td>\n",
       "      <td>2.00</td>\n",
       "      <td>0</td>\n",
       "      <td>4</td>\n",
       "      <td>3</td>\n",
       "      <td>12</td>\n",
       "      <td>6720</td>\n",
       "      <td>1280</td>\n",
       "      <td>2009</td>\n",
       "      <td>0</td>\n",
       "      <td>98004</td>\n",
       "      <td>47.62</td>\n",
       "      <td>-122.22</td>\n",
       "      <td>4600</td>\n",
       "      <td>21750</td>\n",
       "      <td>Northeast 14th Street</td>\n",
       "      <td>9045</td>\n",
       "    </tr>\n",
       "    <tr>\n",
       "      <th>13401</th>\n",
       "      <td>2426039123</td>\n",
       "      <td>20150130T000000</td>\n",
       "      <td>2415000.00</td>\n",
       "      <td>5</td>\n",
       "      <td>4.75</td>\n",
       "      <td>7880</td>\n",
       "      <td>24250</td>\n",
       "      <td>2.00</td>\n",
       "      <td>0</td>\n",
       "      <td>2</td>\n",
       "      <td>3</td>\n",
       "      <td>13</td>\n",
       "      <td>7880</td>\n",
       "      <td>0</td>\n",
       "      <td>1996</td>\n",
       "      <td>0</td>\n",
       "      <td>98177</td>\n",
       "      <td>47.73</td>\n",
       "      <td>-122.36</td>\n",
       "      <td>2740</td>\n",
       "      <td>10761</td>\n",
       "      <td>3rd Avenue Northwest</td>\n",
       "      <td>14405</td>\n",
       "    </tr>\n",
       "    <tr>\n",
       "      <th>19844</th>\n",
       "      <td>2524069078</td>\n",
       "      <td>20150122T000000</td>\n",
       "      <td>2700000.00</td>\n",
       "      <td>4</td>\n",
       "      <td>4.00</td>\n",
       "      <td>7850</td>\n",
       "      <td>89651</td>\n",
       "      <td>2.00</td>\n",
       "      <td>0</td>\n",
       "      <td>0</td>\n",
       "      <td>3</td>\n",
       "      <td>12</td>\n",
       "      <td>7850</td>\n",
       "      <td>0</td>\n",
       "      <td>2006</td>\n",
       "      <td>0</td>\n",
       "      <td>98027</td>\n",
       "      <td>47.54</td>\n",
       "      <td>-121.98</td>\n",
       "      <td>6210</td>\n",
       "      <td>95832</td>\n",
       "      <td>Southeast Grand Ridge Drive</td>\n",
       "      <td>26814</td>\n",
       "    </tr>\n",
       "    <tr>\n",
       "      <th>16761</th>\n",
       "      <td>1630700380</td>\n",
       "      <td>20150130T000000</td>\n",
       "      <td>1920000.00</td>\n",
       "      <td>5</td>\n",
       "      <td>5.75</td>\n",
       "      <td>7730</td>\n",
       "      <td>230868</td>\n",
       "      <td>2.00</td>\n",
       "      <td>0</td>\n",
       "      <td>0</td>\n",
       "      <td>3</td>\n",
       "      <td>12</td>\n",
       "      <td>6660</td>\n",
       "      <td>1070</td>\n",
       "      <td>2004</td>\n",
       "      <td>0</td>\n",
       "      <td>98077</td>\n",
       "      <td>47.76</td>\n",
       "      <td>-122.08</td>\n",
       "      <td>2660</td>\n",
       "      <td>39292</td>\n",
       "      <td>Northeast 186th Place</td>\n",
       "      <td>NaN</td>\n",
       "    </tr>\n",
       "    <tr>\n",
       "      <th>18464</th>\n",
       "      <td>1346300150</td>\n",
       "      <td>20141020T000000</td>\n",
       "      <td>3300000.00</td>\n",
       "      <td>8</td>\n",
       "      <td>4.00</td>\n",
       "      <td>7710</td>\n",
       "      <td>11750</td>\n",
       "      <td>3.50</td>\n",
       "      <td>0</td>\n",
       "      <td>0</td>\n",
       "      <td>5</td>\n",
       "      <td>12</td>\n",
       "      <td>6090</td>\n",
       "      <td>1620</td>\n",
       "      <td>1904</td>\n",
       "      <td>0</td>\n",
       "      <td>98112</td>\n",
       "      <td>47.63</td>\n",
       "      <td>-122.31</td>\n",
       "      <td>4210</td>\n",
       "      <td>8325</td>\n",
       "      <td>East Valley Street</td>\n",
       "      <td>1414</td>\n",
       "    </tr>\n",
       "    <tr>\n",
       "      <th>14022</th>\n",
       "      <td>3459900230</td>\n",
       "      <td>20141125T000000</td>\n",
       "      <td>1680000.00</td>\n",
       "      <td>4</td>\n",
       "      <td>3.75</td>\n",
       "      <td>7620</td>\n",
       "      <td>29536</td>\n",
       "      <td>2.00</td>\n",
       "      <td>0</td>\n",
       "      <td>3</td>\n",
       "      <td>3</td>\n",
       "      <td>11</td>\n",
       "      <td>5980</td>\n",
       "      <td>1640</td>\n",
       "      <td>2005</td>\n",
       "      <td>0</td>\n",
       "      <td>98006</td>\n",
       "      <td>47.56</td>\n",
       "      <td>-122.14</td>\n",
       "      <td>2840</td>\n",
       "      <td>20809</td>\n",
       "      <td>Southeast 50th Street</td>\n",
       "      <td>14955</td>\n",
       "    </tr>\n",
       "  </tbody>\n",
       "</table>\n",
       "</div>"
      ],
      "text/plain": [
       "               id             date      price  bedrooms  bathrooms  \\\n",
       "12767  1225069038  20140505T000000 2280000.00         7       8.00   \n",
       "7247   6762700020  20141013T000000 7700000.00         6       8.00   \n",
       "3911   9808700762  20140611T000000 7062500.00         5       4.50   \n",
       "9247   9208900037  20140919T000000 6885000.00         6       7.75   \n",
       "8087   1924059029  20140617T000000 4668000.00         5       6.75   \n",
       "4408   2470100110  20140804T000000 5570000.00         5       5.75   \n",
       "14545  2303900035  20140611T000000 2888000.00         5       6.25   \n",
       "18290  6072800246  20140702T000000 3300000.00         5       6.25   \n",
       "1163   1247600105  20141020T000000 5110800.00         5       5.25   \n",
       "1447   8907500070  20150413T000000 5350000.00         5       5.00   \n",
       "13401  2426039123  20150130T000000 2415000.00         5       4.75   \n",
       "19844  2524069078  20150122T000000 2700000.00         4       4.00   \n",
       "16761  1630700380  20150130T000000 1920000.00         5       5.75   \n",
       "18464  1346300150  20141020T000000 3300000.00         8       4.00   \n",
       "14022  3459900230  20141125T000000 1680000.00         4       3.75   \n",
       "\n",
       "       sqft_living  sqft_lot  floors  waterfront  view  condition  grade  \\\n",
       "12767        13540    307752    3.00           0     4          3     12   \n",
       "7247         12050     27600    2.50           0     3          4     13   \n",
       "3911         10040     37325    2.00           1     2          3     11   \n",
       "9247          9890     31374    2.00           0     4          3     13   \n",
       "8087          9640     13068    1.00           1     4          3     12   \n",
       "4408          9200     35069    2.00           0     0          3     13   \n",
       "14545         8670     64033    2.00           0     4          3     13   \n",
       "18290         8020     21738    2.00           0     0          3     11   \n",
       "1163          8010     45517    2.00           1     4          3     12   \n",
       "1447          8000     23985    2.00           0     4          3     12   \n",
       "13401         7880     24250    2.00           0     2          3     13   \n",
       "19844         7850     89651    2.00           0     0          3     12   \n",
       "16761         7730    230868    2.00           0     0          3     12   \n",
       "18464         7710     11750    3.50           0     0          5     12   \n",
       "14022         7620     29536    2.00           0     3          3     11   \n",
       "\n",
       "       sqft_above  sqft_basement  yr_built  yr_renovated  zipcode   lat  \\\n",
       "12767        9410           4130      1999             0    98053 47.67   \n",
       "7247         8570           3480      1910          1987    98102 47.63   \n",
       "3911         7680           2360      1940          2001    98004 47.65   \n",
       "9247         8860           1030      2001             0    98039 47.63   \n",
       "8087         4820           4820      1983          2009    98040 47.56   \n",
       "4408         6200           3000      2001             0    98039 47.63   \n",
       "14545        6120           2550      1965          2003    98177 47.73   \n",
       "18290        8020              0      2001             0    98006 47.57   \n",
       "1163         5990           2020      1999             0    98033 47.68   \n",
       "1447         6720           1280      2009             0    98004 47.62   \n",
       "13401        7880              0      1996             0    98177 47.73   \n",
       "19844        7850              0      2006             0    98027 47.54   \n",
       "16761        6660           1070      2004             0    98077 47.76   \n",
       "18464        6090           1620      1904             0    98112 47.63   \n",
       "14022        5980           1640      2005             0    98006 47.56   \n",
       "\n",
       "         long  sqft_living15  sqft_lot15                         road  \\\n",
       "12767 -121.99           4850      217800        Northeast 70th Street   \n",
       "7247  -122.32           3940        8800          Harvard Avenue East   \n",
       "3911  -122.21           3930       25449        95th Avenue Northeast   \n",
       "9247  -122.24           4540       42730                  Laurel Lane   \n",
       "8087  -122.21           3270       10454        Southeast 52nd Street   \n",
       "4408  -122.23           3560       24345        Northeast 12th Street   \n",
       "14545 -122.37           4140       81021       Northwest Elford Drive   \n",
       "18290 -122.19           4160       18969                 Crescent Key   \n",
       "1163  -122.21           3430       26788             Lake Avenue West   \n",
       "1447  -122.22           4600       21750        Northeast 14th Street   \n",
       "13401 -122.36           2740       10761         3rd Avenue Northwest   \n",
       "19844 -121.98           6210       95832  Southeast Grand Ridge Drive   \n",
       "16761 -122.08           2660       39292        Northeast 186th Place   \n",
       "18464 -122.31           4210        8325           East Valley Street   \n",
       "14022 -122.14           2840       20809        Southeast 50th Street   \n",
       "\n",
       "      house_number  \n",
       "12767        26408  \n",
       "7247          1137  \n",
       "3911           NaN  \n",
       "9247           NaN  \n",
       "8087           NaN  \n",
       "4408           NaN  \n",
       "14545         1291  \n",
       "18290            6  \n",
       "1163           137  \n",
       "1447          9045  \n",
       "13401        14405  \n",
       "19844        26814  \n",
       "16761          NaN  \n",
       "18464         1414  \n",
       "14022        14955  "
      ]
     },
     "execution_count": 42,
     "metadata": {},
     "output_type": "execute_result"
    },
    {
     "data": {
      "image/png": "[encoded data removed]",
      "text/plain": [
       "<Figure size 640x480 with 1 Axes>"
      ]
     },
     "metadata": {},
     "output_type": "display_data"
    }
   ],
   "source": [
    "outlier(data, 'sqft_living', h=15)"
   ]
  },
  {
   "cell_type": "markdown",
   "id": "7970d545",
   "metadata": {},
   "source": [
    "nenhum desses registros apresenta valores discrepantes, visto que os preços correspondem às características dos imóveis."
   ]
  },
  {
   "cell_type": "markdown",
   "id": "b3b1fc57",
   "metadata": {},
   "source": [
    "## 1.6.3 Coluna sqft_lot"
   ]
  },
  {
   "cell_type": "code",
   "execution_count": 43,
   "id": "ec4c708e",
   "metadata": {
    "ExecuteTime": {
     "end_time": "2023-05-25T15:52:26.294362Z",
     "start_time": "2023-05-25T15:52:25.956570Z"
    },
    "scrolled": true
   },
   "outputs": [
    {
     "data": {
      "text/html": [
       "<div>\n",
       "<style scoped>\n",
       "    .dataframe tbody tr th:only-of-type {\n",
       "        vertical-align: middle;\n",
       "    }\n",
       "\n",
       "    .dataframe tbody tr th {\n",
       "        vertical-align: top;\n",
       "    }\n",
       "\n",
       "    .dataframe thead th {\n",
       "        text-align: right;\n",
       "    }\n",
       "</style>\n",
       "<table border=\"1\" class=\"dataframe\">\n",
       "  <thead>\n",
       "    <tr style=\"text-align: right;\">\n",
       "      <th></th>\n",
       "      <th>id</th>\n",
       "      <th>date</th>\n",
       "      <th>price</th>\n",
       "      <th>bedrooms</th>\n",
       "      <th>bathrooms</th>\n",
       "      <th>sqft_living</th>\n",
       "      <th>sqft_lot</th>\n",
       "      <th>floors</th>\n",
       "      <th>waterfront</th>\n",
       "      <th>view</th>\n",
       "      <th>condition</th>\n",
       "      <th>grade</th>\n",
       "      <th>sqft_above</th>\n",
       "      <th>sqft_basement</th>\n",
       "      <th>yr_built</th>\n",
       "      <th>yr_renovated</th>\n",
       "      <th>zipcode</th>\n",
       "      <th>lat</th>\n",
       "      <th>long</th>\n",
       "      <th>sqft_living15</th>\n",
       "      <th>sqft_lot15</th>\n",
       "      <th>road</th>\n",
       "      <th>house_number</th>\n",
       "    </tr>\n",
       "  </thead>\n",
       "  <tbody>\n",
       "    <tr>\n",
       "      <th>1718</th>\n",
       "      <td>1020069017</td>\n",
       "      <td>20150327T000000</td>\n",
       "      <td>700000.00</td>\n",
       "      <td>4</td>\n",
       "      <td>1.00</td>\n",
       "      <td>1300</td>\n",
       "      <td>1651359</td>\n",
       "      <td>1.00</td>\n",
       "      <td>0</td>\n",
       "      <td>3</td>\n",
       "      <td>4</td>\n",
       "      <td>6</td>\n",
       "      <td>1300</td>\n",
       "      <td>0</td>\n",
       "      <td>1920</td>\n",
       "      <td>0</td>\n",
       "      <td>98022</td>\n",
       "      <td>47.23</td>\n",
       "      <td>-122.02</td>\n",
       "      <td>2560</td>\n",
       "      <td>425581</td>\n",
       "      <td>236th Avenue Southeast</td>\n",
       "      <td>41226</td>\n",
       "    </tr>\n",
       "    <tr>\n",
       "      <th>17307</th>\n",
       "      <td>3326079016</td>\n",
       "      <td>20150504T000000</td>\n",
       "      <td>190000.00</td>\n",
       "      <td>2</td>\n",
       "      <td>1.00</td>\n",
       "      <td>710</td>\n",
       "      <td>1164794</td>\n",
       "      <td>1.00</td>\n",
       "      <td>0</td>\n",
       "      <td>0</td>\n",
       "      <td>2</td>\n",
       "      <td>5</td>\n",
       "      <td>710</td>\n",
       "      <td>0</td>\n",
       "      <td>1915</td>\n",
       "      <td>0</td>\n",
       "      <td>98014</td>\n",
       "      <td>47.69</td>\n",
       "      <td>-121.91</td>\n",
       "      <td>1680</td>\n",
       "      <td>16730</td>\n",
       "      <td>Kelly Road Northeast</td>\n",
       "      <td>10001</td>\n",
       "    </tr>\n",
       "    <tr>\n",
       "      <th>7642</th>\n",
       "      <td>2623069031</td>\n",
       "      <td>20140521T000000</td>\n",
       "      <td>542500.00</td>\n",
       "      <td>5</td>\n",
       "      <td>3.25</td>\n",
       "      <td>3010</td>\n",
       "      <td>1074218</td>\n",
       "      <td>1.50</td>\n",
       "      <td>0</td>\n",
       "      <td>0</td>\n",
       "      <td>5</td>\n",
       "      <td>8</td>\n",
       "      <td>2010</td>\n",
       "      <td>1000</td>\n",
       "      <td>1931</td>\n",
       "      <td>0</td>\n",
       "      <td>98027</td>\n",
       "      <td>47.46</td>\n",
       "      <td>-122.00</td>\n",
       "      <td>2450</td>\n",
       "      <td>68825</td>\n",
       "      <td>252nd Avenue Southeast</td>\n",
       "      <td>16206</td>\n",
       "    </tr>\n",
       "    <tr>\n",
       "      <th>7764</th>\n",
       "      <td>2323089009</td>\n",
       "      <td>20150119T000000</td>\n",
       "      <td>855000.00</td>\n",
       "      <td>4</td>\n",
       "      <td>3.50</td>\n",
       "      <td>4030</td>\n",
       "      <td>1024068</td>\n",
       "      <td>2.00</td>\n",
       "      <td>0</td>\n",
       "      <td>0</td>\n",
       "      <td>3</td>\n",
       "      <td>10</td>\n",
       "      <td>4030</td>\n",
       "      <td>0</td>\n",
       "      <td>2006</td>\n",
       "      <td>0</td>\n",
       "      <td>98045</td>\n",
       "      <td>47.46</td>\n",
       "      <td>-121.74</td>\n",
       "      <td>1830</td>\n",
       "      <td>11700</td>\n",
       "      <td>NaN</td>\n",
       "      <td>NaN</td>\n",
       "    </tr>\n",
       "    <tr>\n",
       "      <th>3946</th>\n",
       "      <td>722069232</td>\n",
       "      <td>20140905T000000</td>\n",
       "      <td>998000.00</td>\n",
       "      <td>4</td>\n",
       "      <td>3.25</td>\n",
       "      <td>3770</td>\n",
       "      <td>982998</td>\n",
       "      <td>2.00</td>\n",
       "      <td>0</td>\n",
       "      <td>0</td>\n",
       "      <td>3</td>\n",
       "      <td>10</td>\n",
       "      <td>3770</td>\n",
       "      <td>0</td>\n",
       "      <td>1992</td>\n",
       "      <td>0</td>\n",
       "      <td>98058</td>\n",
       "      <td>47.41</td>\n",
       "      <td>-122.09</td>\n",
       "      <td>2290</td>\n",
       "      <td>37141</td>\n",
       "      <td>Southeast 209th Place</td>\n",
       "      <td>19115</td>\n",
       "    </tr>\n",
       "    <tr>\n",
       "      <th>4438</th>\n",
       "      <td>3626079040</td>\n",
       "      <td>20140730T000000</td>\n",
       "      <td>790000.00</td>\n",
       "      <td>2</td>\n",
       "      <td>3.00</td>\n",
       "      <td>2560</td>\n",
       "      <td>982278</td>\n",
       "      <td>1.00</td>\n",
       "      <td>0</td>\n",
       "      <td>0</td>\n",
       "      <td>3</td>\n",
       "      <td>8</td>\n",
       "      <td>2560</td>\n",
       "      <td>0</td>\n",
       "      <td>2004</td>\n",
       "      <td>0</td>\n",
       "      <td>98014</td>\n",
       "      <td>47.70</td>\n",
       "      <td>-121.86</td>\n",
       "      <td>1620</td>\n",
       "      <td>40946</td>\n",
       "      <td>Northeast Moss Lake Road</td>\n",
       "      <td>NaN</td>\n",
       "    </tr>\n",
       "    <tr>\n",
       "      <th>6687</th>\n",
       "      <td>2624089007</td>\n",
       "      <td>20150320T000000</td>\n",
       "      <td>1998000.00</td>\n",
       "      <td>2</td>\n",
       "      <td>2.50</td>\n",
       "      <td>3900</td>\n",
       "      <td>920423</td>\n",
       "      <td>2.00</td>\n",
       "      <td>0</td>\n",
       "      <td>0</td>\n",
       "      <td>3</td>\n",
       "      <td>12</td>\n",
       "      <td>3900</td>\n",
       "      <td>0</td>\n",
       "      <td>2009</td>\n",
       "      <td>0</td>\n",
       "      <td>98065</td>\n",
       "      <td>47.54</td>\n",
       "      <td>-121.76</td>\n",
       "      <td>2720</td>\n",
       "      <td>411962</td>\n",
       "      <td>North Fork Road Southeast</td>\n",
       "      <td>NaN</td>\n",
       "    </tr>\n",
       "    <tr>\n",
       "      <th>7072</th>\n",
       "      <td>2724079090</td>\n",
       "      <td>20150105T000000</td>\n",
       "      <td>1650000.00</td>\n",
       "      <td>4</td>\n",
       "      <td>3.25</td>\n",
       "      <td>3920</td>\n",
       "      <td>881654</td>\n",
       "      <td>3.00</td>\n",
       "      <td>0</td>\n",
       "      <td>3</td>\n",
       "      <td>3</td>\n",
       "      <td>11</td>\n",
       "      <td>3920</td>\n",
       "      <td>0</td>\n",
       "      <td>2002</td>\n",
       "      <td>0</td>\n",
       "      <td>98024</td>\n",
       "      <td>47.54</td>\n",
       "      <td>-121.90</td>\n",
       "      <td>2970</td>\n",
       "      <td>112384</td>\n",
       "      <td>Lake Alice Road Southeast</td>\n",
       "      <td>NaN</td>\n",
       "    </tr>\n",
       "    <tr>\n",
       "      <th>20438</th>\n",
       "      <td>1125079111</td>\n",
       "      <td>20150415T000000</td>\n",
       "      <td>1600000.00</td>\n",
       "      <td>4</td>\n",
       "      <td>5.50</td>\n",
       "      <td>6530</td>\n",
       "      <td>871200</td>\n",
       "      <td>2.00</td>\n",
       "      <td>0</td>\n",
       "      <td>2</td>\n",
       "      <td>3</td>\n",
       "      <td>11</td>\n",
       "      <td>6530</td>\n",
       "      <td>0</td>\n",
       "      <td>2008</td>\n",
       "      <td>0</td>\n",
       "      <td>98014</td>\n",
       "      <td>47.66</td>\n",
       "      <td>-121.88</td>\n",
       "      <td>1280</td>\n",
       "      <td>858132</td>\n",
       "      <td>Tolt Highlands Northeast Road</td>\n",
       "      <td>NaN</td>\n",
       "    </tr>\n",
       "    <tr>\n",
       "      <th>9707</th>\n",
       "      <td>225079036</td>\n",
       "      <td>20150107T000000</td>\n",
       "      <td>937500.00</td>\n",
       "      <td>4</td>\n",
       "      <td>4.00</td>\n",
       "      <td>5545</td>\n",
       "      <td>871200</td>\n",
       "      <td>2.00</td>\n",
       "      <td>0</td>\n",
       "      <td>0</td>\n",
       "      <td>3</td>\n",
       "      <td>11</td>\n",
       "      <td>3605</td>\n",
       "      <td>1940</td>\n",
       "      <td>2003</td>\n",
       "      <td>0</td>\n",
       "      <td>98014</td>\n",
       "      <td>47.68</td>\n",
       "      <td>-121.88</td>\n",
       "      <td>3420</td>\n",
       "      <td>871200</td>\n",
       "      <td>Tolt Highlands Northeast Road</td>\n",
       "      <td>9010</td>\n",
       "    </tr>\n",
       "    <tr>\n",
       "      <th>4537</th>\n",
       "      <td>2522029039</td>\n",
       "      <td>20140929T000000</td>\n",
       "      <td>550000.00</td>\n",
       "      <td>3</td>\n",
       "      <td>2.00</td>\n",
       "      <td>3650</td>\n",
       "      <td>843309</td>\n",
       "      <td>2.00</td>\n",
       "      <td>0</td>\n",
       "      <td>0</td>\n",
       "      <td>4</td>\n",
       "      <td>7</td>\n",
       "      <td>3650</td>\n",
       "      <td>0</td>\n",
       "      <td>1991</td>\n",
       "      <td>0</td>\n",
       "      <td>98070</td>\n",
       "      <td>47.36</td>\n",
       "      <td>-122.50</td>\n",
       "      <td>1870</td>\n",
       "      <td>273992</td>\n",
       "      <td>Vashon Highway Southwest</td>\n",
       "      <td>NaN</td>\n",
       "    </tr>\n",
       "    <tr>\n",
       "      <th>12996</th>\n",
       "      <td>619079096</td>\n",
       "      <td>20150406T000000</td>\n",
       "      <td>750000.00</td>\n",
       "      <td>3</td>\n",
       "      <td>2.50</td>\n",
       "      <td>2350</td>\n",
       "      <td>715690</td>\n",
       "      <td>1.50</td>\n",
       "      <td>0</td>\n",
       "      <td>0</td>\n",
       "      <td>4</td>\n",
       "      <td>9</td>\n",
       "      <td>2350</td>\n",
       "      <td>0</td>\n",
       "      <td>1979</td>\n",
       "      <td>0</td>\n",
       "      <td>98022</td>\n",
       "      <td>47.16</td>\n",
       "      <td>-121.97</td>\n",
       "      <td>1280</td>\n",
       "      <td>325393</td>\n",
       "      <td>Southeast Mud Mountain Road</td>\n",
       "      <td>27815</td>\n",
       "    </tr>\n",
       "    <tr>\n",
       "      <th>13467</th>\n",
       "      <td>822039004</td>\n",
       "      <td>20140613T000000</td>\n",
       "      <td>849900.00</td>\n",
       "      <td>2</td>\n",
       "      <td>2.00</td>\n",
       "      <td>2280</td>\n",
       "      <td>641203</td>\n",
       "      <td>2.00</td>\n",
       "      <td>0</td>\n",
       "      <td>0</td>\n",
       "      <td>3</td>\n",
       "      <td>9</td>\n",
       "      <td>2280</td>\n",
       "      <td>0</td>\n",
       "      <td>1990</td>\n",
       "      <td>0</td>\n",
       "      <td>98070</td>\n",
       "      <td>47.41</td>\n",
       "      <td>-122.45</td>\n",
       "      <td>2030</td>\n",
       "      <td>224334</td>\n",
       "      <td>Southwest 216th Street</td>\n",
       "      <td>NaN</td>\n",
       "    </tr>\n",
       "    <tr>\n",
       "      <th>16176</th>\n",
       "      <td>522079022</td>\n",
       "      <td>20150327T000000</td>\n",
       "      <td>700000.00</td>\n",
       "      <td>3</td>\n",
       "      <td>2.50</td>\n",
       "      <td>2530</td>\n",
       "      <td>623779</td>\n",
       "      <td>1.00</td>\n",
       "      <td>0</td>\n",
       "      <td>0</td>\n",
       "      <td>4</td>\n",
       "      <td>8</td>\n",
       "      <td>2530</td>\n",
       "      <td>0</td>\n",
       "      <td>1980</td>\n",
       "      <td>0</td>\n",
       "      <td>98038</td>\n",
       "      <td>47.42</td>\n",
       "      <td>-121.95</td>\n",
       "      <td>2120</td>\n",
       "      <td>100623</td>\n",
       "      <td>298th Avenue Southeast</td>\n",
       "      <td>20505</td>\n",
       "    </tr>\n",
       "    <tr>\n",
       "      <th>7289</th>\n",
       "      <td>1923039022</td>\n",
       "      <td>20141120T000000</td>\n",
       "      <td>700000.00</td>\n",
       "      <td>2</td>\n",
       "      <td>1.75</td>\n",
       "      <td>1679</td>\n",
       "      <td>577605</td>\n",
       "      <td>2.00</td>\n",
       "      <td>0</td>\n",
       "      <td>0</td>\n",
       "      <td>3</td>\n",
       "      <td>9</td>\n",
       "      <td>1679</td>\n",
       "      <td>0</td>\n",
       "      <td>2001</td>\n",
       "      <td>0</td>\n",
       "      <td>98070</td>\n",
       "      <td>47.46</td>\n",
       "      <td>-122.47</td>\n",
       "      <td>1850</td>\n",
       "      <td>358934</td>\n",
       "      <td>NaN</td>\n",
       "      <td>NaN</td>\n",
       "    </tr>\n",
       "  </tbody>\n",
       "</table>\n",
       "</div>"
      ],
      "text/plain": [
       "               id             date      price  bedrooms  bathrooms  \\\n",
       "1718   1020069017  20150327T000000  700000.00         4       1.00   \n",
       "17307  3326079016  20150504T000000  190000.00         2       1.00   \n",
       "7642   2623069031  20140521T000000  542500.00         5       3.25   \n",
       "7764   2323089009  20150119T000000  855000.00         4       3.50   \n",
       "3946    722069232  20140905T000000  998000.00         4       3.25   \n",
       "4438   3626079040  20140730T000000  790000.00         2       3.00   \n",
       "6687   2624089007  20150320T000000 1998000.00         2       2.50   \n",
       "7072   2724079090  20150105T000000 1650000.00         4       3.25   \n",
       "20438  1125079111  20150415T000000 1600000.00         4       5.50   \n",
       "9707    225079036  20150107T000000  937500.00         4       4.00   \n",
       "4537   2522029039  20140929T000000  550000.00         3       2.00   \n",
       "12996   619079096  20150406T000000  750000.00         3       2.50   \n",
       "13467   822039004  20140613T000000  849900.00         2       2.00   \n",
       "16176   522079022  20150327T000000  700000.00         3       2.50   \n",
       "7289   1923039022  20141120T000000  700000.00         2       1.75   \n",
       "\n",
       "       sqft_living  sqft_lot  floors  waterfront  view  condition  grade  \\\n",
       "1718          1300   1651359    1.00           0     3          4      6   \n",
       "17307          710   1164794    1.00           0     0          2      5   \n",
       "7642          3010   1074218    1.50           0     0          5      8   \n",
       "7764          4030   1024068    2.00           0     0          3     10   \n",
       "3946          3770    982998    2.00           0     0          3     10   \n",
       "4438          2560    982278    1.00           0     0          3      8   \n",
       "6687          3900    920423    2.00           0     0          3     12   \n",
       "7072          3920    881654    3.00           0     3          3     11   \n",
       "20438         6530    871200    2.00           0     2          3     11   \n",
       "9707          5545    871200    2.00           0     0          3     11   \n",
       "4537          3650    843309    2.00           0     0          4      7   \n",
       "12996         2350    715690    1.50           0     0          4      9   \n",
       "13467         2280    641203    2.00           0     0          3      9   \n",
       "16176         2530    623779    1.00           0     0          4      8   \n",
       "7289          1679    577605    2.00           0     0          3      9   \n",
       "\n",
       "       sqft_above  sqft_basement  yr_built  yr_renovated  zipcode   lat  \\\n",
       "1718         1300              0      1920             0    98022 47.23   \n",
       "17307         710              0      1915             0    98014 47.69   \n",
       "7642         2010           1000      1931             0    98027 47.46   \n",
       "7764         4030              0      2006             0    98045 47.46   \n",
       "3946         3770              0      1992             0    98058 47.41   \n",
       "4438         2560              0      2004             0    98014 47.70   \n",
       "6687         3900              0      2009             0    98065 47.54   \n",
       "7072         3920              0      2002             0    98024 47.54   \n",
       "20438        6530              0      2008             0    98014 47.66   \n",
       "9707         3605           1940      2003             0    98014 47.68   \n",
       "4537         3650              0      1991             0    98070 47.36   \n",
       "12996        2350              0      1979             0    98022 47.16   \n",
       "13467        2280              0      1990             0    98070 47.41   \n",
       "16176        2530              0      1980             0    98038 47.42   \n",
       "7289         1679              0      2001             0    98070 47.46   \n",
       "\n",
       "         long  sqft_living15  sqft_lot15                           road  \\\n",
       "1718  -122.02           2560      425581         236th Avenue Southeast   \n",
       "17307 -121.91           1680       16730           Kelly Road Northeast   \n",
       "7642  -122.00           2450       68825         252nd Avenue Southeast   \n",
       "7764  -121.74           1830       11700                            NaN   \n",
       "3946  -122.09           2290       37141          Southeast 209th Place   \n",
       "4438  -121.86           1620       40946       Northeast Moss Lake Road   \n",
       "6687  -121.76           2720      411962      North Fork Road Southeast   \n",
       "7072  -121.90           2970      112384      Lake Alice Road Southeast   \n",
       "20438 -121.88           1280      858132  Tolt Highlands Northeast Road   \n",
       "9707  -121.88           3420      871200  Tolt Highlands Northeast Road   \n",
       "4537  -122.50           1870      273992       Vashon Highway Southwest   \n",
       "12996 -121.97           1280      325393    Southeast Mud Mountain Road   \n",
       "13467 -122.45           2030      224334         Southwest 216th Street   \n",
       "16176 -121.95           2120      100623         298th Avenue Southeast   \n",
       "7289  -122.47           1850      358934                            NaN   \n",
       "\n",
       "      house_number  \n",
       "1718         41226  \n",
       "17307        10001  \n",
       "7642         16206  \n",
       "7764           NaN  \n",
       "3946         19115  \n",
       "4438           NaN  \n",
       "6687           NaN  \n",
       "7072           NaN  \n",
       "20438          NaN  \n",
       "9707          9010  \n",
       "4537           NaN  \n",
       "12996        27815  \n",
       "13467          NaN  \n",
       "16176        20505  \n",
       "7289           NaN  "
      ]
     },
     "execution_count": 43,
     "metadata": {},
     "output_type": "execute_result"
    },
    {
     "data": {
      "image/png": "[encoded data removed]",
      "text/plain": [
       "<Figure size 640x480 with 1 Axes>"
      ]
     },
     "metadata": {},
     "output_type": "display_data"
    }
   ],
   "source": [
    "outlier(data, 'sqft_lot', h=15)"
   ]
  },
  {
   "cell_type": "markdown",
   "id": "635a99d7",
   "metadata": {},
   "source": [
    "nenhum desses registros apresenta valores discrepantes, visto que os preços correspondem às características dos imóveis."
   ]
  },
  {
   "cell_type": "markdown",
   "id": "c4517be9",
   "metadata": {},
   "source": [
    "# 2.0 Feature Engineering"
   ]
  },
  {
   "cell_type": "code",
   "execution_count": 18,
   "id": "c2553fb1",
   "metadata": {
    "ExecuteTime": {
     "end_time": "2023-05-27T17:31:01.667863Z",
     "start_time": "2023-05-27T17:30:55.068919Z"
    }
   },
   "outputs": [],
   "source": [
    "#casa renovada ou não? \n",
    "data['renovated'] = data.apply(lambda line: 'no' if line['yr_renovated'] == pd.to_datetime(1900, format = '%Y') else 'yes', axis = 1)\n",
    "\n",
    "#ano de compra\n",
    "data['year'] = data['date'].dt.year\n",
    "\n",
    "#estação do ano \n",
    "data['season'] = data['date'].apply(lambda x: choose_season(x))\n",
    "\n",
    "#casa com porão ou não? \n",
    "data['basement'] = data['sqft_basement'].apply(lambda line: line if line == 0 else 1) "
   ]
  },
  {
   "cell_type": "markdown",
   "id": "f2423976",
   "metadata": {},
   "source": [
    "# 3.0 Validação de Hipóteses"
   ]
  },
  {
   "cell_type": "markdown",
   "id": "49d0d881",
   "metadata": {},
   "source": [
    "## H1 Imóveis que possuem vista para água, são 30% mais caros, na média. "
   ]
  },
  {
   "cell_type": "markdown",
   "id": "297841a3",
   "metadata": {},
   "source": [
    "Falso! Imóveis que possuem vista pra água são, em média 212.6% mais caros. "
   ]
  },
  {
   "cell_type": "code",
   "execution_count": 85,
   "id": "3b0ebb61",
   "metadata": {
    "ExecuteTime": {
     "end_time": "2023-05-25T22:59:38.522898Z",
     "start_time": "2023-05-25T22:59:38.491917Z"
    }
   },
   "outputs": [
    {
     "data": {
      "text/html": [
       "<div>\n",
       "<style scoped>\n",
       "    .dataframe tbody tr th:only-of-type {\n",
       "        vertical-align: middle;\n",
       "    }\n",
       "\n",
       "    .dataframe tbody tr th {\n",
       "        vertical-align: top;\n",
       "    }\n",
       "\n",
       "    .dataframe thead th {\n",
       "        text-align: right;\n",
       "    }\n",
       "</style>\n",
       "<table border=\"1\" class=\"dataframe\">\n",
       "  <thead>\n",
       "    <tr style=\"text-align: right;\">\n",
       "      <th></th>\n",
       "      <th>waterfront</th>\n",
       "      <th>price</th>\n",
       "    </tr>\n",
       "  </thead>\n",
       "  <tbody>\n",
       "    <tr>\n",
       "      <th>0</th>\n",
       "      <td>0</td>\n",
       "      <td>531632.57</td>\n",
       "    </tr>\n",
       "    <tr>\n",
       "      <th>1</th>\n",
       "      <td>1</td>\n",
       "      <td>1661876.02</td>\n",
       "    </tr>\n",
       "  </tbody>\n",
       "</table>\n",
       "</div>"
      ],
      "text/plain": [
       "   waterfront      price\n",
       "0           0  531632.57\n",
       "1           1 1661876.02"
      ]
     },
     "execution_count": 85,
     "metadata": {},
     "output_type": "execute_result"
    }
   ],
   "source": [
    "water_front_median"
   ]
  },
  {
   "cell_type": "code",
   "execution_count": 32,
   "id": "a9ce9904",
   "metadata": {
    "ExecuteTime": {
     "end_time": "2023-05-27T17:47:11.555583Z",
     "start_time": "2023-05-27T17:47:11.243775Z"
    }
   },
   "outputs": [
    {
     "data": {
      "image/png": "[encoded data removed]",
      "text/plain": [
       "<Figure size 640x480 with 1 Axes>"
      ]
     },
     "metadata": {},
     "output_type": "display_data"
    }
   ],
   "source": [
    "water_front_median = data[['price', 'waterfront']].groupby('waterfront').mean().reset_index() \n",
    "\n",
    "graph = sns.barplot(data = water_front_median, x='waterfront', y ='price');\n",
    "\n",
    "graph.set_xlabel(\"Waterfront?\")\n",
    "graph.set_ylabel(\"Average Price (U$)\")\n",
    "\n",
    "graph;"
   ]
  },
  {
   "cell_type": "code",
   "execution_count": 129,
   "id": "6a741289",
   "metadata": {
    "ExecuteTime": {
     "end_time": "2023-05-25T23:33:20.640395Z",
     "start_time": "2023-05-25T23:33:20.619407Z"
    }
   },
   "outputs": [
    {
     "data": {
      "text/plain": [
       "212.6"
      ]
     },
     "execution_count": 129,
     "metadata": {},
     "output_type": "execute_result"
    }
   ],
   "source": [
    "variance_percentage(water_front_median.loc[0, 'price'], water_front_median.loc[1, 'price'])"
   ]
  },
  {
   "cell_type": "markdown",
   "id": "fcb222db",
   "metadata": {},
   "source": [
    "## H2 Imóveis com data de construção menor que 1955, são 50% mais baratos, na média."
   ]
  },
  {
   "cell_type": "markdown",
   "id": "dc7e03fe",
   "metadata": {},
   "source": [
    "Falso! Imóveis  com data de construção menor que 1955, são 1.09% mais caros. "
   ]
  },
  {
   "cell_type": "code",
   "execution_count": 27,
   "id": "f8203a9c",
   "metadata": {
    "ExecuteTime": {
     "end_time": "2023-05-27T17:42:30.652245Z",
     "start_time": "2023-05-27T17:42:30.337095Z"
    },
    "scrolled": true
   },
   "outputs": [
    {
     "data": {
      "image/png": "[encoded data removed]",
      "text/plain": [
       "<Figure size 640x480 with 1 Axes>"
      ]
     },
     "metadata": {},
     "output_type": "display_data"
    }
   ],
   "source": [
    "dt_before_1955 = data[data['yr_built'] < pd.to_datetime(1955, format = '%Y')]['price'].mean() \n",
    "dt_after_1955 = data[data['yr_built'] > pd.to_datetime(1955, format = '%Y')]['price'].mean() \n",
    "\n",
    "h2 = {\n",
    "    'Construction Period': ['Before 1955', 'After 1955'],\n",
    "    'Price': [dt_before_1955, dt_after_1955]\n",
    "}\n",
    "\n",
    "yr_built_1955 = pd.DataFrame(h2, index = [0, 1])\n",
    "\n",
    "sns.barplot(data = yr_built_1955, x = 'Construction Period', y = 'Price');"
   ]
  },
  {
   "cell_type": "code",
   "execution_count": 130,
   "id": "6ac39d1b",
   "metadata": {
    "ExecuteTime": {
     "end_time": "2023-05-25T23:33:43.639547Z",
     "start_time": "2023-05-25T23:33:43.617558Z"
    }
   },
   "outputs": [
    {
     "data": {
      "text/plain": [
       "1.09"
      ]
     },
     "execution_count": 130,
     "metadata": {},
     "output_type": "execute_result"
    }
   ],
   "source": [
    "variance_percentage(dt_before_1955, dt_after_1955)"
   ]
  },
  {
   "cell_type": "markdown",
   "id": "f77dfc7d",
   "metadata": {},
   "source": [
    "## H3 Imóveis sem porão são 50% maiores do que com porão."
   ]
  },
  {
   "cell_type": "markdown",
   "id": "8765f6dd",
   "metadata": {},
   "source": [
    "Falso! Imóveis com porão, são 19.82% maiores que sem porão"
   ]
  },
  {
   "cell_type": "code",
   "execution_count": 34,
   "id": "9b1aa90f",
   "metadata": {
    "ExecuteTime": {
     "end_time": "2023-05-27T17:52:48.359951Z",
     "start_time": "2023-05-27T17:52:48.037149Z"
    }
   },
   "outputs": [
    {
     "data": {
      "image/png": "[encoded data removed]",
      "text/plain": [
       "<Figure size 640x480 with 1 Axes>"
      ]
     },
     "metadata": {},
     "output_type": "display_data"
    }
   ],
   "source": [
    "basement = data[['basement', 'sqft_living']].groupby('basement').mean().reset_index()\n",
    "\n",
    "graph = sns.barplot(data = basement, x='basement', y='sqft_living') \n",
    "\n",
    "graph.set_xlabel(\"Structure?\")\n",
    "graph.set_ylabel(\"Average Area (m²)\")\n",
    "\n",
    "graph;"
   ]
  },
  {
   "cell_type": "code",
   "execution_count": 139,
   "id": "fa0736e5",
   "metadata": {
    "ExecuteTime": {
     "end_time": "2023-05-25T23:41:30.586712Z",
     "start_time": "2023-05-25T23:41:30.572723Z"
    },
    "scrolled": true
   },
   "outputs": [
    {
     "data": {
      "text/plain": [
       "19.82"
      ]
     },
     "execution_count": 139,
     "metadata": {},
     "output_type": "execute_result"
    }
   ],
   "source": [
    "variance_percentage(basement.loc[0, 'sqft_living'], basement.loc[1, 'sqft_living'])"
   ]
  },
  {
   "cell_type": "markdown",
   "id": "40b90840",
   "metadata": {},
   "source": [
    "## H4 O crescimento do preço dos imóveis YoY ( Year over Year ) é de 10%"
   ]
  },
  {
   "cell_type": "markdown",
   "id": "3d97cb44",
   "metadata": {},
   "source": [
    "Falso! O crescimento do preço dos imóveis YoY é de 0.72%. "
   ]
  },
  {
   "cell_type": "code",
   "execution_count": 36,
   "id": "5630b8ed",
   "metadata": {
    "ExecuteTime": {
     "end_time": "2023-05-27T17:54:27.488831Z",
     "start_time": "2023-05-27T17:54:27.214999Z"
    }
   },
   "outputs": [
    {
     "data": {
      "image/png": "[encoded data removed]",
      "text/plain": [
       "<Figure size 640x480 with 1 Axes>"
      ]
     },
     "metadata": {},
     "output_type": "display_data"
    }
   ],
   "source": [
    "price_date = data[['price', 'year']].groupby('year').mean().reset_index()\n",
    "\n",
    "graph = sns.barplot(data = price_date, x='year', y='price')\n",
    "\n",
    "graph.set_xlabel(\"Year\")\n",
    "graph.set_ylabel(\"Average Price (U$)\")\n",
    "\n",
    "graph; "
   ]
  },
  {
   "cell_type": "code",
   "execution_count": 142,
   "id": "be6e1146",
   "metadata": {
    "ExecuteTime": {
     "end_time": "2023-05-25T23:45:02.837043Z",
     "start_time": "2023-05-25T23:45:02.817053Z"
    }
   },
   "outputs": [
    {
     "data": {
      "text/plain": [
       "0.72"
      ]
     },
     "execution_count": 142,
     "metadata": {},
     "output_type": "execute_result"
    }
   ],
   "source": [
    "variance_percentage(price_date.loc[0, 'price'], price_date.loc[1, 'price'])"
   ]
  },
  {
   "cell_type": "markdown",
   "id": "eccf0bcd",
   "metadata": {},
   "source": [
    "## H5: Imóveis com 3 banheiros tem um crescimento MoM ( Month over Month ) de 15%"
   ]
  },
  {
   "cell_type": "markdown",
   "id": "e048880e",
   "metadata": {},
   "source": [
    "Falso! O crescimento MoM de casas com 3 banheiros não segue um padrão. "
   ]
  },
  {
   "cell_type": "code",
   "execution_count": 48,
   "id": "5e121dd7",
   "metadata": {
    "ExecuteTime": {
     "end_time": "2023-05-27T18:13:30.030028Z",
     "start_time": "2023-05-27T18:13:29.994047Z"
    },
    "code_folding": []
   },
   "outputs": [],
   "source": [
    "mom_3_bathrooms = data.loc[data['bathrooms'] == 3, ['price', 'date']]\n",
    "\n",
    "mom_3_bathrooms['date'] = pd.to_datetime(mom_3_bathrooms['date'].dt.strftime('%m-%Y'))\n",
    "\n",
    "mom_3_bathrooms = mom_3_bathrooms.groupby('date').mean().reset_index()\n",
    "\n",
    "mom_3_bathrooms['percentage change'] = mom_3_bathrooms['price'].pct_change() * 100\n",
    "\n",
    "mom_3_bathrooms['variation sign'] =  mom_3_bathrooms['percentage change'].apply(lambda x: 'positive' if x > 0 else 'negative')"
   ]
  },
  {
   "cell_type": "code",
   "execution_count": 47,
   "id": "90d60862",
   "metadata": {
    "ExecuteTime": {
     "end_time": "2023-05-27T18:13:23.414075Z",
     "start_time": "2023-05-27T18:13:23.294149Z"
    }
   },
   "outputs": [
    {
     "data": {
      "application/vnd.plotly.v1+json": {
       "config": {
        "plotlyServerURL": "https://plot.ly"
       },
       "data": [
        {
         "hovertemplate": "Month/Year=%{x}<br>Average Price (U$)=%{y}<extra></extra>",
         "legendgroup": "",
         "line": {
          "color": "#636efa",
          "dash": "solid"
         },
         "marker": {
          "symbol": "circle"
         },
         "mode": "lines",
         "name": "",
         "orientation": "v",
         "showlegend": false,
         "type": "scatter",
         "x": [
          "2014-05-01T00:00:00",
          "2014-06-01T00:00:00",
          "2014-07-01T00:00:00",
          "2014-08-01T00:00:00",
          "2014-09-01T00:00:00",
          "2014-10-01T00:00:00",
          "2014-11-01T00:00:00",
          "2014-12-01T00:00:00",
          "2015-01-01T00:00:00",
          "2015-02-01T00:00:00",
          "2015-03-01T00:00:00",
          "2015-04-01T00:00:00",
          "2015-05-01T00:00:00"
         ],
         "xaxis": "x",
         "y": [
          690080.7142857143,
          775057.5641025641,
          741405.0428571429,
          737576.5625,
          645246.8873239437,
          645523.0151515151,
          679910.4651162791,
          728341.1875,
          668746.25,
          676910.4418604651,
          769838.1372549019,
          714629.9880952381,
          689581
         ],
         "yaxis": "y"
        }
       ],
       "layout": {
        "legend": {
         "tracegroupgap": 0
        },
        "margin": {
         "t": 60
        },
        "template": {
         "data": {
          "bar": [
           {
            "error_x": {
             "color": "#2a3f5f"
            },
            "error_y": {
             "color": "#2a3f5f"
            },
            "marker": {
             "line": {
              "color": "#E5ECF6",
              "width": 0.5
             },
             "pattern": {
              "fillmode": "overlay",
              "size": 10,
              "solidity": 0.2
             }
            },
            "type": "bar"
           }
          ],
          "barpolar": [
           {
            "marker": {
             "line": {
              "color": "#E5ECF6",
              "width": 0.5
             },
             "pattern": {
              "fillmode": "overlay",
              "size": 10,
              "solidity": 0.2
             }
            },
            "type": "barpolar"
           }
          ],
          "carpet": [
           {
            "aaxis": {
             "endlinecolor": "#2a3f5f",
             "gridcolor": "white",
             "linecolor": "white",
             "minorgridcolor": "white",
             "startlinecolor": "#2a3f5f"
            },
            "baxis": {
             "endlinecolor": "#2a3f5f",
             "gridcolor": "white",
             "linecolor": "white",
             "minorgridcolor": "white",
             "startlinecolor": "#2a3f5f"
            },
            "type": "carpet"
           }
          ],
          "choropleth": [
           {
            "colorbar": {
             "outlinewidth": 0,
             "ticks": ""
            },
            "type": "choropleth"
           }
          ],
          "contour": [
           {
            "colorbar": {
             "outlinewidth": 0,
             "ticks": ""
            },
            "colorscale": [
             [
              0,
              "#0d0887"
             ],
             [
              0.1111111111111111,
              "#46039f"
             ],
             [
              0.2222222222222222,
              "#7201a8"
             ],
             [
              0.3333333333333333,
              "#9c179e"
             ],
             [
              0.4444444444444444,
              "#bd3786"
             ],
             [
              0.5555555555555556,
              "#d8576b"
             ],
             [
              0.6666666666666666,
              "#ed7953"
             ],
             [
              0.7777777777777778,
              "#fb9f3a"
             ],
             [
              0.8888888888888888,
              "#fdca26"
             ],
             [
              1,
              "#f0f921"
             ]
            ],
            "type": "contour"
           }
          ],
          "contourcarpet": [
           {
            "colorbar": {
             "outlinewidth": 0,
             "ticks": ""
            },
            "type": "contourcarpet"
           }
          ],
          "heatmap": [
           {
            "colorbar": {
             "outlinewidth": 0,
             "ticks": ""
            },
            "colorscale": [
             [
              0,
              "#0d0887"
             ],
             [
              0.1111111111111111,
              "#46039f"
             ],
             [
              0.2222222222222222,
              "#7201a8"
             ],
             [
              0.3333333333333333,
              "#9c179e"
             ],
             [
              0.4444444444444444,
              "#bd3786"
             ],
             [
              0.5555555555555556,
              "#d8576b"
             ],
             [
              0.6666666666666666,
              "#ed7953"
             ],
             [
              0.7777777777777778,
              "#fb9f3a"
             ],
             [
              0.8888888888888888,
              "#fdca26"
             ],
             [
              1,
              "#f0f921"
             ]
            ],
            "type": "heatmap"
           }
          ],
          "heatmapgl": [
           {
            "colorbar": {
             "outlinewidth": 0,
             "ticks": ""
            },
            "colorscale": [
             [
              0,
              "#0d0887"
             ],
             [
              0.1111111111111111,
              "#46039f"
             ],
             [
              0.2222222222222222,
              "#7201a8"
             ],
             [
              0.3333333333333333,
              "#9c179e"
             ],
             [
              0.4444444444444444,
              "#bd3786"
             ],
             [
              0.5555555555555556,
              "#d8576b"
             ],
             [
              0.6666666666666666,
              "#ed7953"
             ],
             [
              0.7777777777777778,
              "#fb9f3a"
             ],
             [
              0.8888888888888888,
              "#fdca26"
             ],
             [
              1,
              "#f0f921"
             ]
            ],
            "type": "heatmapgl"
           }
          ],
          "histogram": [
           {
            "marker": {
             "pattern": {
              "fillmode": "overlay",
              "size": 10,
              "solidity": 0.2
             }
            },
            "type": "histogram"
           }
          ],
          "histogram2d": [
           {
            "colorbar": {
             "outlinewidth": 0,
             "ticks": ""
            },
            "colorscale": [
             [
              0,
              "#0d0887"
             ],
             [
              0.1111111111111111,
              "#46039f"
             ],
             [
              0.2222222222222222,
              "#7201a8"
             ],
             [
              0.3333333333333333,
              "#9c179e"
             ],
             [
              0.4444444444444444,
              "#bd3786"
             ],
             [
              0.5555555555555556,
              "#d8576b"
             ],
             [
              0.6666666666666666,
              "#ed7953"
             ],
             [
              0.7777777777777778,
              "#fb9f3a"
             ],
             [
              0.8888888888888888,
              "#fdca26"
             ],
             [
              1,
              "#f0f921"
             ]
            ],
            "type": "histogram2d"
           }
          ],
          "histogram2dcontour": [
           {
            "colorbar": {
             "outlinewidth": 0,
             "ticks": ""
            },
            "colorscale": [
             [
              0,
              "#0d0887"
             ],
             [
              0.1111111111111111,
              "#46039f"
             ],
             [
              0.2222222222222222,
              "#7201a8"
             ],
             [
              0.3333333333333333,
              "#9c179e"
             ],
             [
              0.4444444444444444,
              "#bd3786"
             ],
             [
              0.5555555555555556,
              "#d8576b"
             ],
             [
              0.6666666666666666,
              "#ed7953"
             ],
             [
              0.7777777777777778,
              "#fb9f3a"
             ],
             [
              0.8888888888888888,
              "#fdca26"
             ],
             [
              1,
              "#f0f921"
             ]
            ],
            "type": "histogram2dcontour"
           }
          ],
          "mesh3d": [
           {
            "colorbar": {
             "outlinewidth": 0,
             "ticks": ""
            },
            "type": "mesh3d"
           }
          ],
          "parcoords": [
           {
            "line": {
             "colorbar": {
              "outlinewidth": 0,
              "ticks": ""
             }
            },
            "type": "parcoords"
           }
          ],
          "pie": [
           {
            "automargin": true,
            "type": "pie"
           }
          ],
          "scatter": [
           {
            "marker": {
             "colorbar": {
              "outlinewidth": 0,
              "ticks": ""
             }
            },
            "type": "scatter"
           }
          ],
          "scatter3d": [
           {
            "line": {
             "colorbar": {
              "outlinewidth": 0,
              "ticks": ""
             }
            },
            "marker": {
             "colorbar": {
              "outlinewidth": 0,
              "ticks": ""
             }
            },
            "type": "scatter3d"
           }
          ],
          "scattercarpet": [
           {
            "marker": {
             "colorbar": {
              "outlinewidth": 0,
              "ticks": ""
             }
            },
            "type": "scattercarpet"
           }
          ],
          "scattergeo": [
           {
            "marker": {
             "colorbar": {
              "outlinewidth": 0,
              "ticks": ""
             }
            },
            "type": "scattergeo"
           }
          ],
          "scattergl": [
           {
            "marker": {
             "colorbar": {
              "outlinewidth": 0,
              "ticks": ""
             }
            },
            "type": "scattergl"
           }
          ],
          "scattermapbox": [
           {
            "marker": {
             "colorbar": {
              "outlinewidth": 0,
              "ticks": ""
             }
            },
            "type": "scattermapbox"
           }
          ],
          "scatterpolar": [
           {
            "marker": {
             "colorbar": {
              "outlinewidth": 0,
              "ticks": ""
             }
            },
            "type": "scatterpolar"
           }
          ],
          "scatterpolargl": [
           {
            "marker": {
             "colorbar": {
              "outlinewidth": 0,
              "ticks": ""
             }
            },
            "type": "scatterpolargl"
           }
          ],
          "scatterternary": [
           {
            "marker": {
             "colorbar": {
              "outlinewidth": 0,
              "ticks": ""
             }
            },
            "type": "scatterternary"
           }
          ],
          "surface": [
           {
            "colorbar": {
             "outlinewidth": 0,
             "ticks": ""
            },
            "colorscale": [
             [
              0,
              "#0d0887"
             ],
             [
              0.1111111111111111,
              "#46039f"
             ],
             [
              0.2222222222222222,
              "#7201a8"
             ],
             [
              0.3333333333333333,
              "#9c179e"
             ],
             [
              0.4444444444444444,
              "#bd3786"
             ],
             [
              0.5555555555555556,
              "#d8576b"
             ],
             [
              0.6666666666666666,
              "#ed7953"
             ],
             [
              0.7777777777777778,
              "#fb9f3a"
             ],
             [
              0.8888888888888888,
              "#fdca26"
             ],
             [
              1,
              "#f0f921"
             ]
            ],
            "type": "surface"
           }
          ],
          "table": [
           {
            "cells": {
             "fill": {
              "color": "#EBF0F8"
             },
             "line": {
              "color": "white"
             }
            },
            "header": {
             "fill": {
              "color": "#C8D4E3"
             },
             "line": {
              "color": "white"
             }
            },
            "type": "table"
           }
          ]
         },
         "layout": {
          "annotationdefaults": {
           "arrowcolor": "#2a3f5f",
           "arrowhead": 0,
           "arrowwidth": 1
          },
          "autotypenumbers": "strict",
          "coloraxis": {
           "colorbar": {
            "outlinewidth": 0,
            "ticks": ""
           }
          },
          "colorscale": {
           "diverging": [
            [
             0,
             "#8e0152"
            ],
            [
             0.1,
             "#c51b7d"
            ],
            [
             0.2,
             "#de77ae"
            ],
            [
             0.3,
             "#f1b6da"
            ],
            [
             0.4,
             "#fde0ef"
            ],
            [
             0.5,
             "#f7f7f7"
            ],
            [
             0.6,
             "#e6f5d0"
            ],
            [
             0.7,
             "#b8e186"
            ],
            [
             0.8,
             "#7fbc41"
            ],
            [
             0.9,
             "#4d9221"
            ],
            [
             1,
             "#276419"
            ]
           ],
           "sequential": [
            [
             0,
             "#0d0887"
            ],
            [
             0.1111111111111111,
             "#46039f"
            ],
            [
             0.2222222222222222,
             "#7201a8"
            ],
            [
             0.3333333333333333,
             "#9c179e"
            ],
            [
             0.4444444444444444,
             "#bd3786"
            ],
            [
             0.5555555555555556,
             "#d8576b"
            ],
            [
             0.6666666666666666,
             "#ed7953"
            ],
            [
             0.7777777777777778,
             "#fb9f3a"
            ],
            [
             0.8888888888888888,
             "#fdca26"
            ],
            [
             1,
             "#f0f921"
            ]
           ],
           "sequentialminus": [
            [
             0,
             "#0d0887"
            ],
            [
             0.1111111111111111,
             "#46039f"
            ],
            [
             0.2222222222222222,
             "#7201a8"
            ],
            [
             0.3333333333333333,
             "#9c179e"
            ],
            [
             0.4444444444444444,
             "#bd3786"
            ],
            [
             0.5555555555555556,
             "#d8576b"
            ],
            [
             0.6666666666666666,
             "#ed7953"
            ],
            [
             0.7777777777777778,
             "#fb9f3a"
            ],
            [
             0.8888888888888888,
             "#fdca26"
            ],
            [
             1,
             "#f0f921"
            ]
           ]
          },
          "colorway": [
           "#636efa",
           "#EF553B",
           "#00cc96",
           "#ab63fa",
           "#FFA15A",
           "#19d3f3",
           "#FF6692",
           "#B6E880",
           "#FF97FF",
           "#FECB52"
          ],
          "font": {
           "color": "#2a3f5f"
          },
          "geo": {
           "bgcolor": "white",
           "lakecolor": "white",
           "landcolor": "#E5ECF6",
           "showlakes": true,
           "showland": true,
           "subunitcolor": "white"
          },
          "hoverlabel": {
           "align": "left"
          },
          "hovermode": "closest",
          "mapbox": {
           "style": "light"
          },
          "paper_bgcolor": "white",
          "plot_bgcolor": "#E5ECF6",
          "polar": {
           "angularaxis": {
            "gridcolor": "white",
            "linecolor": "white",
            "ticks": ""
           },
           "bgcolor": "#E5ECF6",
           "radialaxis": {
            "gridcolor": "white",
            "linecolor": "white",
            "ticks": ""
           }
          },
          "scene": {
           "xaxis": {
            "backgroundcolor": "#E5ECF6",
            "gridcolor": "white",
            "gridwidth": 2,
            "linecolor": "white",
            "showbackground": true,
            "ticks": "",
            "zerolinecolor": "white"
           },
           "yaxis": {
            "backgroundcolor": "#E5ECF6",
            "gridcolor": "white",
            "gridwidth": 2,
            "linecolor": "white",
            "showbackground": true,
            "ticks": "",
            "zerolinecolor": "white"
           },
           "zaxis": {
            "backgroundcolor": "#E5ECF6",
            "gridcolor": "white",
            "gridwidth": 2,
            "linecolor": "white",
            "showbackground": true,
            "ticks": "",
            "zerolinecolor": "white"
           }
          },
          "shapedefaults": {
           "line": {
            "color": "#2a3f5f"
           }
          },
          "ternary": {
           "aaxis": {
            "gridcolor": "white",
            "linecolor": "white",
            "ticks": ""
           },
           "baxis": {
            "gridcolor": "white",
            "linecolor": "white",
            "ticks": ""
           },
           "bgcolor": "#E5ECF6",
           "caxis": {
            "gridcolor": "white",
            "linecolor": "white",
            "ticks": ""
           }
          },
          "title": {
           "x": 0.05
          },
          "xaxis": {
           "automargin": true,
           "gridcolor": "white",
           "linecolor": "white",
           "ticks": "",
           "title": {
            "standoff": 15
           },
           "zerolinecolor": "white",
           "zerolinewidth": 2
          },
          "yaxis": {
           "automargin": true,
           "gridcolor": "white",
           "linecolor": "white",
           "ticks": "",
           "title": {
            "standoff": 15
           },
           "zerolinecolor": "white",
           "zerolinewidth": 2
          }
         }
        },
        "xaxis": {
         "anchor": "y",
         "domain": [
          0,
          1
         ],
         "title": {
          "text": "Month/Year"
         }
        },
        "yaxis": {
         "anchor": "x",
         "domain": [
          0,
          1
         ],
         "title": {
          "text": "Average Price (U$)"
         }
        }
       }
      },
      "text/html": [
       "<div>                            <div id=\"45c96c41-1e13-48c4-bb73-cd468d53824d\" class=\"plotly-graph-div\" style=\"height:525px; width:100%;\"></div>            <script type=\"text/javascript\">                require([\"plotly\"], function(Plotly) {                    window.PLOTLYENV=window.PLOTLYENV || {};                                    if (document.getElementById(\"45c96c41-1e13-48c4-bb73-cd468d53824d\")) {                    Plotly.newPlot(                        \"45c96c41-1e13-48c4-bb73-cd468d53824d\",                        [{\"hovertemplate\":\"Month/Year=%{x}<br>Average Price (U$)=%{y}<extra></extra>\",\"legendgroup\":\"\",\"line\":{\"color\":\"#636efa\",\"dash\":\"solid\"},\"marker\":{\"symbol\":\"circle\"},\"mode\":\"lines\",\"name\":\"\",\"orientation\":\"v\",\"showlegend\":false,\"x\":[\"2014-05-01T00:00:00\",\"2014-06-01T00:00:00\",\"2014-07-01T00:00:00\",\"2014-08-01T00:00:00\",\"2014-09-01T00:00:00\",\"2014-10-01T00:00:00\",\"2014-11-01T00:00:00\",\"2014-12-01T00:00:00\",\"2015-01-01T00:00:00\",\"2015-02-01T00:00:00\",\"2015-03-01T00:00:00\",\"2015-04-01T00:00:00\",\"2015-05-01T00:00:00\"],\"xaxis\":\"x\",\"y\":[690080.7142857143,775057.5641025641,741405.0428571429,737576.5625,645246.8873239437,645523.0151515151,679910.4651162791,728341.1875,668746.25,676910.4418604651,769838.1372549019,714629.9880952381,689581.0],\"yaxis\":\"y\",\"type\":\"scatter\"}],                        {\"template\":{\"data\":{\"bar\":[{\"error_x\":{\"color\":\"#2a3f5f\"},\"error_y\":{\"color\":\"#2a3f5f\"},\"marker\":{\"line\":{\"color\":\"#E5ECF6\",\"width\":0.5},\"pattern\":{\"fillmode\":\"overlay\",\"size\":10,\"solidity\":0.2}},\"type\":\"bar\"}],\"barpolar\":[{\"marker\":{\"line\":{\"color\":\"#E5ECF6\",\"width\":0.5},\"pattern\":{\"fillmode\":\"overlay\",\"size\":10,\"solidity\":0.2}},\"type\":\"barpolar\"}],\"carpet\":[{\"aaxis\":{\"endlinecolor\":\"#2a3f5f\",\"gridcolor\":\"white\",\"linecolor\":\"white\",\"minorgridcolor\":\"white\",\"startlinecolor\":\"#2a3f5f\"},\"baxis\":{\"endlinecolor\":\"#2a3f5f\",\"gridcolor\":\"white\",\"linecolor\":\"white\",\"minorgridcolor\":\"white\",\"startlinecolor\":\"#2a3f5f\"},\"type\":\"carpet\"}],\"choropleth\":[{\"colorbar\":{\"outlinewidth\":0,\"ticks\":\"\"},\"type\":\"choropleth\"}],\"contour\":[{\"colorbar\":{\"outlinewidth\":0,\"ticks\":\"\"},\"colorscale\":[[0.0,\"#0d0887\"],[0.1111111111111111,\"#46039f\"],[0.2222222222222222,\"#7201a8\"],[0.3333333333333333,\"#9c179e\"],[0.4444444444444444,\"#bd3786\"],[0.5555555555555556,\"#d8576b\"],[0.6666666666666666,\"#ed7953\"],[0.7777777777777778,\"#fb9f3a\"],[0.8888888888888888,\"#fdca26\"],[1.0,\"#f0f921\"]],\"type\":\"contour\"}],\"contourcarpet\":[{\"colorbar\":{\"outlinewidth\":0,\"ticks\":\"\"},\"type\":\"contourcarpet\"}],\"heatmap\":[{\"colorbar\":{\"outlinewidth\":0,\"ticks\":\"\"},\"colorscale\":[[0.0,\"#0d0887\"],[0.1111111111111111,\"#46039f\"],[0.2222222222222222,\"#7201a8\"],[0.3333333333333333,\"#9c179e\"],[0.4444444444444444,\"#bd3786\"],[0.5555555555555556,\"#d8576b\"],[0.6666666666666666,\"#ed7953\"],[0.7777777777777778,\"#fb9f3a\"],[0.8888888888888888,\"#fdca26\"],[1.0,\"#f0f921\"]],\"type\":\"heatmap\"}],\"heatmapgl\":[{\"colorbar\":{\"outlinewidth\":0,\"ticks\":\"\"},\"colorscale\":[[0.0,\"#0d0887\"],[0.1111111111111111,\"#46039f\"],[0.2222222222222222,\"#7201a8\"],[0.3333333333333333,\"#9c179e\"],[0.4444444444444444,\"#bd3786\"],[0.5555555555555556,\"#d8576b\"],[0.6666666666666666,\"#ed7953\"],[0.7777777777777778,\"#fb9f3a\"],[0.8888888888888888,\"#fdca26\"],[1.0,\"#f0f921\"]],\"type\":\"heatmapgl\"}],\"histogram\":[{\"marker\":{\"pattern\":{\"fillmode\":\"overlay\",\"size\":10,\"solidity\":0.2}},\"type\":\"histogram\"}],\"histogram2d\":[{\"colorbar\":{\"outlinewidth\":0,\"ticks\":\"\"},\"colorscale\":[[0.0,\"#0d0887\"],[0.1111111111111111,\"#46039f\"],[0.2222222222222222,\"#7201a8\"],[0.3333333333333333,\"#9c179e\"],[0.4444444444444444,\"#bd3786\"],[0.5555555555555556,\"#d8576b\"],[0.6666666666666666,\"#ed7953\"],[0.7777777777777778,\"#fb9f3a\"],[0.8888888888888888,\"#fdca26\"],[1.0,\"#f0f921\"]],\"type\":\"histogram2d\"}],\"histogram2dcontour\":[{\"colorbar\":{\"outlinewidth\":0,\"ticks\":\"\"},\"colorscale\":[[0.0,\"#0d0887\"],[0.1111111111111111,\"#46039f\"],[0.2222222222222222,\"#7201a8\"],[0.3333333333333333,\"#9c179e\"],[0.4444444444444444,\"#bd3786\"],[0.5555555555555556,\"#d8576b\"],[0.6666666666666666,\"#ed7953\"],[0.7777777777777778,\"#fb9f3a\"],[0.8888888888888888,\"#fdca26\"],[1.0,\"#f0f921\"]],\"type\":\"histogram2dcontour\"}],\"mesh3d\":[{\"colorbar\":{\"outlinewidth\":0,\"ticks\":\"\"},\"type\":\"mesh3d\"}],\"parcoords\":[{\"line\":{\"colorbar\":{\"outlinewidth\":0,\"ticks\":\"\"}},\"type\":\"parcoords\"}],\"pie\":[{\"automargin\":true,\"type\":\"pie\"}],\"scatter\":[{\"marker\":{\"colorbar\":{\"outlinewidth\":0,\"ticks\":\"\"}},\"type\":\"scatter\"}],\"scatter3d\":[{\"line\":{\"colorbar\":{\"outlinewidth\":0,\"ticks\":\"\"}},\"marker\":{\"colorbar\":{\"outlinewidth\":0,\"ticks\":\"\"}},\"type\":\"scatter3d\"}],\"scattercarpet\":[{\"marker\":{\"colorbar\":{\"outlinewidth\":0,\"ticks\":\"\"}},\"type\":\"scattercarpet\"}],\"scattergeo\":[{\"marker\":{\"colorbar\":{\"outlinewidth\":0,\"ticks\":\"\"}},\"type\":\"scattergeo\"}],\"scattergl\":[{\"marker\":{\"colorbar\":{\"outlinewidth\":0,\"ticks\":\"\"}},\"type\":\"scattergl\"}],\"scattermapbox\":[{\"marker\":{\"colorbar\":{\"outlinewidth\":0,\"ticks\":\"\"}},\"type\":\"scattermapbox\"}],\"scatterpolar\":[{\"marker\":{\"colorbar\":{\"outlinewidth\":0,\"ticks\":\"\"}},\"type\":\"scatterpolar\"}],\"scatterpolargl\":[{\"marker\":{\"colorbar\":{\"outlinewidth\":0,\"ticks\":\"\"}},\"type\":\"scatterpolargl\"}],\"scatterternary\":[{\"marker\":{\"colorbar\":{\"outlinewidth\":0,\"ticks\":\"\"}},\"type\":\"scatterternary\"}],\"surface\":[{\"colorbar\":{\"outlinewidth\":0,\"ticks\":\"\"},\"colorscale\":[[0.0,\"#0d0887\"],[0.1111111111111111,\"#46039f\"],[0.2222222222222222,\"#7201a8\"],[0.3333333333333333,\"#9c179e\"],[0.4444444444444444,\"#bd3786\"],[0.5555555555555556,\"#d8576b\"],[0.6666666666666666,\"#ed7953\"],[0.7777777777777778,\"#fb9f3a\"],[0.8888888888888888,\"#fdca26\"],[1.0,\"#f0f921\"]],\"type\":\"surface\"}],\"table\":[{\"cells\":{\"fill\":{\"color\":\"#EBF0F8\"},\"line\":{\"color\":\"white\"}},\"header\":{\"fill\":{\"color\":\"#C8D4E3\"},\"line\":{\"color\":\"white\"}},\"type\":\"table\"}]},\"layout\":{\"annotationdefaults\":{\"arrowcolor\":\"#2a3f5f\",\"arrowhead\":0,\"arrowwidth\":1},\"autotypenumbers\":\"strict\",\"coloraxis\":{\"colorbar\":{\"outlinewidth\":0,\"ticks\":\"\"}},\"colorscale\":{\"diverging\":[[0,\"#8e0152\"],[0.1,\"#c51b7d\"],[0.2,\"#de77ae\"],[0.3,\"#f1b6da\"],[0.4,\"#fde0ef\"],[0.5,\"#f7f7f7\"],[0.6,\"#e6f5d0\"],[0.7,\"#b8e186\"],[0.8,\"#7fbc41\"],[0.9,\"#4d9221\"],[1,\"#276419\"]],\"sequential\":[[0.0,\"#0d0887\"],[0.1111111111111111,\"#46039f\"],[0.2222222222222222,\"#7201a8\"],[0.3333333333333333,\"#9c179e\"],[0.4444444444444444,\"#bd3786\"],[0.5555555555555556,\"#d8576b\"],[0.6666666666666666,\"#ed7953\"],[0.7777777777777778,\"#fb9f3a\"],[0.8888888888888888,\"#fdca26\"],[1.0,\"#f0f921\"]],\"sequentialminus\":[[0.0,\"#0d0887\"],[0.1111111111111111,\"#46039f\"],[0.2222222222222222,\"#7201a8\"],[0.3333333333333333,\"#9c179e\"],[0.4444444444444444,\"#bd3786\"],[0.5555555555555556,\"#d8576b\"],[0.6666666666666666,\"#ed7953\"],[0.7777777777777778,\"#fb9f3a\"],[0.8888888888888888,\"#fdca26\"],[1.0,\"#f0f921\"]]},\"colorway\":[\"#636efa\",\"#EF553B\",\"#00cc96\",\"#ab63fa\",\"#FFA15A\",\"#19d3f3\",\"#FF6692\",\"#B6E880\",\"#FF97FF\",\"#FECB52\"],\"font\":{\"color\":\"#2a3f5f\"},\"geo\":{\"bgcolor\":\"white\",\"lakecolor\":\"white\",\"landcolor\":\"#E5ECF6\",\"showlakes\":true,\"showland\":true,\"subunitcolor\":\"white\"},\"hoverlabel\":{\"align\":\"left\"},\"hovermode\":\"closest\",\"mapbox\":{\"style\":\"light\"},\"paper_bgcolor\":\"white\",\"plot_bgcolor\":\"#E5ECF6\",\"polar\":{\"angularaxis\":{\"gridcolor\":\"white\",\"linecolor\":\"white\",\"ticks\":\"\"},\"bgcolor\":\"#E5ECF6\",\"radialaxis\":{\"gridcolor\":\"white\",\"linecolor\":\"white\",\"ticks\":\"\"}},\"scene\":{\"xaxis\":{\"backgroundcolor\":\"#E5ECF6\",\"gridcolor\":\"white\",\"gridwidth\":2,\"linecolor\":\"white\",\"showbackground\":true,\"ticks\":\"\",\"zerolinecolor\":\"white\"},\"yaxis\":{\"backgroundcolor\":\"#E5ECF6\",\"gridcolor\":\"white\",\"gridwidth\":2,\"linecolor\":\"white\",\"showbackground\":true,\"ticks\":\"\",\"zerolinecolor\":\"white\"},\"zaxis\":{\"backgroundcolor\":\"#E5ECF6\",\"gridcolor\":\"white\",\"gridwidth\":2,\"linecolor\":\"white\",\"showbackground\":true,\"ticks\":\"\",\"zerolinecolor\":\"white\"}},\"shapedefaults\":{\"line\":{\"color\":\"#2a3f5f\"}},\"ternary\":{\"aaxis\":{\"gridcolor\":\"white\",\"linecolor\":\"white\",\"ticks\":\"\"},\"baxis\":{\"gridcolor\":\"white\",\"linecolor\":\"white\",\"ticks\":\"\"},\"bgcolor\":\"#E5ECF6\",\"caxis\":{\"gridcolor\":\"white\",\"linecolor\":\"white\",\"ticks\":\"\"}},\"title\":{\"x\":0.05},\"xaxis\":{\"automargin\":true,\"gridcolor\":\"white\",\"linecolor\":\"white\",\"ticks\":\"\",\"title\":{\"standoff\":15},\"zerolinecolor\":\"white\",\"zerolinewidth\":2},\"yaxis\":{\"automargin\":true,\"gridcolor\":\"white\",\"linecolor\":\"white\",\"ticks\":\"\",\"title\":{\"standoff\":15},\"zerolinecolor\":\"white\",\"zerolinewidth\":2}}},\"xaxis\":{\"anchor\":\"y\",\"domain\":[0.0,1.0],\"title\":{\"text\":\"Month/Year\"}},\"yaxis\":{\"anchor\":\"x\",\"domain\":[0.0,1.0],\"title\":{\"text\":\"Average Price (U$)\"}},\"legend\":{\"tracegroupgap\":0},\"margin\":{\"t\":60}},                        {\"responsive\": true}                    ).then(function(){\n",
       "                            \n",
       "var gd = document.getElementById('45c96c41-1e13-48c4-bb73-cd468d53824d');\n",
       "var x = new MutationObserver(function (mutations, observer) {{\n",
       "        var display = window.getComputedStyle(gd).display;\n",
       "        if (!display || display === 'none') {{\n",
       "            console.log([gd, 'removed!']);\n",
       "            Plotly.purge(gd);\n",
       "            observer.disconnect();\n",
       "        }}\n",
       "}});\n",
       "\n",
       "// Listen for the removal of the full notebook cells\n",
       "var notebookContainer = gd.closest('#notebook-container');\n",
       "if (notebookContainer) {{\n",
       "    x.observe(notebookContainer, {childList: true});\n",
       "}}\n",
       "\n",
       "// Listen for the clearing of the current output cell\n",
       "var outputEl = gd.closest('.output');\n",
       "if (outputEl) {{\n",
       "    x.observe(outputEl, {childList: true});\n",
       "}}\n",
       "\n",
       "                        })                };                });            </script>        </div>"
      ]
     },
     "metadata": {},
     "output_type": "display_data"
    }
   ],
   "source": [
    "#gráfico de variação de preço \n",
    "graph4_1 = px.line(mom_3_bathrooms, x='date', y='price', labels={\"date\": \"Month/Year\", \"price\": \"Average Price (U$)\"})\n",
    "graph4_1"
   ]
  },
  {
   "cell_type": "code",
   "execution_count": 66,
   "id": "49a8461c",
   "metadata": {
    "ExecuteTime": {
     "end_time": "2023-05-27T18:47:34.705565Z",
     "start_time": "2023-05-27T18:47:34.106934Z"
    }
   },
   "outputs": [
    {
     "data": {
      "image/png": "[encoded data removed]",
      "text/plain": [
       "<Figure size 640x480 with 1 Axes>"
      ]
     },
     "metadata": {},
     "output_type": "display_data"
    }
   ],
   "source": [
    "# gráfico de variação percentual \n",
    "graph = sns.barplot(data=mom_3_bathrooms, x='date', y='percentage change', hue='variation sign',\n",
    "            palette={'negative': '#EF553B', 'positive': '#636EFA'})\n",
    "\n",
    "#definindo nome pros rótulos\n",
    "plt.xlabel(\" \")\n",
    "plt.ylabel(\"Average Price Variation (%)\")\n",
    "plt.xticks(rotation=90);\n",
    "\n",
    "# Convertendo as datas para o formato ANO-MÊS\n",
    "month_names = [pd.to_datetime(m, format=\"%Y-%m\").strftime(\"%Y-%m\") for m in mom_3_bathrooms['date']]\n",
    "\n",
    "# Alterando os rótulos do eixo x para os nomes dos meses no formato ANO-MÊS\n",
    "graph.set_xticklabels(month_names, rotation=90)\n",
    "\n",
    "plt.show()"
   ]
  },
  {
   "cell_type": "markdown",
   "id": "cb7c86a7",
   "metadata": {},
   "source": [
    "## H6: Imóveis reformados a partir do ano 2000 são, em média, 25% mais caros."
   ]
  },
  {
   "cell_type": "markdown",
   "id": "703f2c54",
   "metadata": {},
   "source": [
    "Falso! Imóveis reformados a partir do ano 200, são em média, 43,22 % mais caros"
   ]
  },
  {
   "cell_type": "code",
   "execution_count": 68,
   "id": "5d339ca7",
   "metadata": {
    "ExecuteTime": {
     "end_time": "2023-05-27T18:48:19.709870Z",
     "start_time": "2023-05-27T18:48:19.413927Z"
    }
   },
   "outputs": [
    {
     "data": {
      "image/png": "[encoded data removed]",
      "text/plain": [
       "<Figure size 640x480 with 1 Axes>"
      ]
     },
     "metadata": {},
     "output_type": "display_data"
    }
   ],
   "source": [
    "yr_renovated_price = data[['yr_renovated', 'price']].groupby('yr_renovated').mean().reset_index()\n",
    "yr_renovated_price = yr_renovated_price.drop(yr_renovated_price[yr_renovated_price['yr_renovated'] == pd.to_datetime(1900, format='%Y')].index)\n",
    "\n",
    "price_before_2000 = yr_renovated_price[yr_renovated_price['yr_renovated'] < pd.to_datetime(2000, format='%Y')]\n",
    "price_after_2000 = yr_renovated_price[yr_renovated_price['yr_renovated'] >= pd.to_datetime(2000, format='%Y')]\n",
    "\n",
    "column_1 = ['Before 2000', 'After 2000']\n",
    "column_2 = [price_before_2000['price'].mean(), price_after_2000['price'].mean()]\n",
    "\n",
    "yr_renovated_price = {'Reform Period': column_1, 'Average Price (U$)': column_2}\n",
    "\n",
    "yr_renovated_price = pd.DataFrame(yr_renovated_price)\n",
    "\n",
    "graph = sns.barplot(data = yr_renovated_price, x='Reform Period', y='Average Price (U$)')\n",
    "graph;"
   ]
  },
  {
   "cell_type": "code",
   "execution_count": 149,
   "id": "f328539e",
   "metadata": {
    "ExecuteTime": {
     "end_time": "2023-05-26T00:04:30.351255Z",
     "start_time": "2023-05-26T00:04:30.334265Z"
    }
   },
   "outputs": [
    {
     "data": {
      "text/plain": [
       "43.22"
      ]
     },
     "execution_count": 149,
     "metadata": {},
     "output_type": "execute_result"
    }
   ],
   "source": [
    "variance_percentage(price_before_2000['price'].mean(), price_after_2000['price'].mean())"
   ]
  },
  {
   "cell_type": "markdown",
   "id": "8b15c37e",
   "metadata": {},
   "source": [
    "## H7: Imóveis com até 2 quartos são, em média, 20% mais baratos."
   ]
  },
  {
   "cell_type": "markdown",
   "id": "60e79b82",
   "metadata": {},
   "source": [
    "Falso! Imóveis com até 2 quartos, são em média 37,23% mais baratos"
   ]
  },
  {
   "cell_type": "code",
   "execution_count": 70,
   "id": "62877dfd",
   "metadata": {
    "ExecuteTime": {
     "end_time": "2023-05-27T18:49:03.894010Z",
     "start_time": "2023-05-27T18:49:03.600189Z"
    }
   },
   "outputs": [
    {
     "data": {
      "image/png": "[encoded data removed]",
      "text/plain": [
       "<Figure size 640x480 with 1 Axes>"
      ]
     },
     "metadata": {},
     "output_type": "display_data"
    }
   ],
   "source": [
    "bedroom_smallest_2 = data[data['bedrooms'] <= 2]['price'].mean()\n",
    "bedroom_larger_2 = data[data['bedrooms'] >= 2]['price'].mean()\n",
    "\n",
    "column_0 = ['Up to 2', 'More than 2']\n",
    "column_1 = [bedroom_smallest_2, bedroom_larger_2]\n",
    "\n",
    "number_bedrooms_price = {'Number of bedrooms': column_0, 'Average Price (U$)': column_1}\n",
    "number_bedrooms_price = pd.DataFrame(number_bedrooms_price)\n",
    "\n",
    "graph = sns.barplot(data = number_bedrooms_price, x='Number of bedrooms', y='Average Price (U$)')\n",
    "graph;"
   ]
  },
  {
   "cell_type": "code",
   "execution_count": 152,
   "id": "d075fae2",
   "metadata": {
    "ExecuteTime": {
     "end_time": "2023-05-26T00:11:08.509501Z",
     "start_time": "2023-05-26T00:11:08.496512Z"
    }
   },
   "outputs": [
    {
     "data": {
      "text/plain": [
       "37.23"
      ]
     },
     "execution_count": 152,
     "metadata": {},
     "output_type": "execute_result"
    }
   ],
   "source": [
    "variance_percentage(bedroom_smallest_2, bedroom_larger_2)"
   ]
  },
  {
   "cell_type": "markdown",
   "id": "e1bd081f",
   "metadata": {},
   "source": [
    "# H8: Propriedades reformadas são 40% mais caras que não reformadas. "
   ]
  },
  {
   "cell_type": "markdown",
   "id": "e88e2ed6",
   "metadata": {},
   "source": [
    "Verdadeiro! Propriedades reformadas são, em média, 43% mais caras que não reformadas"
   ]
  },
  {
   "cell_type": "code",
   "execution_count": 72,
   "id": "a3750ca8",
   "metadata": {
    "ExecuteTime": {
     "end_time": "2023-05-27T18:49:21.687915Z",
     "start_time": "2023-05-27T18:49:21.380106Z"
    }
   },
   "outputs": [
    {
     "data": {
      "image/png": "[encoded data removed]",
      "text/plain": [
       "<Figure size 640x480 with 1 Axes>"
      ]
     },
     "metadata": {},
     "output_type": "display_data"
    }
   ],
   "source": [
    "unrenovated_price = data[data['yr_renovated'] == pd.to_datetime('1900', format='%Y')]['price'].mean()\n",
    "renovated_price = data[data['yr_renovated'] != pd.to_datetime('1900', format='%Y')]['price'].mean()\n",
    "\n",
    "column_0 = ['unrenovated', 'renovated']\n",
    "column_1 = [unrenovated_price, renovated_price]\n",
    "\n",
    "reform = {'Condition': column_0, 'Average Price (U$)': column_1}\n",
    "reform = pd.DataFrame(reform)\n",
    "\n",
    "graph = sns.barplot(data = reform, x='Condition', y='Average Price (U$)')\n",
    "graph;"
   ]
  },
  {
   "cell_type": "code",
   "execution_count": 157,
   "id": "d277b620",
   "metadata": {
    "ExecuteTime": {
     "end_time": "2023-05-26T00:13:57.970470Z",
     "start_time": "2023-05-26T00:13:57.949480Z"
    }
   },
   "outputs": [
    {
     "data": {
      "text/plain": [
       "43.51"
      ]
     },
     "execution_count": 157,
     "metadata": {},
     "output_type": "execute_result"
    }
   ],
   "source": [
    "variance_percentage(unrenovated_price, renovated_price)"
   ]
  },
  {
   "cell_type": "markdown",
   "id": "8cdc2472",
   "metadata": {},
   "source": [
    "# H9: A melhor estação do ano para comprar imóveis é no inverno, que é 20% mais barato que no resto do ano."
   ]
  },
  {
   "cell_type": "markdown",
   "id": "59b9a46e",
   "metadata": {},
   "source": [
    "É verdade que o inverno é a melhor estação do ano para comprar imóveis, porém os imóveis ficam 4,85% mais baratos nesse período."
   ]
  },
  {
   "cell_type": "code",
   "execution_count": 73,
   "id": "0b09247f",
   "metadata": {
    "ExecuteTime": {
     "end_time": "2023-05-27T18:51:31.127445Z",
     "start_time": "2023-05-27T18:51:30.807642Z"
    }
   },
   "outputs": [
    {
     "data": {
      "image/png": "[encoded data removed]",
      "text/plain": [
       "<Figure size 640x480 with 1 Axes>"
      ]
     },
     "metadata": {},
     "output_type": "display_data"
    }
   ],
   "source": [
    "#Qual estação do ano é melhor?\n",
    "\n",
    "season_price = data[['season', 'price']].groupby('season').mean().reset_index()\n",
    "\n",
    "graph = sns.barplot(data = season_price, x='season', y='price')\n",
    "\n",
    "graph.set_xlabel(\"Real State Buying Season\")\n",
    "graph.set_ylabel(\"Average Price (U$)\")\n",
    "\n",
    "graph;"
   ]
  },
  {
   "cell_type": "code",
   "execution_count": 78,
   "id": "b5ea81ef",
   "metadata": {
    "ExecuteTime": {
     "end_time": "2023-05-27T18:52:53.760085Z",
     "start_time": "2023-05-27T18:52:53.485255Z"
    }
   },
   "outputs": [
    {
     "data": {
      "image/png": "[encoded data removed]",
      "text/plain": [
       "<Figure size 640x480 with 1 Axes>"
      ]
     },
     "metadata": {},
     "output_type": "display_data"
    }
   ],
   "source": [
    "#Em qual porcentagem?\n",
    "price_winter = data[data['season'] == 'winter']['price'].mean()\n",
    "price_rest_of_the_year = data[data['season'] != 'winter']['price'].mean()\n",
    "\n",
    "coluna_0 = ['winter', 'rest of the year']\n",
    "coluna_1 = [price_winter, price_rest_of_the_year]\n",
    "\n",
    "winter = {'Property buying season': coluna_0, 'Average Price (U$)': coluna_1}\n",
    "winter = pd.DataFrame(winter)\n",
    "\n",
    "graph = sns.barplot(data = winter, x='Property buying season', y='Average Price (U$)')"
   ]
  },
  {
   "cell_type": "code",
   "execution_count": 162,
   "id": "c6ac3072",
   "metadata": {
    "ExecuteTime": {
     "end_time": "2023-05-26T00:21:27.189678Z",
     "start_time": "2023-05-26T00:21:27.168695Z"
    }
   },
   "outputs": [
    {
     "data": {
      "text/plain": [
       "4.82"
      ]
     },
     "execution_count": 162,
     "metadata": {},
     "output_type": "execute_result"
    }
   ],
   "source": [
    "variance_percentage(price_winter, price_rest_of_the_year)"
   ]
  },
  {
   "cell_type": "markdown",
   "id": "ad4a8169",
   "metadata": {},
   "source": [
    "## H10: Imóveis com melhores condições são em média 20% mais caros "
   ]
  },
  {
   "cell_type": "markdown",
   "id": "095064a1",
   "metadata": {},
   "source": [
    "Falso! Imóveis com melhores condições são em média 0.46% mais caros"
   ]
  },
  {
   "cell_type": "code",
   "execution_count": 79,
   "id": "8412b62d",
   "metadata": {
    "ExecuteTime": {
     "end_time": "2023-05-27T18:53:14.584589Z",
     "start_time": "2023-05-27T18:53:14.332745Z"
    }
   },
   "outputs": [
    {
     "data": {
      "image/png": "[encoded data removed]",
      "text/plain": [
       "<Figure size 640x480 with 1 Axes>"
      ]
     },
     "metadata": {},
     "output_type": "display_data"
    }
   ],
   "source": [
    "best_conditions = data[(data['condition'] == 4) | (data['condition'] == 5)]['price'].mean()\n",
    "worst_conditions = data[(data['condition'] != 4) & (data['condition'] != 5)]['price'].mean()\n",
    "\n",
    "column_0 = ['best', 'worst']\n",
    "column_1 = [best_conditions, worst_conditions]\n",
    "\n",
    "conditions = {'Property condition': column_0, 'Average Price (U$)': column_1}\n",
    "conditions = pd.DataFrame(conditions)\n",
    "\n",
    "graph = sns.barplot(data = conditions, x='Property condition', y='Average Price (U$)')"
   ]
  },
  {
   "cell_type": "code",
   "execution_count": 168,
   "id": "d9857d49",
   "metadata": {
    "ExecuteTime": {
     "end_time": "2023-05-27T16:10:58.128242Z",
     "start_time": "2023-05-27T16:10:58.105256Z"
    }
   },
   "outputs": [
    {
     "data": {
      "text/plain": [
       "0.46"
      ]
     },
     "execution_count": 168,
     "metadata": {},
     "output_type": "execute_result"
    }
   ],
   "source": [
    "variance_percentage(worst_conditions, best_conditions)"
   ]
  },
  {
   "cell_type": "markdown",
   "id": "673454d8",
   "metadata": {},
   "source": [
    "# 4.0 Resultado: Tabela de sugestões "
   ]
  },
  {
   "cell_type": "code",
   "execution_count": 174,
   "id": "9af90726",
   "metadata": {
    "ExecuteTime": {
     "end_time": "2023-05-27T16:27:45.466974Z",
     "start_time": "2023-05-27T16:27:45.453985Z"
    }
   },
   "outputs": [
    {
     "data": {
      "text/plain": [
       "Index(['id', 'date', 'price', 'bedrooms', 'bathrooms', 'sqft_living',\n",
       "       'sqft_lot', 'floors', 'waterfront', 'view', 'condition', 'grade',\n",
       "       'sqft_above', 'sqft_basement', 'yr_built', 'yr_renovated', 'zipcode',\n",
       "       'lat', 'long', 'sqft_living15', 'sqft_lot15', 'road', 'house_number',\n",
       "       'renovated', 'year', 'season', 'basement'],\n",
       "      dtype='object')"
      ]
     },
     "execution_count": 174,
     "metadata": {},
     "output_type": "execute_result"
    }
   ],
   "source": [
    "data.columns"
   ]
  },
  {
   "cell_type": "code",
   "execution_count": 175,
   "id": "7637aab8",
   "metadata": {
    "ExecuteTime": {
     "end_time": "2023-05-27T16:27:47.492888Z",
     "start_time": "2023-05-27T16:27:47.443915Z"
    },
    "scrolled": false
   },
   "outputs": [
    {
     "data": {
      "text/html": [
       "<div>\n",
       "<style scoped>\n",
       "    .dataframe tbody tr th:only-of-type {\n",
       "        vertical-align: middle;\n",
       "    }\n",
       "\n",
       "    .dataframe tbody tr th {\n",
       "        vertical-align: top;\n",
       "    }\n",
       "\n",
       "    .dataframe thead th {\n",
       "        text-align: right;\n",
       "    }\n",
       "</style>\n",
       "<table border=\"1\" class=\"dataframe\">\n",
       "  <thead>\n",
       "    <tr style=\"text-align: right;\">\n",
       "      <th></th>\n",
       "      <th>id</th>\n",
       "      <th>date</th>\n",
       "      <th>price</th>\n",
       "      <th>bedrooms</th>\n",
       "      <th>bathrooms</th>\n",
       "      <th>sqft_living</th>\n",
       "      <th>sqft_lot</th>\n",
       "      <th>floors</th>\n",
       "      <th>waterfront</th>\n",
       "      <th>view</th>\n",
       "      <th>condition</th>\n",
       "      <th>grade</th>\n",
       "      <th>sqft_above</th>\n",
       "      <th>sqft_basement</th>\n",
       "      <th>yr_built</th>\n",
       "      <th>yr_renovated</th>\n",
       "      <th>zipcode</th>\n",
       "      <th>lat</th>\n",
       "      <th>long</th>\n",
       "      <th>sqft_living15</th>\n",
       "      <th>sqft_lot15</th>\n",
       "      <th>road</th>\n",
       "      <th>house_number</th>\n",
       "      <th>renovated</th>\n",
       "      <th>year</th>\n",
       "      <th>season</th>\n",
       "      <th>basement</th>\n",
       "    </tr>\n",
       "  </thead>\n",
       "  <tbody>\n",
       "    <tr>\n",
       "      <th>0</th>\n",
       "      <td>7129300520</td>\n",
       "      <td>2014-10-13</td>\n",
       "      <td>221900.00</td>\n",
       "      <td>3</td>\n",
       "      <td>1.00</td>\n",
       "      <td>1180</td>\n",
       "      <td>5650</td>\n",
       "      <td>1.00</td>\n",
       "      <td>0</td>\n",
       "      <td>0</td>\n",
       "      <td>3</td>\n",
       "      <td>7</td>\n",
       "      <td>1180</td>\n",
       "      <td>0</td>\n",
       "      <td>1955-01-01</td>\n",
       "      <td>1900-01-01</td>\n",
       "      <td>98178</td>\n",
       "      <td>47.51</td>\n",
       "      <td>-122.26</td>\n",
       "      <td>1340</td>\n",
       "      <td>5650</td>\n",
       "      <td>61st Avenue South</td>\n",
       "      <td>10012</td>\n",
       "      <td>no</td>\n",
       "      <td>2014</td>\n",
       "      <td>autumn</td>\n",
       "      <td>0</td>\n",
       "    </tr>\n",
       "    <tr>\n",
       "      <th>1</th>\n",
       "      <td>6414100192</td>\n",
       "      <td>2014-12-09</td>\n",
       "      <td>538000.00</td>\n",
       "      <td>3</td>\n",
       "      <td>2.25</td>\n",
       "      <td>2570</td>\n",
       "      <td>7242</td>\n",
       "      <td>2.00</td>\n",
       "      <td>0</td>\n",
       "      <td>0</td>\n",
       "      <td>3</td>\n",
       "      <td>7</td>\n",
       "      <td>2170</td>\n",
       "      <td>400</td>\n",
       "      <td>1951-01-01</td>\n",
       "      <td>1991-01-01</td>\n",
       "      <td>98125</td>\n",
       "      <td>47.72</td>\n",
       "      <td>-122.32</td>\n",
       "      <td>1690</td>\n",
       "      <td>7639</td>\n",
       "      <td>Northeast 127th Street</td>\n",
       "      <td>837</td>\n",
       "      <td>yes</td>\n",
       "      <td>2014</td>\n",
       "      <td>winter</td>\n",
       "      <td>1</td>\n",
       "    </tr>\n",
       "    <tr>\n",
       "      <th>2</th>\n",
       "      <td>5631500400</td>\n",
       "      <td>2015-02-25</td>\n",
       "      <td>180000.00</td>\n",
       "      <td>2</td>\n",
       "      <td>1.00</td>\n",
       "      <td>770</td>\n",
       "      <td>10000</td>\n",
       "      <td>1.00</td>\n",
       "      <td>0</td>\n",
       "      <td>0</td>\n",
       "      <td>3</td>\n",
       "      <td>6</td>\n",
       "      <td>770</td>\n",
       "      <td>0</td>\n",
       "      <td>1933-01-01</td>\n",
       "      <td>1900-01-01</td>\n",
       "      <td>98028</td>\n",
       "      <td>47.74</td>\n",
       "      <td>-122.23</td>\n",
       "      <td>2720</td>\n",
       "      <td>8062</td>\n",
       "      <td>81st Avenue Northeast</td>\n",
       "      <td>15109</td>\n",
       "      <td>no</td>\n",
       "      <td>2015</td>\n",
       "      <td>winter</td>\n",
       "      <td>0</td>\n",
       "    </tr>\n",
       "    <tr>\n",
       "      <th>3</th>\n",
       "      <td>2487200875</td>\n",
       "      <td>2014-12-09</td>\n",
       "      <td>604000.00</td>\n",
       "      <td>4</td>\n",
       "      <td>3.00</td>\n",
       "      <td>1960</td>\n",
       "      <td>5000</td>\n",
       "      <td>1.00</td>\n",
       "      <td>0</td>\n",
       "      <td>0</td>\n",
       "      <td>5</td>\n",
       "      <td>7</td>\n",
       "      <td>1050</td>\n",
       "      <td>910</td>\n",
       "      <td>1965-01-01</td>\n",
       "      <td>1900-01-01</td>\n",
       "      <td>98136</td>\n",
       "      <td>47.52</td>\n",
       "      <td>-122.39</td>\n",
       "      <td>1360</td>\n",
       "      <td>5000</td>\n",
       "      <td>Fauntleroy Way Southwest</td>\n",
       "      <td>9236</td>\n",
       "      <td>no</td>\n",
       "      <td>2014</td>\n",
       "      <td>winter</td>\n",
       "      <td>1</td>\n",
       "    </tr>\n",
       "    <tr>\n",
       "      <th>4</th>\n",
       "      <td>1954400510</td>\n",
       "      <td>2015-02-18</td>\n",
       "      <td>510000.00</td>\n",
       "      <td>3</td>\n",
       "      <td>2.00</td>\n",
       "      <td>1680</td>\n",
       "      <td>8080</td>\n",
       "      <td>1.00</td>\n",
       "      <td>0</td>\n",
       "      <td>0</td>\n",
       "      <td>3</td>\n",
       "      <td>8</td>\n",
       "      <td>1680</td>\n",
       "      <td>0</td>\n",
       "      <td>1987-01-01</td>\n",
       "      <td>1900-01-01</td>\n",
       "      <td>98074</td>\n",
       "      <td>47.62</td>\n",
       "      <td>-122.05</td>\n",
       "      <td>1800</td>\n",
       "      <td>7503</td>\n",
       "      <td>221st Avenue Northeast</td>\n",
       "      <td>907</td>\n",
       "      <td>no</td>\n",
       "      <td>2015</td>\n",
       "      <td>winter</td>\n",
       "      <td>0</td>\n",
       "    </tr>\n",
       "    <tr>\n",
       "      <th>...</th>\n",
       "      <td>...</td>\n",
       "      <td>...</td>\n",
       "      <td>...</td>\n",
       "      <td>...</td>\n",
       "      <td>...</td>\n",
       "      <td>...</td>\n",
       "      <td>...</td>\n",
       "      <td>...</td>\n",
       "      <td>...</td>\n",
       "      <td>...</td>\n",
       "      <td>...</td>\n",
       "      <td>...</td>\n",
       "      <td>...</td>\n",
       "      <td>...</td>\n",
       "      <td>...</td>\n",
       "      <td>...</td>\n",
       "      <td>...</td>\n",
       "      <td>...</td>\n",
       "      <td>...</td>\n",
       "      <td>...</td>\n",
       "      <td>...</td>\n",
       "      <td>...</td>\n",
       "      <td>...</td>\n",
       "      <td>...</td>\n",
       "      <td>...</td>\n",
       "      <td>...</td>\n",
       "      <td>...</td>\n",
       "    </tr>\n",
       "    <tr>\n",
       "      <th>21594</th>\n",
       "      <td>263000018</td>\n",
       "      <td>2014-05-21</td>\n",
       "      <td>360000.00</td>\n",
       "      <td>3</td>\n",
       "      <td>2.50</td>\n",
       "      <td>1530</td>\n",
       "      <td>1131</td>\n",
       "      <td>3.00</td>\n",
       "      <td>0</td>\n",
       "      <td>0</td>\n",
       "      <td>3</td>\n",
       "      <td>8</td>\n",
       "      <td>1530</td>\n",
       "      <td>0</td>\n",
       "      <td>2009-01-01</td>\n",
       "      <td>1900-01-01</td>\n",
       "      <td>98103</td>\n",
       "      <td>47.70</td>\n",
       "      <td>-122.35</td>\n",
       "      <td>1530</td>\n",
       "      <td>1509</td>\n",
       "      <td>North 97th Street</td>\n",
       "      <td>927</td>\n",
       "      <td>no</td>\n",
       "      <td>2014</td>\n",
       "      <td>spring</td>\n",
       "      <td>0</td>\n",
       "    </tr>\n",
       "    <tr>\n",
       "      <th>21595</th>\n",
       "      <td>6600060120</td>\n",
       "      <td>2015-02-23</td>\n",
       "      <td>400000.00</td>\n",
       "      <td>4</td>\n",
       "      <td>2.50</td>\n",
       "      <td>2310</td>\n",
       "      <td>5813</td>\n",
       "      <td>2.00</td>\n",
       "      <td>0</td>\n",
       "      <td>0</td>\n",
       "      <td>3</td>\n",
       "      <td>8</td>\n",
       "      <td>2310</td>\n",
       "      <td>0</td>\n",
       "      <td>2014-01-01</td>\n",
       "      <td>1900-01-01</td>\n",
       "      <td>98146</td>\n",
       "      <td>47.51</td>\n",
       "      <td>-122.36</td>\n",
       "      <td>1830</td>\n",
       "      <td>7200</td>\n",
       "      <td>Southwest 103rd Place</td>\n",
       "      <td>2211</td>\n",
       "      <td>no</td>\n",
       "      <td>2015</td>\n",
       "      <td>winter</td>\n",
       "      <td>0</td>\n",
       "    </tr>\n",
       "    <tr>\n",
       "      <th>21596</th>\n",
       "      <td>1523300141</td>\n",
       "      <td>2014-06-23</td>\n",
       "      <td>402101.00</td>\n",
       "      <td>2</td>\n",
       "      <td>0.75</td>\n",
       "      <td>1020</td>\n",
       "      <td>1350</td>\n",
       "      <td>2.00</td>\n",
       "      <td>0</td>\n",
       "      <td>0</td>\n",
       "      <td>3</td>\n",
       "      <td>7</td>\n",
       "      <td>1020</td>\n",
       "      <td>0</td>\n",
       "      <td>2009-01-01</td>\n",
       "      <td>1900-01-01</td>\n",
       "      <td>98144</td>\n",
       "      <td>47.59</td>\n",
       "      <td>-122.30</td>\n",
       "      <td>1020</td>\n",
       "      <td>2007</td>\n",
       "      <td>26th Avenue South</td>\n",
       "      <td>902</td>\n",
       "      <td>no</td>\n",
       "      <td>2014</td>\n",
       "      <td>summer</td>\n",
       "      <td>0</td>\n",
       "    </tr>\n",
       "    <tr>\n",
       "      <th>21597</th>\n",
       "      <td>291310100</td>\n",
       "      <td>2015-01-16</td>\n",
       "      <td>400000.00</td>\n",
       "      <td>3</td>\n",
       "      <td>2.50</td>\n",
       "      <td>1600</td>\n",
       "      <td>2388</td>\n",
       "      <td>2.00</td>\n",
       "      <td>0</td>\n",
       "      <td>0</td>\n",
       "      <td>3</td>\n",
       "      <td>8</td>\n",
       "      <td>1600</td>\n",
       "      <td>0</td>\n",
       "      <td>2004-01-01</td>\n",
       "      <td>1900-01-01</td>\n",
       "      <td>98027</td>\n",
       "      <td>47.53</td>\n",
       "      <td>-122.07</td>\n",
       "      <td>1410</td>\n",
       "      <td>1287</td>\n",
       "      <td>Northwest Boulder Way Drive</td>\n",
       "      <td>2136</td>\n",
       "      <td>no</td>\n",
       "      <td>2015</td>\n",
       "      <td>winter</td>\n",
       "      <td>0</td>\n",
       "    </tr>\n",
       "    <tr>\n",
       "      <th>21598</th>\n",
       "      <td>1523300157</td>\n",
       "      <td>2014-10-15</td>\n",
       "      <td>325000.00</td>\n",
       "      <td>2</td>\n",
       "      <td>0.75</td>\n",
       "      <td>1020</td>\n",
       "      <td>1076</td>\n",
       "      <td>2.00</td>\n",
       "      <td>0</td>\n",
       "      <td>0</td>\n",
       "      <td>3</td>\n",
       "      <td>7</td>\n",
       "      <td>1020</td>\n",
       "      <td>0</td>\n",
       "      <td>2008-01-01</td>\n",
       "      <td>1900-01-01</td>\n",
       "      <td>98144</td>\n",
       "      <td>47.59</td>\n",
       "      <td>-122.30</td>\n",
       "      <td>1020</td>\n",
       "      <td>1357</td>\n",
       "      <td>26th Avenue South</td>\n",
       "      <td>916</td>\n",
       "      <td>no</td>\n",
       "      <td>2014</td>\n",
       "      <td>autumn</td>\n",
       "      <td>0</td>\n",
       "    </tr>\n",
       "  </tbody>\n",
       "</table>\n",
       "<p>21422 rows × 27 columns</p>\n",
       "</div>"
      ],
      "text/plain": [
       "               id       date     price  bedrooms  bathrooms  sqft_living  \\\n",
       "0      7129300520 2014-10-13 221900.00         3       1.00         1180   \n",
       "1      6414100192 2014-12-09 538000.00         3       2.25         2570   \n",
       "2      5631500400 2015-02-25 180000.00         2       1.00          770   \n",
       "3      2487200875 2014-12-09 604000.00         4       3.00         1960   \n",
       "4      1954400510 2015-02-18 510000.00         3       2.00         1680   \n",
       "...           ...        ...       ...       ...        ...          ...   \n",
       "21594   263000018 2014-05-21 360000.00         3       2.50         1530   \n",
       "21595  6600060120 2015-02-23 400000.00         4       2.50         2310   \n",
       "21596  1523300141 2014-06-23 402101.00         2       0.75         1020   \n",
       "21597   291310100 2015-01-16 400000.00         3       2.50         1600   \n",
       "21598  1523300157 2014-10-15 325000.00         2       0.75         1020   \n",
       "\n",
       "       sqft_lot  floors  waterfront  view  condition  grade  sqft_above  \\\n",
       "0          5650    1.00           0     0          3      7        1180   \n",
       "1          7242    2.00           0     0          3      7        2170   \n",
       "2         10000    1.00           0     0          3      6         770   \n",
       "3          5000    1.00           0     0          5      7        1050   \n",
       "4          8080    1.00           0     0          3      8        1680   \n",
       "...         ...     ...         ...   ...        ...    ...         ...   \n",
       "21594      1131    3.00           0     0          3      8        1530   \n",
       "21595      5813    2.00           0     0          3      8        2310   \n",
       "21596      1350    2.00           0     0          3      7        1020   \n",
       "21597      2388    2.00           0     0          3      8        1600   \n",
       "21598      1076    2.00           0     0          3      7        1020   \n",
       "\n",
       "       sqft_basement   yr_built yr_renovated  zipcode   lat    long  \\\n",
       "0                  0 1955-01-01   1900-01-01    98178 47.51 -122.26   \n",
       "1                400 1951-01-01   1991-01-01    98125 47.72 -122.32   \n",
       "2                  0 1933-01-01   1900-01-01    98028 47.74 -122.23   \n",
       "3                910 1965-01-01   1900-01-01    98136 47.52 -122.39   \n",
       "4                  0 1987-01-01   1900-01-01    98074 47.62 -122.05   \n",
       "...              ...        ...          ...      ...   ...     ...   \n",
       "21594              0 2009-01-01   1900-01-01    98103 47.70 -122.35   \n",
       "21595              0 2014-01-01   1900-01-01    98146 47.51 -122.36   \n",
       "21596              0 2009-01-01   1900-01-01    98144 47.59 -122.30   \n",
       "21597              0 2004-01-01   1900-01-01    98027 47.53 -122.07   \n",
       "21598              0 2008-01-01   1900-01-01    98144 47.59 -122.30   \n",
       "\n",
       "       sqft_living15  sqft_lot15                         road house_number  \\\n",
       "0               1340        5650            61st Avenue South        10012   \n",
       "1               1690        7639       Northeast 127th Street          837   \n",
       "2               2720        8062        81st Avenue Northeast        15109   \n",
       "3               1360        5000     Fauntleroy Way Southwest         9236   \n",
       "4               1800        7503       221st Avenue Northeast          907   \n",
       "...              ...         ...                          ...          ...   \n",
       "21594           1530        1509            North 97th Street          927   \n",
       "21595           1830        7200        Southwest 103rd Place         2211   \n",
       "21596           1020        2007            26th Avenue South          902   \n",
       "21597           1410        1287  Northwest Boulder Way Drive         2136   \n",
       "21598           1020        1357            26th Avenue South          916   \n",
       "\n",
       "      renovated  year  season  basement  \n",
       "0            no  2014  autumn         0  \n",
       "1           yes  2014  winter         1  \n",
       "2            no  2015  winter         0  \n",
       "3            no  2014  winter         1  \n",
       "4            no  2015  winter         0  \n",
       "...         ...   ...     ...       ...  \n",
       "21594        no  2014  spring         0  \n",
       "21595        no  2015  winter         0  \n",
       "21596        no  2014  summer         0  \n",
       "21597        no  2015  winter         0  \n",
       "21598        no  2014  autumn         0  \n",
       "\n",
       "[21422 rows x 27 columns]"
      ]
     },
     "execution_count": 175,
     "metadata": {},
     "output_type": "execute_result"
    }
   ],
   "source": [
    "data"
   ]
  },
  {
   "cell_type": "code",
   "execution_count": 182,
   "id": "62320818",
   "metadata": {
    "ExecuteTime": {
     "end_time": "2023-05-27T17:04:18.160597Z",
     "start_time": "2023-05-27T17:04:16.822422Z"
    }
   },
   "outputs": [],
   "source": [
    "#criando tabela com a coluna de média de preço por região\n",
    "data_grouped = data[['zipcode', 'price']].groupby('zipcode').median().reset_index()\n",
    "data_grouped = data_grouped.rename(columns={'price': 'region_median_price'})\n",
    "data_with_region_median = pd.merge(data, data_grouped, on='zipcode', how='inner')\n",
    "\n",
    "#selecionando as colunas que vão para a tabela de sugestão\n",
    "purchase_table = data_with_region_median[['id', 'zipcode', 'road', 'house_number', 'price', 'region_median_price', 'yr_built', 'waterfront', 'renovated', 'bedrooms', 'bathrooms',\n",
    "'season', 'condition', 'lat', 'long']]\n",
    "\n",
    "#criando coluna de status de sugestão\n",
    "purchase_table['status'] = purchase_table.apply(lambda line: 'suggested' if (line['condition'] >= 4) and (line['price'] < line['region_median_price']) else 'not suggested', axis=1)\n",
    "\n",
    "#melhorando leitura do título das colunas\n",
    "purchase_table.rename(columns = {'season': 'season_of_sale', 'yr_built': 'construction_year'}, inplace = True)\n",
    "\n",
    "#filtrando apenas os imóveis sugeridos\n",
    "purchase_table = purchase_table[purchase_table['status'] == 'suggested']\n",
    "\n",
    "#criando coluna de melhor preço por estação\n",
    "p_z_c_s = purchase_table[['zipcode', 'season_of_sale', 'price']].groupby(['zipcode', 'season_of_sale']).median().reset_index().sort_values(['zipcode', 'price'])\n",
    "p_z_c_s = p_z_c_s.drop_duplicates(subset='zipcode', keep='last')\n",
    "p_z_c_s = p_z_c_s.rename(columns={'season_of_sale': 'best_season_to_sell', 'price': 'best_price_per_season'})\n",
    "purchase_table = pd.merge(purchase_table, p_z_c_s, on='zipcode', how='inner')\n",
    "\n",
    "#criando coluna de preço sugerido\n",
    "purchase_table['suggested_price'] = purchase_table.apply( lambda line: (line['price'] + (line['price'] * 0.30)) if line['price'] < line[\n",
    "'best_price_per_season'] else (line['price'] + line['price'] * 0.10), axis=1)\n",
    "\n",
    "#criando coluna de lucro\n",
    "purchase_table['profit'] = purchase_table.apply(lambda line: line['suggested_price'] - line['price'], axis=1)\n",
    "\n",
    "#transformando o tipo da coluna construction_year para datetime\n",
    "purchase_table['construction_year'] = purchase_table['construction_year'].dt.strftime('%Y')\n",
    "\n",
    "#apagando colunas auxiliares \n",
    "purchase_table.drop(columns = ['region_median_price', 'season_of_sale', 'best_price_per_season', 'status'], inplace = True)"
   ]
  },
  {
   "cell_type": "code",
   "execution_count": 185,
   "id": "680738f4",
   "metadata": {
    "ExecuteTime": {
     "end_time": "2023-05-27T17:11:47.071309Z",
     "start_time": "2023-05-27T17:11:47.027336Z"
    }
   },
   "outputs": [
    {
     "data": {
      "text/html": [
       "<div>\n",
       "<style scoped>\n",
       "    .dataframe tbody tr th:only-of-type {\n",
       "        vertical-align: middle;\n",
       "    }\n",
       "\n",
       "    .dataframe tbody tr th {\n",
       "        vertical-align: top;\n",
       "    }\n",
       "\n",
       "    .dataframe thead th {\n",
       "        text-align: right;\n",
       "    }\n",
       "</style>\n",
       "<table border=\"1\" class=\"dataframe\">\n",
       "  <thead>\n",
       "    <tr style=\"text-align: right;\">\n",
       "      <th></th>\n",
       "      <th>id</th>\n",
       "      <th>zipcode</th>\n",
       "      <th>road</th>\n",
       "      <th>house_number</th>\n",
       "      <th>price</th>\n",
       "      <th>construction_year</th>\n",
       "      <th>waterfront</th>\n",
       "      <th>renovated</th>\n",
       "      <th>bedrooms</th>\n",
       "      <th>bathrooms</th>\n",
       "      <th>condition</th>\n",
       "      <th>lat</th>\n",
       "      <th>long</th>\n",
       "      <th>best_season_to_sell</th>\n",
       "      <th>suggested_price</th>\n",
       "      <th>profit</th>\n",
       "    </tr>\n",
       "  </thead>\n",
       "  <tbody>\n",
       "    <tr>\n",
       "      <th>0</th>\n",
       "      <td>4060000240</td>\n",
       "      <td>98178</td>\n",
       "      <td>69th Place South</td>\n",
       "      <td>11440</td>\n",
       "      <td>205425.00</td>\n",
       "      <td>1945</td>\n",
       "      <td>0</td>\n",
       "      <td>no</td>\n",
       "      <td>2</td>\n",
       "      <td>1.00</td>\n",
       "      <td>4</td>\n",
       "      <td>47.50</td>\n",
       "      <td>-122.25</td>\n",
       "      <td>winter</td>\n",
       "      <td>267052.50</td>\n",
       "      <td>61627.50</td>\n",
       "    </tr>\n",
       "    <tr>\n",
       "      <th>1</th>\n",
       "      <td>561000075</td>\n",
       "      <td>98178</td>\n",
       "      <td>59th Avenue South</td>\n",
       "      <td>10636</td>\n",
       "      <td>260000.00</td>\n",
       "      <td>1959</td>\n",
       "      <td>0</td>\n",
       "      <td>no</td>\n",
       "      <td>3</td>\n",
       "      <td>1.00</td>\n",
       "      <td>4</td>\n",
       "      <td>47.51</td>\n",
       "      <td>-122.26</td>\n",
       "      <td>winter</td>\n",
       "      <td>286000.00</td>\n",
       "      <td>26000.00</td>\n",
       "    </tr>\n",
       "    <tr>\n",
       "      <th>2</th>\n",
       "      <td>3352402236</td>\n",
       "      <td>98178</td>\n",
       "      <td>Beacon Avenue South</td>\n",
       "      <td>11708</td>\n",
       "      <td>252500.00</td>\n",
       "      <td>1956</td>\n",
       "      <td>0</td>\n",
       "      <td>no</td>\n",
       "      <td>3</td>\n",
       "      <td>2.00</td>\n",
       "      <td>5</td>\n",
       "      <td>47.50</td>\n",
       "      <td>-122.26</td>\n",
       "      <td>winter</td>\n",
       "      <td>277750.00</td>\n",
       "      <td>25250.00</td>\n",
       "    </tr>\n",
       "    <tr>\n",
       "      <th>3</th>\n",
       "      <td>185000118</td>\n",
       "      <td>98178</td>\n",
       "      <td>56th Place South</td>\n",
       "      <td>12028</td>\n",
       "      <td>212000.00</td>\n",
       "      <td>1946</td>\n",
       "      <td>0</td>\n",
       "      <td>no</td>\n",
       "      <td>4</td>\n",
       "      <td>2.00</td>\n",
       "      <td>5</td>\n",
       "      <td>47.49</td>\n",
       "      <td>-122.27</td>\n",
       "      <td>winter</td>\n",
       "      <td>275600.00</td>\n",
       "      <td>63600.00</td>\n",
       "    </tr>\n",
       "    <tr>\n",
       "      <th>4</th>\n",
       "      <td>3810000465</td>\n",
       "      <td>98178</td>\n",
       "      <td>South 118th Street</td>\n",
       "      <td>8046</td>\n",
       "      <td>243000.00</td>\n",
       "      <td>1943</td>\n",
       "      <td>0</td>\n",
       "      <td>no</td>\n",
       "      <td>2</td>\n",
       "      <td>1.00</td>\n",
       "      <td>4</td>\n",
       "      <td>47.50</td>\n",
       "      <td>-122.23</td>\n",
       "      <td>winter</td>\n",
       "      <td>315900.00</td>\n",
       "      <td>72900.00</td>\n",
       "    </tr>\n",
       "    <tr>\n",
       "      <th>...</th>\n",
       "      <td>...</td>\n",
       "      <td>...</td>\n",
       "      <td>...</td>\n",
       "      <td>...</td>\n",
       "      <td>...</td>\n",
       "      <td>...</td>\n",
       "      <td>...</td>\n",
       "      <td>...</td>\n",
       "      <td>...</td>\n",
       "      <td>...</td>\n",
       "      <td>...</td>\n",
       "      <td>...</td>\n",
       "      <td>...</td>\n",
       "      <td>...</td>\n",
       "      <td>...</td>\n",
       "      <td>...</td>\n",
       "    </tr>\n",
       "    <tr>\n",
       "      <th>3770</th>\n",
       "      <td>3738000070</td>\n",
       "      <td>98039</td>\n",
       "      <td>88th Avenue Northeast</td>\n",
       "      <td>800</td>\n",
       "      <td>1712750.00</td>\n",
       "      <td>1959</td>\n",
       "      <td>0</td>\n",
       "      <td>no</td>\n",
       "      <td>5</td>\n",
       "      <td>2.50</td>\n",
       "      <td>5</td>\n",
       "      <td>47.62</td>\n",
       "      <td>-122.22</td>\n",
       "      <td>spring</td>\n",
       "      <td>1884025.00</td>\n",
       "      <td>171275.00</td>\n",
       "    </tr>\n",
       "    <tr>\n",
       "      <th>3771</th>\n",
       "      <td>2525049246</td>\n",
       "      <td>98039</td>\n",
       "      <td>Northeast 12th Street</td>\n",
       "      <td>7739</td>\n",
       "      <td>1550000.00</td>\n",
       "      <td>1942</td>\n",
       "      <td>0</td>\n",
       "      <td>yes</td>\n",
       "      <td>2</td>\n",
       "      <td>2.25</td>\n",
       "      <td>4</td>\n",
       "      <td>47.62</td>\n",
       "      <td>-122.24</td>\n",
       "      <td>spring</td>\n",
       "      <td>2015000.00</td>\n",
       "      <td>465000.00</td>\n",
       "    </tr>\n",
       "    <tr>\n",
       "      <th>3772</th>\n",
       "      <td>3025300250</td>\n",
       "      <td>98039</td>\n",
       "      <td>Northeast 14th Street</td>\n",
       "      <td>7744</td>\n",
       "      <td>1620000.00</td>\n",
       "      <td>1977</td>\n",
       "      <td>0</td>\n",
       "      <td>no</td>\n",
       "      <td>4</td>\n",
       "      <td>2.25</td>\n",
       "      <td>4</td>\n",
       "      <td>47.62</td>\n",
       "      <td>-122.24</td>\n",
       "      <td>spring</td>\n",
       "      <td>1782000.00</td>\n",
       "      <td>162000.00</td>\n",
       "    </tr>\n",
       "    <tr>\n",
       "      <th>3773</th>\n",
       "      <td>3025300225</td>\n",
       "      <td>98039</td>\n",
       "      <td>Northeast 14th Street</td>\n",
       "      <td>7846</td>\n",
       "      <td>1450000.00</td>\n",
       "      <td>1953</td>\n",
       "      <td>0</td>\n",
       "      <td>no</td>\n",
       "      <td>5</td>\n",
       "      <td>2.75</td>\n",
       "      <td>4</td>\n",
       "      <td>47.62</td>\n",
       "      <td>-122.23</td>\n",
       "      <td>spring</td>\n",
       "      <td>1885000.00</td>\n",
       "      <td>435000.00</td>\n",
       "    </tr>\n",
       "    <tr>\n",
       "      <th>3774</th>\n",
       "      <td>2470200020</td>\n",
       "      <td>98039</td>\n",
       "      <td>Northeast 16th Street</td>\n",
       "      <td>7775</td>\n",
       "      <td>1880000.00</td>\n",
       "      <td>1968</td>\n",
       "      <td>0</td>\n",
       "      <td>no</td>\n",
       "      <td>4</td>\n",
       "      <td>2.75</td>\n",
       "      <td>4</td>\n",
       "      <td>47.62</td>\n",
       "      <td>-122.24</td>\n",
       "      <td>spring</td>\n",
       "      <td>2068000.00</td>\n",
       "      <td>188000.00</td>\n",
       "    </tr>\n",
       "  </tbody>\n",
       "</table>\n",
       "<p>3775 rows × 16 columns</p>\n",
       "</div>"
      ],
      "text/plain": [
       "              id  zipcode                   road house_number      price  \\\n",
       "0     4060000240    98178       69th Place South        11440  205425.00   \n",
       "1      561000075    98178      59th Avenue South        10636  260000.00   \n",
       "2     3352402236    98178    Beacon Avenue South        11708  252500.00   \n",
       "3      185000118    98178       56th Place South        12028  212000.00   \n",
       "4     3810000465    98178     South 118th Street         8046  243000.00   \n",
       "...          ...      ...                    ...          ...        ...   \n",
       "3770  3738000070    98039  88th Avenue Northeast          800 1712750.00   \n",
       "3771  2525049246    98039  Northeast 12th Street         7739 1550000.00   \n",
       "3772  3025300250    98039  Northeast 14th Street         7744 1620000.00   \n",
       "3773  3025300225    98039  Northeast 14th Street         7846 1450000.00   \n",
       "3774  2470200020    98039  Northeast 16th Street         7775 1880000.00   \n",
       "\n",
       "     construction_year  waterfront renovated  bedrooms  bathrooms  condition  \\\n",
       "0                 1945           0        no         2       1.00          4   \n",
       "1                 1959           0        no         3       1.00          4   \n",
       "2                 1956           0        no         3       2.00          5   \n",
       "3                 1946           0        no         4       2.00          5   \n",
       "4                 1943           0        no         2       1.00          4   \n",
       "...                ...         ...       ...       ...        ...        ...   \n",
       "3770              1959           0        no         5       2.50          5   \n",
       "3771              1942           0       yes         2       2.25          4   \n",
       "3772              1977           0        no         4       2.25          4   \n",
       "3773              1953           0        no         5       2.75          4   \n",
       "3774              1968           0        no         4       2.75          4   \n",
       "\n",
       "       lat    long best_season_to_sell  suggested_price    profit  \n",
       "0    47.50 -122.25              winter        267052.50  61627.50  \n",
       "1    47.51 -122.26              winter        286000.00  26000.00  \n",
       "2    47.50 -122.26              winter        277750.00  25250.00  \n",
       "3    47.49 -122.27              winter        275600.00  63600.00  \n",
       "4    47.50 -122.23              winter        315900.00  72900.00  \n",
       "...    ...     ...                 ...              ...       ...  \n",
       "3770 47.62 -122.22              spring       1884025.00 171275.00  \n",
       "3771 47.62 -122.24              spring       2015000.00 465000.00  \n",
       "3772 47.62 -122.24              spring       1782000.00 162000.00  \n",
       "3773 47.62 -122.23              spring       1885000.00 435000.00  \n",
       "3774 47.62 -122.24              spring       2068000.00 188000.00  \n",
       "\n",
       "[3775 rows x 16 columns]"
      ]
     },
     "execution_count": 185,
     "metadata": {},
     "output_type": "execute_result"
    }
   ],
   "source": [
    "purchase_table"
   ]
  }
 ],
 "metadata": {
  "kernelspec": {
   "display_name": "Python 3 (ipykernel)",
   "language": "python",
   "name": "python3"
  },
  "language_info": {
   "codemirror_mode": {
    "name": "ipython",
    "version": 3
   },
   "file_extension": ".py",
   "mimetype": "text/x-python",
   "name": "python",
   "nbconvert_exporter": "python",
   "pygments_lexer": "ipython3",
   "version": "3.9.16"
  },
  "varInspector": {
   "cols": {
    "lenName": 16,
    "lenType": 16,
    "lenVar": 40
   },
   "kernels_config": {
    "python": {
     "delete_cmd_postfix": "",
     "delete_cmd_prefix": "del ",
     "library": "var_list.py",
     "varRefreshCmd": "print(var_dic_list())"
    },
    "r": {
     "delete_cmd_postfix": ") ",
     "delete_cmd_prefix": "rm(",
     "library": "var_list.r",
     "varRefreshCmd": "cat(var_dic_list()) "
    }
   },
   "types_to_exclude": [
    "module",
    "function",
    "builtin_function_or_method",
    "instance",
    "_Feature"
   ],
   "window_display": false
  }
 },
 "nbformat": 4,
 "nbformat_minor": 5
}
